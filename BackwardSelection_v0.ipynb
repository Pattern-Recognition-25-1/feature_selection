{
  "nbformat": 4,
  "nbformat_minor": 0,
  "metadata": {
    "colab": {
      "provenance": [],
      "include_colab_link": true
    },
    "kernelspec": {
      "name": "python3",
      "display_name": "Python 3"
    },
    "language_info": {
      "name": "python"
    }
  },
  "cells": [
    {
      "cell_type": "markdown",
      "metadata": {
        "id": "view-in-github",
        "colab_type": "text"
      },
      "source": [
        "<a href=\"https://colab.research.google.com/github/leehimcm/feature_selection/blob/main/BackwardSelection_v0.ipynb\" target=\"_parent\"><img src=\"https://colab.research.google.com/assets/colab-badge.svg\" alt=\"Open In Colab\"/></a>"
      ]
    },
    {
      "cell_type": "code",
      "execution_count": null,
      "metadata": {
        "colab": {
          "base_uri": "https://localhost:8080/"
        },
        "id": "pSF9mNA9dkCL",
        "outputId": "29e033a6-b350-4d5f-8850-4d3ef3e99571"
      },
      "outputs": [
        {
          "output_type": "stream",
          "name": "stdout",
          "text": [
            "Mounted at /content/drive\n"
          ]
        }
      ],
      "source": [
        "from google.colab import drive\n",
        "drive.mount('/content/drive')"
      ]
    },
    {
      "cell_type": "code",
      "source": [
        "# 작업 디렉토리 변경\n",
        "import os\n",
        "print(os.getcwd(), end=' -> ')\n",
        "os.chdir('/content/drive/MyDrive/Colab Notebooks/25-1pattern_recognition')\n",
        "print(os.getcwd())"
      ],
      "metadata": {
        "colab": {
          "base_uri": "https://localhost:8080/"
        },
        "id": "P2o5iqtPhx0F",
        "outputId": "47605eb7-cf5a-41c4-a840-2e06e0ab3ff8"
      },
      "execution_count": null,
      "outputs": [
        {
          "output_type": "stream",
          "name": "stdout",
          "text": [
            "/content -> /content/drive/MyDrive/Colab Notebooks/25-1pattern_recognition\n"
          ]
        }
      ]
    },
    {
      "cell_type": "code",
      "source": [
        "import numpy as np\n",
        "import pandas as pd\n",
        "import seaborn as sns\n",
        "import matplotlib.pyplot as plt\n",
        "from sklearn.preprocessing import StandardScaler\n",
        "from sklearn.decomposition import PCA\n",
        "\n",
        "# CSV 파일 불러오기\n",
        "df = pd.read_csv('train.csv')"
      ],
      "metadata": {
        "collapsed": true,
        "id": "360oInGdh5l1"
      },
      "execution_count": null,
      "outputs": []
    },
    {
      "cell_type": "markdown",
      "source": [
        "# **데이터 전처리**"
      ],
      "metadata": {
        "id": "xbWefZlpiJBL"
      }
    },
    {
      "cell_type": "code",
      "source": [
        "# 많은 값들이 같은 값을 가지므로 삭제한다\n",
        "df.drop(columns=['kw_min_min'], axis=1, inplace=True)\n",
        "df.drop(columns=['kw_max_max'], axis=1, inplace=True)\n",
        "df.drop(columns=['n_non_stop_words'], axis=1, inplace=True)"
      ],
      "metadata": {
        "id": "5B8JBR45iSoT"
      },
      "execution_count": null,
      "outputs": []
    },
    {
      "cell_type": "code",
      "source": [
        "# 'id'는 학습에 사용할 값이 아니므로 삭제한다\n",
        "df.drop(columns=['id'], axis=1, inplace=True)"
      ],
      "metadata": {
        "id": "T_Jxvi4kibLM"
      },
      "execution_count": null,
      "outputs": []
    },
    {
      "cell_type": "code",
      "source": [
        "# 결측치 처리\n",
        "for col in df.columns:\n",
        "    if df[col].dtype == 'object': # 범주형 → 최빈값\n",
        "        df[col].fillna(df[col].mode()[0], inplace=True)\n",
        "    else: # 숫자형 → 중간값\n",
        "        df[col].fillna(df[col].median(), inplace=True)"
      ],
      "metadata": {
        "colab": {
          "base_uri": "https://localhost:8080/"
        },
        "id": "Q9U_rIkhiiKv",
        "outputId": "fba96e5a-5c3c-48b5-e2e7-6c4d8a18f8df",
        "collapsed": true
      },
      "execution_count": null,
      "outputs": [
        {
          "output_type": "stream",
          "name": "stderr",
          "text": [
            "<ipython-input-6-6a0114ce1937>:6: FutureWarning: A value is trying to be set on a copy of a DataFrame or Series through chained assignment using an inplace method.\n",
            "The behavior will change in pandas 3.0. This inplace method will never work because the intermediate object on which we are setting values always behaves as a copy.\n",
            "\n",
            "For example, when doing 'df[col].method(value, inplace=True)', try using 'df.method({col: value}, inplace=True)' or df[col] = df[col].method(value) instead, to perform the operation inplace on the original object.\n",
            "\n",
            "\n",
            "  df[col].fillna(df[col].median(), inplace=True)\n",
            "<ipython-input-6-6a0114ce1937>:4: FutureWarning: A value is trying to be set on a copy of a DataFrame or Series through chained assignment using an inplace method.\n",
            "The behavior will change in pandas 3.0. This inplace method will never work because the intermediate object on which we are setting values always behaves as a copy.\n",
            "\n",
            "For example, when doing 'df[col].method(value, inplace=True)', try using 'df.method({col: value}, inplace=True)' or df[col] = df[col].method(value) instead, to perform the operation inplace on the original object.\n",
            "\n",
            "\n",
            "  df[col].fillna(df[col].mode()[0], inplace=True)\n"
          ]
        }
      ]
    },
    {
      "cell_type": "code",
      "source": [
        "# is_weekend 변수 추가\n",
        "df['is_weekend'] = df['weekday'].isin(['Saturday', 'Sunday']).astype(int)\n",
        "\n",
        "# 범주형 데이터 One-Hot Encoding\n",
        "df = pd.get_dummies(df, columns=['data_channel', 'weekday'], drop_first=True)"
      ],
      "metadata": {
        "id": "pJw2dyq9ifMQ"
      },
      "execution_count": null,
      "outputs": []
    },
    {
      "cell_type": "code",
      "source": [
        "# 입력 변수(X), 라벨(y) 분리\n",
        "X = df.drop(columns=['shares', 'y'])\n",
        "y = np.log1p(df['shares'])  # log(1 + shares) -> shares=0 일 경우 에러 방지\n",
        "\n",
        "# 정규화\n",
        "# scaler = StandardScaler()\n",
        "# X_scaled = scaler.fit_transform(X)\n",
        "\n",
        "# train, val set을 나눈 뒤에 정규화 진행해보자."
      ],
      "metadata": {
        "id": "vgzV8lXkiqWq"
      },
      "execution_count": null,
      "outputs": []
    },
    {
      "cell_type": "markdown",
      "source": [
        "# **Backward Selection**"
      ],
      "metadata": {
        "id": "m5jS7SuIjHJT"
      }
    },
    {
      "cell_type": "code",
      "source": [
        "from sklearn.model_selection import train_test_split\n",
        "from sklearn.linear_model import Ridge\n",
        "from sklearn.metrics import r2_score"
      ],
      "metadata": {
        "id": "Ll8OexTtjdMI"
      },
      "execution_count": null,
      "outputs": []
    },
    {
      "cell_type": "markdown",
      "source": [
        "## 정규화"
      ],
      "metadata": {
        "id": "JC-g0XA5lz0t"
      }
    },
    {
      "cell_type": "code",
      "source": [
        "# PCA 중요도 순서대로 feature가 담긴 list 저장\n",
        "# (\"preprocessing_v0_modified.ipynb\" 마지막 셀의 출력 결과 복사, 붙여넣기)\n",
        "important_features_ranked_index = [\n",
        " 'data_channel_Lifestyle',\n",
        " 'kw_avg_max',\n",
        " 'global_rate_positive_words',\n",
        " 'kw_min_avg',\n",
        " 'data_channel_World',\n",
        " 'min_positive_polarity',\n",
        " 'LDA_00',\n",
        " 'min_negative_polarity',\n",
        " 'num_hrefs',\n",
        " 'LDA_02',\n",
        " 'global_rate_negative_words',\n",
        " 'self_reference_min_shares',\n",
        " 'num_keywords',\n",
        " 'data_channel_Tech',\n",
        " 'LDA_01',\n",
        " 'kw_max_avg',\n",
        " 'self_reference_max_shares',\n",
        " 'LDA_04',\n",
        " 'LDA_03',\n",
        " 'num_self_hrefs',\n",
        " 'kw_max_min',\n",
        " 'num_videos',\n",
        " 'abs_title_sentiment_polarity',\n",
        " 'rate_positive_words',\n",
        " 'num_imgs',\n",
        " 'global_sentiment_polarity',\n",
        " 'kw_min_max',\n",
        " 'self_reference_avg_sharess',\n",
        " 'data_channel_Entertainment',\n",
        " 'max_negative_polarity',\n",
        " 'average_token_length',\n",
        " 'title_subjectivity',\n",
        " 'data_channel_Social Media',\n",
        " 'abs_title_subjectivity',\n",
        " 'kw_avg_min',\n",
        " 'n_non_stop_unique_tokens',\n",
        " 'kw_avg_avg',\n",
        " 'avg_negative_polarity',\n",
        " 'rate_negative_words',\n",
        " 'max_positive_polarity',\n",
        " 'n_tokens_title',\n",
        " 'n_unique_tokens',\n",
        " 'avg_positive_polarity',\n",
        " 'n_tokens_content',\n",
        " 'title_sentiment_polarity',\n",
        " 'weekday_Saturday',\n",
        " 'weekday_Sunday',\n",
        " 'is_weekend',\n",
        " 'global_subjectivity',\n",
        " 'weekday_Thursday',\n",
        " 'weekday_Monday',\n",
        " 'weekday_Tuesday',\n",
        " 'weekday_Wednesday']"
      ],
      "metadata": {
        "id": "QYr9qgw8kB3T"
      },
      "execution_count": null,
      "outputs": []
    },
    {
      "cell_type": "code",
      "source": [
        "# train, val set 나누기\n",
        "X_train, X_val, y_train, y_val = train_test_split(X, y, train_size=0.8, random_state=42)"
      ],
      "metadata": {
        "id": "3S6-xKY2i7JR"
      },
      "execution_count": null,
      "outputs": []
    },
    {
      "cell_type": "code",
      "source": [
        "# 정규화\n",
        "scaler = StandardScaler()\n",
        "\n",
        "# 학습 데이터에 scaler를 fit, transform\n",
        "X_train_scaled_array = scaler.fit_transform(X_train)\n",
        "# list를 이용해 feature을 선택할 수 있게끔 하기 위해서 pandas DataFrame으로 수정\n",
        "X_train_scaled = pd.DataFrame(X_train_scaled_array, columns=important_features_ranked_index, index=X_train.index)\n",
        "\n",
        "# 학습 데이터에 맞게 fit된 scaler로 검증 데이터를 transform\n",
        "X_val_scaled_array = scaler.transform(X_val)\n",
        "# list를 이용해 feature을 선택할 수 있게끔 하기 위해서 pandas DataFrame으로 수정\n",
        "X_val_scaled = pd.DataFrame(X_val_scaled_array, columns=important_features_ranked_index, index=X_val.index)"
      ],
      "metadata": {
        "id": "KhZv5-Q4jrxA"
      },
      "execution_count": null,
      "outputs": []
    },
    {
      "cell_type": "markdown",
      "source": [
        "## 함수 정의"
      ],
      "metadata": {
        "id": "cck_qdasl56O"
      }
    },
    {
      "cell_type": "markdown",
      "source": [
        "#### **fixed_optional_split**: 고정 리스트와 선택 리스트 만들기"
      ],
      "metadata": {
        "id": "sHp9DawfmPZd"
      }
    },
    {
      "cell_type": "markdown",
      "source": [
        "PCA 중요도 순위에서 몇 순위까지 고정하고 싶은지 바꾸고 싶을 때 사용한다. <br>\n",
        "forward 함수를 호출하기 전에 사용해서, <br>\n",
        "이 함수의 리턴값을 저장해서(fixed_features, optional_features) forward에 인수로 넣어주면 된다."
      ],
      "metadata": {
        "id": "-Sf9j1zZqvTl"
      }
    },
    {
      "cell_type": "code",
      "source": [
        "# 고정 리스트와 선택 리스트 만드는 함수 정의\n",
        "def fixed_optional_split(fixed_num):\n",
        "    # 고정된 리스트: 고정 개수만큼, PCA 중요도 순서대로 저장\n",
        "    fixed = important_features_ranked_index[:fixed_num]\n",
        "\n",
        "    # 선택을 위한 리스트: 나머지를 저장\n",
        "    optional = important_features_ranked_index[fixed_num:]\n",
        "\n",
        "    return fixed, optional"
      ],
      "metadata": {
        "id": "4m_-qMPulZdV"
      },
      "execution_count": null,
      "outputs": []
    },
    {
      "cell_type": "code",
      "source": [
        "fixed_features = []\n",
        "optional_features = []"
      ],
      "metadata": {
        "id": "enG51tRipiJi"
      },
      "execution_count": null,
      "outputs": []
    },
    {
      "cell_type": "code",
      "source": [
        "# 다음과 같이 사용\n",
        "fixed_features, optional_features = fixed_optional_split(20)"
      ],
      "metadata": {
        "id": "1ae6ZzQVp4iW"
      },
      "execution_count": null,
      "outputs": []
    },
    {
      "cell_type": "code",
      "source": [
        "# 잘 들어갔는지 확인해보는 코드\n",
        "fixed_features == important_features_ranked_index[:20]"
      ],
      "metadata": {
        "colab": {
          "base_uri": "https://localhost:8080/"
        },
        "id": "REEx7p2gqC2P",
        "outputId": "8b9b360a-0d79-4fba-f1df-b89e776f1cce"
      },
      "execution_count": null,
      "outputs": [
        {
          "output_type": "execute_result",
          "data": {
            "text/plain": [
              "True"
            ]
          },
          "metadata": {},
          "execution_count": 19
        }
      ]
    },
    {
      "cell_type": "markdown",
      "source": [
        "#### **adjusted_r2**: Adjusted R^2를 계산하기"
      ],
      "metadata": {
        "id": "VkQt5c4VrAIp"
      }
    },
    {
      "cell_type": "markdown",
      "source": [
        "RidgePerf(성능 지표를 리턴하는 함수)의 내부에서 사용할 함수. <br>\n",
        "- R2: R2 값 <br>\n",
        "- N: number of examples (of validation set) (즉, 행의 수) <br>\n",
        "- P: number of input variables(features) (of validation set) (즉, 열의 수)"
      ],
      "metadata": {
        "id": "jvi8UNursUdd"
      }
    },
    {
      "cell_type": "code",
      "source": [
        "# R2값을 이용해 Adjusted R2를 계산하는 함수 adjusted_r2 정의\n",
        "def adjusted_r2(R2, N, P):\n",
        "    return 1 - (((1 - R2) * (N - 1)) / (N - P - 1))"
      ],
      "metadata": {
        "id": "pAjWx68lsNND"
      },
      "execution_count": null,
      "outputs": []
    },
    {
      "cell_type": "markdown",
      "source": [
        "#### **RidgePerf**: Ridge regression 모델을 학습시키고 성능 지표(Adjusted R2)를 리턴 받기"
      ],
      "metadata": {
        "id": "07ADQMvKtClR"
      }
    },
    {
      "cell_type": "markdown",
      "source": [
        "train과 validation set을 인수로 주면, Adjusted R2 값을 리턴하는 함수. <br>\n",
        "- sklearn.linear_model 에서 import한 Ridge를 사용. <br>\n",
        "- alpha는 1을 사용. (결정 과정은 아래 'Ridge 파라미터(alpha) 값 테스트'부분 참고)\n",
        "- 나머지 인수들은 기본값.\n",
        "- sklearn.metrics에서 import한 r2_score과, 위에서 정의한 adjusted_r2 함수를 사용."
      ],
      "metadata": {
        "id": "7Tp8GMs2ASKF"
      }
    },
    {
      "cell_type": "markdown",
      "source": [
        "alpha=1로 결정\n",
        "(ForwardSelection_v0.ipynb 참고)"
      ],
      "metadata": {
        "id": "6uf9FfCMCLwr"
      }
    },
    {
      "cell_type": "code",
      "source": [
        "# Ridge 모델을 학습시키고 Adjusted R2 성능 지표를 리턴하는 함수 RidgePerf 정의\n",
        "def RidgePerf(X_tr, X_vl, y_tr, y_vl, alpha=1):\n",
        "    model = Ridge(alpha = alpha)\n",
        "    model.fit(X_tr, y_tr)\n",
        "    y_predict = model.predict(X_vl)\n",
        "    r2 = r2_score(y_vl, y_predict)\n",
        "    r2_adj = adjusted_r2(r2, X_vl.shape[0], X_vl.shape[1])\n",
        "    # 성능 지표로 Adjusted R2 사용\n",
        "    metric = r2_adj\n",
        "    return metric"
      ],
      "metadata": {
        "id": "Mrf3NSe_tQcS"
      },
      "execution_count": null,
      "outputs": []
    },
    {
      "cell_type": "code",
      "source": [
        "def backward_selection(X_trn, X_vld, y_trn, y_vld, current_features, remaining_features, alpha=1, max_no_improvement=3):\n",
        "    # print(f\"고정 개수: {len(current_features)}\")\n",
        "    # print(f\"fixed_list: {current_features}\")\n",
        "\n",
        "    # 모든 feature로 학습한 성능 저장\n",
        "    best_score = RidgePerf(X_trn[current_features], X_vld[current_features], y_trn, y_vld, alpha=alpha)\n",
        "    print(f\"Initial Adjusted R²: {best_score:.4f}\")\n",
        "\n",
        "    no_improvement_count = 0  # 성능이 개선되지 않은 횟수 저장\n",
        "    improved = True\n",
        "\n",
        "    while improved:\n",
        "        improved = False\n",
        "        scores_with_candidates = []\n",
        "\n",
        "        # Backward Step: 제거\n",
        "        for candidate in current_features:\n",
        "            test_features = [f for f in current_features if f != candidate]\n",
        "            if not test_features:\n",
        "                continue\n",
        "            score = RidgePerf(X_trn[test_features], X_vld[test_features], y_trn, y_vld, alpha=alpha)\n",
        "            scores_with_candidates.append(('remove', candidate, score))\n",
        "\n",
        "        # 가장 성능이 좋아진 경우 찾기\n",
        "        scores_with_candidates.sort(key=lambda x: x[2], reverse=True)\n",
        "        best_move, best_feature, best_move_score = scores_with_candidates[0]\n",
        "\n",
        "        if best_move_score > best_score:\n",
        "            improved = True\n",
        "            best_score = best_move_score\n",
        "            no_improvement_count = 0  # 성능이 개선되었으므로 리셋\n",
        "            if best_move == 'add':\n",
        "                current_features.append(best_feature)\n",
        "                remaining_features.remove(best_feature)\n",
        "                print(f\"[Add] {best_feature} → Adjusted R²: {best_score:.4f}\")\n",
        "            elif best_move == 'remove':\n",
        "                current_features.remove(best_feature)\n",
        "                remaining_features.append(best_feature)\n",
        "                print(f\"[Remove] {best_feature} → Adjusted R²: {best_score:.4f}\")\n",
        "        else:\n",
        "            no_improvement_count += 1\n",
        "            if no_improvement_count >= max_no_improvement:\n",
        "                improved = False\n",
        "                print(f\"No improvement for {max_no_improvement} iterations. Stopping...\")\n",
        "    print(f\"# of features: {len(current_features)}\")\n",
        "    print(f\"best Adjusted R²: {best_score:.4f}\")\n",
        "    return current_features, best_score\n"
      ],
      "metadata": {
        "id": "qpPDHyPB7emt"
      },
      "execution_count": null,
      "outputs": []
    },
    {
      "cell_type": "markdown",
      "source": [
        "# Stepwise Selection 진행하기"
      ],
      "metadata": {
        "id": "lNsbCX4TGTyN"
      }
    },
    {
      "cell_type": "code",
      "source": [
        "# Nlist: PCA 중요도가 가장 높은 1개, 중요도가 0.1보다 큰 6개, 중요도 시각화에서 큰 감소가 보이는 13, 21, 31개를 골라보았다.\n",
        "# ('preprocessing_v0_modified.ipynb' 파일 참고)\n",
        "\n",
        "N = len(important_features_ranked_index) # 모든 feature를 fixed_list에 포함시킨다\n",
        "fixed_list, optional_list = fixed_optional_split(N)\n",
        "\n",
        "selected_features, best_score = backward_selection(\n",
        "    X_trn=X_train_scaled,\n",
        "    X_vld=X_val_scaled,\n",
        "    y_trn=y_train,\n",
        "    y_vld=y_val,\n",
        "    current_features=fixed_list,\n",
        "    remaining_features=optional_list,\n",
        "    alpha=1\n",
        ")\n",
        "\n",
        "# 결과 저장\n",
        "result = (selected_features, best_score)\n",
        "print(f\"best_score: {best_score:.4f}\")\n",
        "\n",
        "# # 가장 좋은 성능을 보인 N값과 그 성능을 출력\n",
        "# best_perf_subset = max(results_dict, key=lambda k: results_dict[k][1])\n",
        "# best_perf = results_dict[best_perf_subset]\n",
        "# print()\n",
        "# print(f\"best_perf_subset = {best_perf_subset}\")\n",
        "# print(f\"best_perf[1] = {best_perf[1]:.4f}\\n\")\n"
      ],
      "metadata": {
        "colab": {
          "base_uri": "https://localhost:8080/"
        },
        "id": "qyIgQz6H7wli",
        "outputId": "18a93a17-bfef-49ff-edd7-96751ae14334"
      },
      "execution_count": null,
      "outputs": [
        {
          "output_type": "stream",
          "name": "stdout",
          "text": [
            "Initial Adjusted R²: 0.1002\n",
            "[Remove] data_channel_Tech → Adjusted R²: 0.1022\n",
            "[Remove] n_tokens_title → Adjusted R²: 0.1028\n",
            "[Remove] kw_avg_min → Adjusted R²: 0.1033\n",
            "[Remove] kw_avg_avg → Adjusted R²: 0.1039\n",
            "[Remove] avg_positive_polarity → Adjusted R²: 0.1043\n",
            "[Remove] self_reference_min_shares → Adjusted R²: 0.1047\n",
            "[Remove] LDA_00 → Adjusted R²: 0.1050\n",
            "[Remove] min_negative_polarity → Adjusted R²: 0.1053\n",
            "[Remove] data_channel_Entertainment → Adjusted R²: 0.1056\n",
            "[Remove] title_subjectivity → Adjusted R²: 0.1059\n",
            "[Remove] abs_title_subjectivity → Adjusted R²: 0.1061\n",
            "[Remove] weekday_Monday → Adjusted R²: 0.1064\n",
            "[Remove] is_weekend → Adjusted R²: 0.1068\n",
            "[Remove] num_videos → Adjusted R²: 0.1070\n",
            "[Remove] weekday_Tuesday → Adjusted R²: 0.1073\n",
            "[Remove] global_rate_negative_words → Adjusted R²: 0.1075\n",
            "[Remove] global_rate_positive_words → Adjusted R²: 0.1077\n",
            "[Remove] self_reference_avg_sharess → Adjusted R²: 0.1079\n",
            "[Remove] num_self_hrefs → Adjusted R²: 0.1081\n",
            "[Remove] global_subjectivity → Adjusted R²: 0.1083\n",
            "[Remove] weekday_Thursday → Adjusted R²: 0.1086\n",
            "[Remove] weekday_Wednesday → Adjusted R²: 0.1088\n",
            "[Remove] kw_min_max → Adjusted R²: 0.1089\n",
            "[Remove] kw_min_avg → Adjusted R²: 0.1091\n",
            "[Remove] LDA_01 → Adjusted R²: 0.1092\n",
            "[Remove] rate_negative_words → Adjusted R²: 0.1093\n",
            "[Remove] n_non_stop_unique_tokens → Adjusted R²: 0.1094\n",
            "[Remove] num_keywords → Adjusted R²: 0.1095\n",
            "[Remove] LDA_03 → Adjusted R²: 0.1096\n",
            "[Remove] min_positive_polarity → Adjusted R²: 0.1098\n",
            "[Remove] data_channel_Lifestyle → Adjusted R²: 0.1099\n",
            "[Remove] num_hrefs → Adjusted R²: 0.1099\n",
            "# of features: 21\n",
            "best Adjusted R²: 0.1099\n",
            "best_score: 0.1099\n"
          ]
        }
      ]
    },
    {
      "cell_type": "code",
      "source": [
        "perf_list = [result]\n",
        "df_perf = pd.DataFrame(perf_list, columns=['N', 'performance'])\n",
        "print(df_perf)"
      ],
      "metadata": {
        "colab": {
          "base_uri": "https://localhost:8080/"
        },
        "id": "x6NyCdnFKvUR",
        "outputId": "c4e4784e-b3b4-4d37-d770-5c1470084bf2"
      },
      "execution_count": null,
      "outputs": [
        {
          "output_type": "stream",
          "name": "stdout",
          "text": [
            "                                                   N  performance\n",
            "0  [kw_avg_max, data_channel_World, LDA_02, kw_ma...     0.109928\n"
          ]
        }
      ]
    },
    {
      "cell_type": "code",
      "source": [
        "# 가장 좋은 성능의 subset(list) 출력\n",
        "result[0]"
      ],
      "metadata": {
        "colab": {
          "base_uri": "https://localhost:8080/"
        },
        "id": "3DPy0EytQ4zH",
        "outputId": "915de006-5c7d-42cf-842a-158fa39b5cdc"
      },
      "execution_count": null,
      "outputs": [
        {
          "output_type": "execute_result",
          "data": {
            "text/plain": [
              "['kw_avg_max',\n",
              " 'data_channel_World',\n",
              " 'LDA_02',\n",
              " 'kw_max_avg',\n",
              " 'self_reference_max_shares',\n",
              " 'LDA_04',\n",
              " 'kw_max_min',\n",
              " 'abs_title_sentiment_polarity',\n",
              " 'rate_positive_words',\n",
              " 'num_imgs',\n",
              " 'global_sentiment_polarity',\n",
              " 'max_negative_polarity',\n",
              " 'average_token_length',\n",
              " 'data_channel_Social Media',\n",
              " 'avg_negative_polarity',\n",
              " 'max_positive_polarity',\n",
              " 'n_unique_tokens',\n",
              " 'n_tokens_content',\n",
              " 'title_sentiment_polarity',\n",
              " 'weekday_Saturday',\n",
              " 'weekday_Sunday']"
            ]
          },
          "metadata": {},
          "execution_count": 20
        }
      ]
    },
    {
      "cell_type": "markdown",
      "source": [
        "# forward vs backward vs stepwise 결과 비교\n",
        "    Adjusted R2\n",
        "    - forward 0.109175\n",
        "    - backward 0.109928\n",
        "    - stepwise 0.109924\n",
        "\n",
        "    "
      ],
      "metadata": {
        "id": "JXJpjdgcIDcP"
      }
    },
    {
      "cell_type": "code",
      "source": [
        "'''\n",
        "forward\n",
        "['data_channel_Lifestyle',\n",
        " 'self_reference_max_shares',\n",
        " 'n_unique_tokens',\n",
        " 'abs_title_sentiment_polarity',\n",
        " 'avg_positive_polarity',\n",
        " 'title_sentiment_polarity',\n",
        " 'data_channel_World',\n",
        " 'LDA_04',\n",
        " 'weekday_Saturday',\n",
        " 'kw_max_avg',\n",
        " 'LDA_02',\n",
        " 'global_sentiment_polarity',\n",
        " 'global_rate_positive_words',\n",
        " 'n_tokens_content',\n",
        " 'kw_max_min',\n",
        " 'num_hrefs',\n",
        " 'num_videos',\n",
        " 'n_tokens_title',\n",
        " 'max_positive_polarity',\n",
        " 'data_channel_Social Media',\n",
        " 'weekday_Sunday']\n",
        "\n",
        "backward\n",
        "['kw_avg_max',\n",
        " 'data_channel_World',\n",
        " 'LDA_02',\n",
        " 'kw_max_avg',\n",
        " 'self_reference_max_shares',\n",
        " 'LDA_04',\n",
        " 'kw_max_min',\n",
        " 'abs_title_sentiment_polarity',\n",
        " 'rate_positive_words',\n",
        " 'num_imgs',\n",
        " 'global_sentiment_polarity',\n",
        " 'max_negative_polarity',\n",
        " 'average_token_length',\n",
        " 'data_channel_Social Media',\n",
        " 'avg_negative_polarity',\n",
        " 'max_positive_polarity',\n",
        " 'n_unique_tokens',\n",
        " 'n_tokens_content',\n",
        " 'title_sentiment_polarity',\n",
        " 'weekday_Saturday',\n",
        " 'weekday_Sunday']\n",
        "\n",
        " stepwise\n",
        " ['kw_avg_max',\n",
        " 'data_channel_World',\n",
        " 'LDA_02',\n",
        " 'kw_max_avg',\n",
        " 'self_reference_max_shares',\n",
        " 'LDA_04',\n",
        " 'kw_max_min',\n",
        " 'abs_title_sentiment_polarity',\n",
        " 'rate_positive_words',\n",
        " 'num_imgs',\n",
        " 'global_sentiment_polarity',\n",
        " 'max_negative_polarity',\n",
        " 'average_token_length',\n",
        " 'n_unique_tokens',\n",
        " 'title_sentiment_polarity',\n",
        " 'weekday_Saturday',\n",
        " 'n_tokens_content',\n",
        " 'n_tokens_title',\n",
        " 'max_positive_polarity',\n",
        " 'data_channel_Social Media']\n",
        "\n",
        "\n",
        "'''"
      ],
      "metadata": {
        "id": "RluHMdI6Dz3a"
      },
      "execution_count": null,
      "outputs": []
    },
    {
      "cell_type": "code",
      "source": [
        "'''\n",
        "backward, stepwise 공통 요소\n",
        "[\n",
        "    'kw_avg_max',\n",
        "    'data_channel_World',\n",
        "    'LDA_02',\n",
        "    'kw_max_avg',\n",
        "    'self_reference_max_shares',\n",
        "    'LDA_04',\n",
        "    'kw_max_min',\n",
        "    'abs_title_sentiment_polarity',\n",
        "    'rate_positive_words',\n",
        "    'num_imgs',\n",
        "    'global_sentiment_polarity',\n",
        "    'max_negative_polarity',\n",
        "    'average_token_length',\n",
        "    'data_channel_Social Media',\n",
        "    'max_positive_polarity',\n",
        "    'n_unique_tokens',\n",
        "    'n_tokens_content',\n",
        "    'title_sentiment_polarity',\n",
        "    'weekday_Saturday'\n",
        "]\n",
        "\n",
        "\n",
        "backward_only = [\n",
        "    'avg_negative_polarity',\n",
        "    'weekday_Sunday'\n",
        "]\n",
        "\n",
        "\n",
        "stepwise_only = [\n",
        "    'n_tokens_title'\n",
        "]\n",
        "\n",
        "\n",
        "'''"
      ],
      "metadata": {
        "id": "dVZUIXw_FlbJ"
      },
      "execution_count": null,
      "outputs": []
    },
    {
      "cell_type": "markdown",
      "source": [
        "향후 발전시킬 요소\n",
        "\n",
        "    - 전처리 할 때 이상치 제거\n",
        "    - AdjustedR2 이외에 다른 평가 지표(MSE, AIC, BIC 등)도 함께 비교"
      ],
      "metadata": {
        "id": "Y5uSyevHEyJh"
      }
    }
  ]
}