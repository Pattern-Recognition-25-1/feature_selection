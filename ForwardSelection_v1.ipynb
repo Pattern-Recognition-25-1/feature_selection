{
  "nbformat": 4,
  "nbformat_minor": 0,
  "metadata": {
    "colab": {
      "provenance": [],
      "collapsed_sections": [
        "xbWefZlpiJBL",
        "JC-g0XA5lz0t",
        "sHp9DawfmPZd"
      ]
    },
    "kernelspec": {
      "name": "python3",
      "display_name": "Python 3"
    },
    "language_info": {
      "name": "python"
    }
  },
  "cells": [
    {
      "cell_type": "markdown",
      "source": [
        "'ForwardSelection_v0.ipynb' 코드에서 성능 개선되지 않으면 중단 -> **3번 이상 개선되지 않으면 중단** 하는 조건으로 수정했습니다."
      ],
      "metadata": {
        "id": "dtiIb_JvG1U5"
      }
    },
    {
      "cell_type": "markdown",
      "source": [
        "\n",
        "\n",
        "---\n",
        "\n"
      ],
      "metadata": {
        "id": "zar1AMa-623r"
      }
    },
    {
      "cell_type": "code",
      "execution_count": 1,
      "metadata": {
        "colab": {
          "base_uri": "https://localhost:8080/"
        },
        "id": "pSF9mNA9dkCL",
        "outputId": "c816bad4-f91c-478b-9553-41cbcbb1ad4f"
      },
      "outputs": [
        {
          "output_type": "stream",
          "name": "stdout",
          "text": [
            "Mounted at /content/drive\n"
          ]
        }
      ],
      "source": [
        "from google.colab import drive\n",
        "drive.mount('/content/drive')"
      ]
    },
    {
      "cell_type": "code",
      "source": [
        "# 작업 디렉토리 변경\n",
        "import os\n",
        "print(os.getcwd(), end=' -> ')\n",
        "os.chdir('/content/drive/MyDrive/PatternRecognition/project')\n",
        "print(os.getcwd())"
      ],
      "metadata": {
        "colab": {
          "base_uri": "https://localhost:8080/"
        },
        "id": "P2o5iqtPhx0F",
        "outputId": "0597a853-0802-470e-b410-d8e17602e62f"
      },
      "execution_count": 2,
      "outputs": [
        {
          "output_type": "stream",
          "name": "stdout",
          "text": [
            "/content -> /content/drive/MyDrive/PatternRecognition/project\n"
          ]
        }
      ]
    },
    {
      "cell_type": "code",
      "source": [
        "import numpy as np\n",
        "import pandas as pd\n",
        "import seaborn as sns\n",
        "import matplotlib.pyplot as plt\n",
        "from sklearn.preprocessing import StandardScaler\n",
        "from sklearn.decomposition import PCA\n",
        "\n",
        "# CSV 파일 불러오기\n",
        "df = pd.read_csv('train.csv')\n",
        "df.head()"
      ],
      "metadata": {
        "colab": {
          "base_uri": "https://localhost:8080/",
          "height": 255
        },
        "collapsed": true,
        "id": "360oInGdh5l1",
        "outputId": "df018276-1340-4154-bae2-1782a7ac33f5"
      },
      "execution_count": 3,
      "outputs": [
        {
          "output_type": "execute_result",
          "data": {
            "text/plain": [
              "      id  n_tokens_title  n_tokens_content  n_unique_tokens  n_non_stop_words  \\\n",
              "0  17335             9.0             409.0         0.501326               1.0   \n",
              "1  21242            10.0             317.0         0.725086               1.0   \n",
              "2   9448            11.0             447.0         0.584091               1.0   \n",
              "3  36797            13.0             143.0         0.638298               NaN   \n",
              "4  29504            17.0             576.0         0.524412               1.0   \n",
              "\n",
              "   n_non_stop_unique_tokens  num_hrefs  num_self_hrefs  num_imgs  num_videos  \\\n",
              "0                  0.587361       23.0             2.0      11.0         0.0   \n",
              "1                  0.830097        6.0             3.0       NaN        21.0   \n",
              "2                  0.730104        NaN             1.0       1.0         1.0   \n",
              "3                  0.787500        3.0             2.0       NaN         0.0   \n",
              "4                  0.714286        8.0             3.0       NaN         0.0   \n",
              "\n",
              "   ...  min_negative_polarity  max_negative_polarity  title_subjectivity  \\\n",
              "0  ...                -0.1875                   -0.1                0.50   \n",
              "1  ...                -0.6000                    NaN                0.00   \n",
              "2  ...                -0.5000                   -0.1                0.75   \n",
              "3  ...                 0.0000                    0.0                1.00   \n",
              "4  ...                -1.0000                   -0.1                0.00   \n",
              "\n",
              "   title_sentiment_polarity  abs_title_subjectivity  \\\n",
              "0                     0.500                    0.00   \n",
              "1                     0.000                    0.50   \n",
              "2                     0.125                    0.25   \n",
              "3                       NaN                    0.50   \n",
              "4                     0.000                    0.50   \n",
              "\n",
              "   abs_title_sentiment_polarity  data_channel    weekday  shares  y  \n",
              "0                         0.500     Lifestyle        NaN     801  0  \n",
              "1                         0.000     Lifestyle    Tuesday     426  0  \n",
              "2                         0.125         World     Friday    2400  1  \n",
              "3                         0.500  Social Media        NaN    1100  0  \n",
              "4                         0.000         World  Wednesday    1500  1  \n",
              "\n",
              "[5 rows x 49 columns]"
            ],
            "text/html": [
              "\n",
              "  <div id=\"df-65d32ed0-fd36-4182-9ba0-4257997ccd8e\" class=\"colab-df-container\">\n",
              "    <div>\n",
              "<style scoped>\n",
              "    .dataframe tbody tr th:only-of-type {\n",
              "        vertical-align: middle;\n",
              "    }\n",
              "\n",
              "    .dataframe tbody tr th {\n",
              "        vertical-align: top;\n",
              "    }\n",
              "\n",
              "    .dataframe thead th {\n",
              "        text-align: right;\n",
              "    }\n",
              "</style>\n",
              "<table border=\"1\" class=\"dataframe\">\n",
              "  <thead>\n",
              "    <tr style=\"text-align: right;\">\n",
              "      <th></th>\n",
              "      <th>id</th>\n",
              "      <th>n_tokens_title</th>\n",
              "      <th>n_tokens_content</th>\n",
              "      <th>n_unique_tokens</th>\n",
              "      <th>n_non_stop_words</th>\n",
              "      <th>n_non_stop_unique_tokens</th>\n",
              "      <th>num_hrefs</th>\n",
              "      <th>num_self_hrefs</th>\n",
              "      <th>num_imgs</th>\n",
              "      <th>num_videos</th>\n",
              "      <th>...</th>\n",
              "      <th>min_negative_polarity</th>\n",
              "      <th>max_negative_polarity</th>\n",
              "      <th>title_subjectivity</th>\n",
              "      <th>title_sentiment_polarity</th>\n",
              "      <th>abs_title_subjectivity</th>\n",
              "      <th>abs_title_sentiment_polarity</th>\n",
              "      <th>data_channel</th>\n",
              "      <th>weekday</th>\n",
              "      <th>shares</th>\n",
              "      <th>y</th>\n",
              "    </tr>\n",
              "  </thead>\n",
              "  <tbody>\n",
              "    <tr>\n",
              "      <th>0</th>\n",
              "      <td>17335</td>\n",
              "      <td>9.0</td>\n",
              "      <td>409.0</td>\n",
              "      <td>0.501326</td>\n",
              "      <td>1.0</td>\n",
              "      <td>0.587361</td>\n",
              "      <td>23.0</td>\n",
              "      <td>2.0</td>\n",
              "      <td>11.0</td>\n",
              "      <td>0.0</td>\n",
              "      <td>...</td>\n",
              "      <td>-0.1875</td>\n",
              "      <td>-0.1</td>\n",
              "      <td>0.50</td>\n",
              "      <td>0.500</td>\n",
              "      <td>0.00</td>\n",
              "      <td>0.500</td>\n",
              "      <td>Lifestyle</td>\n",
              "      <td>NaN</td>\n",
              "      <td>801</td>\n",
              "      <td>0</td>\n",
              "    </tr>\n",
              "    <tr>\n",
              "      <th>1</th>\n",
              "      <td>21242</td>\n",
              "      <td>10.0</td>\n",
              "      <td>317.0</td>\n",
              "      <td>0.725086</td>\n",
              "      <td>1.0</td>\n",
              "      <td>0.830097</td>\n",
              "      <td>6.0</td>\n",
              "      <td>3.0</td>\n",
              "      <td>NaN</td>\n",
              "      <td>21.0</td>\n",
              "      <td>...</td>\n",
              "      <td>-0.6000</td>\n",
              "      <td>NaN</td>\n",
              "      <td>0.00</td>\n",
              "      <td>0.000</td>\n",
              "      <td>0.50</td>\n",
              "      <td>0.000</td>\n",
              "      <td>Lifestyle</td>\n",
              "      <td>Tuesday</td>\n",
              "      <td>426</td>\n",
              "      <td>0</td>\n",
              "    </tr>\n",
              "    <tr>\n",
              "      <th>2</th>\n",
              "      <td>9448</td>\n",
              "      <td>11.0</td>\n",
              "      <td>447.0</td>\n",
              "      <td>0.584091</td>\n",
              "      <td>1.0</td>\n",
              "      <td>0.730104</td>\n",
              "      <td>NaN</td>\n",
              "      <td>1.0</td>\n",
              "      <td>1.0</td>\n",
              "      <td>1.0</td>\n",
              "      <td>...</td>\n",
              "      <td>-0.5000</td>\n",
              "      <td>-0.1</td>\n",
              "      <td>0.75</td>\n",
              "      <td>0.125</td>\n",
              "      <td>0.25</td>\n",
              "      <td>0.125</td>\n",
              "      <td>World</td>\n",
              "      <td>Friday</td>\n",
              "      <td>2400</td>\n",
              "      <td>1</td>\n",
              "    </tr>\n",
              "    <tr>\n",
              "      <th>3</th>\n",
              "      <td>36797</td>\n",
              "      <td>13.0</td>\n",
              "      <td>143.0</td>\n",
              "      <td>0.638298</td>\n",
              "      <td>NaN</td>\n",
              "      <td>0.787500</td>\n",
              "      <td>3.0</td>\n",
              "      <td>2.0</td>\n",
              "      <td>NaN</td>\n",
              "      <td>0.0</td>\n",
              "      <td>...</td>\n",
              "      <td>0.0000</td>\n",
              "      <td>0.0</td>\n",
              "      <td>1.00</td>\n",
              "      <td>NaN</td>\n",
              "      <td>0.50</td>\n",
              "      <td>0.500</td>\n",
              "      <td>Social Media</td>\n",
              "      <td>NaN</td>\n",
              "      <td>1100</td>\n",
              "      <td>0</td>\n",
              "    </tr>\n",
              "    <tr>\n",
              "      <th>4</th>\n",
              "      <td>29504</td>\n",
              "      <td>17.0</td>\n",
              "      <td>576.0</td>\n",
              "      <td>0.524412</td>\n",
              "      <td>1.0</td>\n",
              "      <td>0.714286</td>\n",
              "      <td>8.0</td>\n",
              "      <td>3.0</td>\n",
              "      <td>NaN</td>\n",
              "      <td>0.0</td>\n",
              "      <td>...</td>\n",
              "      <td>-1.0000</td>\n",
              "      <td>-0.1</td>\n",
              "      <td>0.00</td>\n",
              "      <td>0.000</td>\n",
              "      <td>0.50</td>\n",
              "      <td>0.000</td>\n",
              "      <td>World</td>\n",
              "      <td>Wednesday</td>\n",
              "      <td>1500</td>\n",
              "      <td>1</td>\n",
              "    </tr>\n",
              "  </tbody>\n",
              "</table>\n",
              "<p>5 rows × 49 columns</p>\n",
              "</div>\n",
              "    <div class=\"colab-df-buttons\">\n",
              "\n",
              "  <div class=\"colab-df-container\">\n",
              "    <button class=\"colab-df-convert\" onclick=\"convertToInteractive('df-65d32ed0-fd36-4182-9ba0-4257997ccd8e')\"\n",
              "            title=\"Convert this dataframe to an interactive table.\"\n",
              "            style=\"display:none;\">\n",
              "\n",
              "  <svg xmlns=\"http://www.w3.org/2000/svg\" height=\"24px\" viewBox=\"0 -960 960 960\">\n",
              "    <path d=\"M120-120v-720h720v720H120Zm60-500h600v-160H180v160Zm220 220h160v-160H400v160Zm0 220h160v-160H400v160ZM180-400h160v-160H180v160Zm440 0h160v-160H620v160ZM180-180h160v-160H180v160Zm440 0h160v-160H620v160Z\"/>\n",
              "  </svg>\n",
              "    </button>\n",
              "\n",
              "  <style>\n",
              "    .colab-df-container {\n",
              "      display:flex;\n",
              "      gap: 12px;\n",
              "    }\n",
              "\n",
              "    .colab-df-convert {\n",
              "      background-color: #E8F0FE;\n",
              "      border: none;\n",
              "      border-radius: 50%;\n",
              "      cursor: pointer;\n",
              "      display: none;\n",
              "      fill: #1967D2;\n",
              "      height: 32px;\n",
              "      padding: 0 0 0 0;\n",
              "      width: 32px;\n",
              "    }\n",
              "\n",
              "    .colab-df-convert:hover {\n",
              "      background-color: #E2EBFA;\n",
              "      box-shadow: 0px 1px 2px rgba(60, 64, 67, 0.3), 0px 1px 3px 1px rgba(60, 64, 67, 0.15);\n",
              "      fill: #174EA6;\n",
              "    }\n",
              "\n",
              "    .colab-df-buttons div {\n",
              "      margin-bottom: 4px;\n",
              "    }\n",
              "\n",
              "    [theme=dark] .colab-df-convert {\n",
              "      background-color: #3B4455;\n",
              "      fill: #D2E3FC;\n",
              "    }\n",
              "\n",
              "    [theme=dark] .colab-df-convert:hover {\n",
              "      background-color: #434B5C;\n",
              "      box-shadow: 0px 1px 3px 1px rgba(0, 0, 0, 0.15);\n",
              "      filter: drop-shadow(0px 1px 2px rgba(0, 0, 0, 0.3));\n",
              "      fill: #FFFFFF;\n",
              "    }\n",
              "  </style>\n",
              "\n",
              "    <script>\n",
              "      const buttonEl =\n",
              "        document.querySelector('#df-65d32ed0-fd36-4182-9ba0-4257997ccd8e button.colab-df-convert');\n",
              "      buttonEl.style.display =\n",
              "        google.colab.kernel.accessAllowed ? 'block' : 'none';\n",
              "\n",
              "      async function convertToInteractive(key) {\n",
              "        const element = document.querySelector('#df-65d32ed0-fd36-4182-9ba0-4257997ccd8e');\n",
              "        const dataTable =\n",
              "          await google.colab.kernel.invokeFunction('convertToInteractive',\n",
              "                                                    [key], {});\n",
              "        if (!dataTable) return;\n",
              "\n",
              "        const docLinkHtml = 'Like what you see? Visit the ' +\n",
              "          '<a target=\"_blank\" href=https://colab.research.google.com/notebooks/data_table.ipynb>data table notebook</a>'\n",
              "          + ' to learn more about interactive tables.';\n",
              "        element.innerHTML = '';\n",
              "        dataTable['output_type'] = 'display_data';\n",
              "        await google.colab.output.renderOutput(dataTable, element);\n",
              "        const docLink = document.createElement('div');\n",
              "        docLink.innerHTML = docLinkHtml;\n",
              "        element.appendChild(docLink);\n",
              "      }\n",
              "    </script>\n",
              "  </div>\n",
              "\n",
              "\n",
              "<div id=\"df-7f999d64-2678-40e2-8a40-629972c4bdd2\">\n",
              "  <button class=\"colab-df-quickchart\" onclick=\"quickchart('df-7f999d64-2678-40e2-8a40-629972c4bdd2')\"\n",
              "            title=\"Suggest charts\"\n",
              "            style=\"display:none;\">\n",
              "\n",
              "<svg xmlns=\"http://www.w3.org/2000/svg\" height=\"24px\"viewBox=\"0 0 24 24\"\n",
              "     width=\"24px\">\n",
              "    <g>\n",
              "        <path d=\"M19 3H5c-1.1 0-2 .9-2 2v14c0 1.1.9 2 2 2h14c1.1 0 2-.9 2-2V5c0-1.1-.9-2-2-2zM9 17H7v-7h2v7zm4 0h-2V7h2v10zm4 0h-2v-4h2v4z\"/>\n",
              "    </g>\n",
              "</svg>\n",
              "  </button>\n",
              "\n",
              "<style>\n",
              "  .colab-df-quickchart {\n",
              "      --bg-color: #E8F0FE;\n",
              "      --fill-color: #1967D2;\n",
              "      --hover-bg-color: #E2EBFA;\n",
              "      --hover-fill-color: #174EA6;\n",
              "      --disabled-fill-color: #AAA;\n",
              "      --disabled-bg-color: #DDD;\n",
              "  }\n",
              "\n",
              "  [theme=dark] .colab-df-quickchart {\n",
              "      --bg-color: #3B4455;\n",
              "      --fill-color: #D2E3FC;\n",
              "      --hover-bg-color: #434B5C;\n",
              "      --hover-fill-color: #FFFFFF;\n",
              "      --disabled-bg-color: #3B4455;\n",
              "      --disabled-fill-color: #666;\n",
              "  }\n",
              "\n",
              "  .colab-df-quickchart {\n",
              "    background-color: var(--bg-color);\n",
              "    border: none;\n",
              "    border-radius: 50%;\n",
              "    cursor: pointer;\n",
              "    display: none;\n",
              "    fill: var(--fill-color);\n",
              "    height: 32px;\n",
              "    padding: 0;\n",
              "    width: 32px;\n",
              "  }\n",
              "\n",
              "  .colab-df-quickchart:hover {\n",
              "    background-color: var(--hover-bg-color);\n",
              "    box-shadow: 0 1px 2px rgba(60, 64, 67, 0.3), 0 1px 3px 1px rgba(60, 64, 67, 0.15);\n",
              "    fill: var(--button-hover-fill-color);\n",
              "  }\n",
              "\n",
              "  .colab-df-quickchart-complete:disabled,\n",
              "  .colab-df-quickchart-complete:disabled:hover {\n",
              "    background-color: var(--disabled-bg-color);\n",
              "    fill: var(--disabled-fill-color);\n",
              "    box-shadow: none;\n",
              "  }\n",
              "\n",
              "  .colab-df-spinner {\n",
              "    border: 2px solid var(--fill-color);\n",
              "    border-color: transparent;\n",
              "    border-bottom-color: var(--fill-color);\n",
              "    animation:\n",
              "      spin 1s steps(1) infinite;\n",
              "  }\n",
              "\n",
              "  @keyframes spin {\n",
              "    0% {\n",
              "      border-color: transparent;\n",
              "      border-bottom-color: var(--fill-color);\n",
              "      border-left-color: var(--fill-color);\n",
              "    }\n",
              "    20% {\n",
              "      border-color: transparent;\n",
              "      border-left-color: var(--fill-color);\n",
              "      border-top-color: var(--fill-color);\n",
              "    }\n",
              "    30% {\n",
              "      border-color: transparent;\n",
              "      border-left-color: var(--fill-color);\n",
              "      border-top-color: var(--fill-color);\n",
              "      border-right-color: var(--fill-color);\n",
              "    }\n",
              "    40% {\n",
              "      border-color: transparent;\n",
              "      border-right-color: var(--fill-color);\n",
              "      border-top-color: var(--fill-color);\n",
              "    }\n",
              "    60% {\n",
              "      border-color: transparent;\n",
              "      border-right-color: var(--fill-color);\n",
              "    }\n",
              "    80% {\n",
              "      border-color: transparent;\n",
              "      border-right-color: var(--fill-color);\n",
              "      border-bottom-color: var(--fill-color);\n",
              "    }\n",
              "    90% {\n",
              "      border-color: transparent;\n",
              "      border-bottom-color: var(--fill-color);\n",
              "    }\n",
              "  }\n",
              "</style>\n",
              "\n",
              "  <script>\n",
              "    async function quickchart(key) {\n",
              "      const quickchartButtonEl =\n",
              "        document.querySelector('#' + key + ' button');\n",
              "      quickchartButtonEl.disabled = true;  // To prevent multiple clicks.\n",
              "      quickchartButtonEl.classList.add('colab-df-spinner');\n",
              "      try {\n",
              "        const charts = await google.colab.kernel.invokeFunction(\n",
              "            'suggestCharts', [key], {});\n",
              "      } catch (error) {\n",
              "        console.error('Error during call to suggestCharts:', error);\n",
              "      }\n",
              "      quickchartButtonEl.classList.remove('colab-df-spinner');\n",
              "      quickchartButtonEl.classList.add('colab-df-quickchart-complete');\n",
              "    }\n",
              "    (() => {\n",
              "      let quickchartButtonEl =\n",
              "        document.querySelector('#df-7f999d64-2678-40e2-8a40-629972c4bdd2 button');\n",
              "      quickchartButtonEl.style.display =\n",
              "        google.colab.kernel.accessAllowed ? 'block' : 'none';\n",
              "    })();\n",
              "  </script>\n",
              "</div>\n",
              "\n",
              "    </div>\n",
              "  </div>\n"
            ],
            "application/vnd.google.colaboratory.intrinsic+json": {
              "type": "dataframe",
              "variable_name": "df"
            }
          },
          "metadata": {},
          "execution_count": 3
        }
      ]
    },
    {
      "cell_type": "code",
      "source": [
        "df.info()"
      ],
      "metadata": {
        "colab": {
          "base_uri": "https://localhost:8080/"
        },
        "collapsed": true,
        "id": "gCdr4FOYh7SA",
        "outputId": "69e63e3c-3c02-4768-a3d7-6eef5cbe8fa2"
      },
      "execution_count": 4,
      "outputs": [
        {
          "output_type": "stream",
          "name": "stdout",
          "text": [
            "<class 'pandas.core.frame.DataFrame'>\n",
            "RangeIndex: 22200 entries, 0 to 22199\n",
            "Data columns (total 49 columns):\n",
            " #   Column                        Non-Null Count  Dtype  \n",
            "---  ------                        --------------  -----  \n",
            " 0   id                            22200 non-null  int64  \n",
            " 1   n_tokens_title                20000 non-null  float64\n",
            " 2   n_tokens_content              20054 non-null  float64\n",
            " 3   n_unique_tokens               19942 non-null  float64\n",
            " 4   n_non_stop_words              20017 non-null  float64\n",
            " 5   n_non_stop_unique_tokens      19944 non-null  float64\n",
            " 6   num_hrefs                     19967 non-null  float64\n",
            " 7   num_self_hrefs                19920 non-null  float64\n",
            " 8   num_imgs                      19986 non-null  float64\n",
            " 9   num_videos                    19906 non-null  float64\n",
            " 10  average_token_length          19987 non-null  float64\n",
            " 11  num_keywords                  19955 non-null  float64\n",
            " 12  kw_min_min                    19984 non-null  float64\n",
            " 13  kw_max_min                    20021 non-null  float64\n",
            " 14  kw_avg_min                    19971 non-null  float64\n",
            " 15  kw_min_max                    19985 non-null  float64\n",
            " 16  kw_max_max                    19968 non-null  float64\n",
            " 17  kw_avg_max                    20040 non-null  float64\n",
            " 18  kw_min_avg                    20049 non-null  float64\n",
            " 19  kw_max_avg                    20018 non-null  float64\n",
            " 20  kw_avg_avg                    20023 non-null  float64\n",
            " 21  self_reference_min_shares     19994 non-null  float64\n",
            " 22  self_reference_max_shares     20026 non-null  float64\n",
            " 23  self_reference_avg_sharess    19954 non-null  float64\n",
            " 24  LDA_00                        19976 non-null  float64\n",
            " 25  LDA_01                        19998 non-null  float64\n",
            " 26  LDA_02                        20047 non-null  float64\n",
            " 27  LDA_03                        19957 non-null  float64\n",
            " 28  LDA_04                        20013 non-null  float64\n",
            " 29  global_subjectivity           19946 non-null  float64\n",
            " 30  global_sentiment_polarity     19969 non-null  float64\n",
            " 31  global_rate_positive_words    19966 non-null  float64\n",
            " 32  global_rate_negative_words    19951 non-null  float64\n",
            " 33  rate_positive_words           19981 non-null  float64\n",
            " 34  rate_negative_words           19958 non-null  float64\n",
            " 35  avg_positive_polarity         20050 non-null  float64\n",
            " 36  min_positive_polarity         19958 non-null  float64\n",
            " 37  max_positive_polarity         20033 non-null  float64\n",
            " 38  avg_negative_polarity         19916 non-null  float64\n",
            " 39  min_negative_polarity         19926 non-null  float64\n",
            " 40  max_negative_polarity         19997 non-null  float64\n",
            " 41  title_subjectivity            19928 non-null  float64\n",
            " 42  title_sentiment_polarity      19967 non-null  float64\n",
            " 43  abs_title_subjectivity        19934 non-null  float64\n",
            " 44  abs_title_sentiment_polarity  19951 non-null  float64\n",
            " 45  data_channel                  20053 non-null  object \n",
            " 46  weekday                       20087 non-null  object \n",
            " 47  shares                        22200 non-null  int64  \n",
            " 48  y                             22200 non-null  int64  \n",
            "dtypes: float64(44), int64(3), object(2)\n",
            "memory usage: 8.3+ MB\n"
          ]
        }
      ]
    },
    {
      "cell_type": "code",
      "source": [
        "# 공유 수 분포 그래프\n",
        "sns.kdeplot(df['shares'])\n",
        "plt.xlim(0, 20000)"
      ],
      "metadata": {
        "colab": {
          "base_uri": "https://localhost:8080/",
          "height": 468
        },
        "collapsed": true,
        "id": "r9vR_AvdiEmv",
        "outputId": "aafbbc5c-8e01-416b-f07b-32b70500f152"
      },
      "execution_count": 5,
      "outputs": [
        {
          "output_type": "execute_result",
          "data": {
            "text/plain": [
              "(0.0, 20000.0)"
            ]
          },
          "metadata": {},
          "execution_count": 5
        },
        {
          "output_type": "display_data",
          "data": {
            "text/plain": [
              "<Figure size 640x480 with 1 Axes>"
            ],
            "image/png": "[encoded data removed]"
          },
          "metadata": {}
        }
      ]
    },
    {
      "cell_type": "markdown",
      "source": [
        "# **데이터 전처리**"
      ],
      "metadata": {
        "id": "xbWefZlpiJBL"
      }
    },
    {
      "cell_type": "code",
      "source": [
        "# 가장 많이 등장한 값이 전체에서 차지하는 비율 top 10\n",
        "top_ratio_dict = {}\n",
        "\n",
        "for col in df.columns:\n",
        "    most_common = df[col].value_counts(dropna=False).iloc[0]\n",
        "    total = len(df)\n",
        "    ratio = most_common / total\n",
        "    top_ratio_dict[col] = ratio\n",
        "\n",
        "top_10 = sorted(top_ratio_dict.items(), key=lambda x: x[1], reverse=True)[:10]\n",
        "\n",
        "for col, ratio in top_10:\n",
        "    print(f\"{col}: {ratio:.2%}\")"
      ],
      "metadata": {
        "collapsed": true,
        "colab": {
          "base_uri": "https://localhost:8080/"
        },
        "id": "4qWpcdMAiGeA",
        "outputId": "c1786dd2-6562-4c64-cee7-dd79b5a0155f"
      },
      "execution_count": 6,
      "outputs": [
        {
          "output_type": "stream",
          "name": "stdout",
          "text": [
            "kw_max_max: 68.41%\n",
            "num_videos: 56.30%\n",
            "kw_min_min: 51.76%\n",
            "y: 50.43%\n",
            "abs_title_subjectivity: 46.68%\n",
            "title_sentiment_polarity: 45.55%\n",
            "abs_title_sentiment_polarity: 45.47%\n",
            "num_imgs: 41.08%\n",
            "title_subjectivity: 40.79%\n",
            "kw_min_avg: 39.03%\n"
          ]
        }
      ]
    },
    {
      "cell_type": "code",
      "source": [
        "# 중복 값이 많은 변수들을 자세히 살펴보자\n",
        "df['kw_min_min'].value_counts(dropna=False).head(5)"
      ],
      "metadata": {
        "colab": {
          "base_uri": "https://localhost:8080/",
          "height": 0
        },
        "collapsed": true,
        "id": "k6JthDiKiMBe",
        "outputId": "f6535c47-bb1e-4c58-ecfa-ecd22cf8dbda"
      },
      "execution_count": 7,
      "outputs": [
        {
          "output_type": "execute_result",
          "data": {
            "text/plain": [
              "kw_min_min\n",
              "-1.0      11491\n",
              " 4.0       6074\n",
              " 217.0     2367\n",
              " NaN       2216\n",
              " 0.0         34\n",
              "Name: count, dtype: int64"
            ],
            "text/html": [
              "<div>\n",
              "<style scoped>\n",
              "    .dataframe tbody tr th:only-of-type {\n",
              "        vertical-align: middle;\n",
              "    }\n",
              "\n",
              "    .dataframe tbody tr th {\n",
              "        vertical-align: top;\n",
              "    }\n",
              "\n",
              "    .dataframe thead th {\n",
              "        text-align: right;\n",
              "    }\n",
              "</style>\n",
              "<table border=\"1\" class=\"dataframe\">\n",
              "  <thead>\n",
              "    <tr style=\"text-align: right;\">\n",
              "      <th></th>\n",
              "      <th>count</th>\n",
              "    </tr>\n",
              "    <tr>\n",
              "      <th>kw_min_min</th>\n",
              "      <th></th>\n",
              "    </tr>\n",
              "  </thead>\n",
              "  <tbody>\n",
              "    <tr>\n",
              "      <th>-1.0</th>\n",
              "      <td>11491</td>\n",
              "    </tr>\n",
              "    <tr>\n",
              "      <th>4.0</th>\n",
              "      <td>6074</td>\n",
              "    </tr>\n",
              "    <tr>\n",
              "      <th>217.0</th>\n",
              "      <td>2367</td>\n",
              "    </tr>\n",
              "    <tr>\n",
              "      <th>NaN</th>\n",
              "      <td>2216</td>\n",
              "    </tr>\n",
              "    <tr>\n",
              "      <th>0.0</th>\n",
              "      <td>34</td>\n",
              "    </tr>\n",
              "  </tbody>\n",
              "</table>\n",
              "</div><br><label><b>dtype:</b> int64</label>"
            ]
          },
          "metadata": {},
          "execution_count": 7
        }
      ]
    },
    {
      "cell_type": "code",
      "source": [
        "df['kw_max_max'].value_counts(dropna=False).head(5)"
      ],
      "metadata": {
        "collapsed": true,
        "colab": {
          "base_uri": "https://localhost:8080/",
          "height": 0
        },
        "id": "RhpZdspriOpH",
        "outputId": "0ec1cfe8-5da7-4932-a92d-69c0967f9117"
      },
      "execution_count": 8,
      "outputs": [
        {
          "output_type": "execute_result",
          "data": {
            "text/plain": [
              "kw_max_max\n",
              "843300.0    15186\n",
              "NaN          2232\n",
              "690400.0     2017\n",
              "617900.0     1143\n",
              "69100.0       654\n",
              "Name: count, dtype: int64"
            ],
            "text/html": [
              "<div>\n",
              "<style scoped>\n",
              "    .dataframe tbody tr th:only-of-type {\n",
              "        vertical-align: middle;\n",
              "    }\n",
              "\n",
              "    .dataframe tbody tr th {\n",
              "        vertical-align: top;\n",
              "    }\n",
              "\n",
              "    .dataframe thead th {\n",
              "        text-align: right;\n",
              "    }\n",
              "</style>\n",
              "<table border=\"1\" class=\"dataframe\">\n",
              "  <thead>\n",
              "    <tr style=\"text-align: right;\">\n",
              "      <th></th>\n",
              "      <th>count</th>\n",
              "    </tr>\n",
              "    <tr>\n",
              "      <th>kw_max_max</th>\n",
              "      <th></th>\n",
              "    </tr>\n",
              "  </thead>\n",
              "  <tbody>\n",
              "    <tr>\n",
              "      <th>843300.0</th>\n",
              "      <td>15186</td>\n",
              "    </tr>\n",
              "    <tr>\n",
              "      <th>NaN</th>\n",
              "      <td>2232</td>\n",
              "    </tr>\n",
              "    <tr>\n",
              "      <th>690400.0</th>\n",
              "      <td>2017</td>\n",
              "    </tr>\n",
              "    <tr>\n",
              "      <th>617900.0</th>\n",
              "      <td>1143</td>\n",
              "    </tr>\n",
              "    <tr>\n",
              "      <th>69100.0</th>\n",
              "      <td>654</td>\n",
              "    </tr>\n",
              "  </tbody>\n",
              "</table>\n",
              "</div><br><label><b>dtype:</b> int64</label>"
            ]
          },
          "metadata": {},
          "execution_count": 8
        }
      ]
    },
    {
      "cell_type": "code",
      "source": [
        "df['n_non_stop_words_rounded'] = df['n_non_stop_words'].round(3)  # 소수 셋째 자리까지 반올림\n",
        "df['n_non_stop_words_rounded'].value_counts(dropna=False)"
      ],
      "metadata": {
        "collapsed": true,
        "colab": {
          "base_uri": "https://localhost:8080/",
          "height": 0
        },
        "id": "ZvXP0rFgiQi8",
        "outputId": "6f81ea48-201f-4463-bf93-7a231fa6fabd"
      },
      "execution_count": 9,
      "outputs": [
        {
          "output_type": "execute_result",
          "data": {
            "text/plain": [
              "n_non_stop_words_rounded\n",
              "1.0    19420\n",
              "NaN     2183\n",
              "0.0      597\n",
              "Name: count, dtype: int64"
            ],
            "text/html": [
              "<div>\n",
              "<style scoped>\n",
              "    .dataframe tbody tr th:only-of-type {\n",
              "        vertical-align: middle;\n",
              "    }\n",
              "\n",
              "    .dataframe tbody tr th {\n",
              "        vertical-align: top;\n",
              "    }\n",
              "\n",
              "    .dataframe thead th {\n",
              "        text-align: right;\n",
              "    }\n",
              "</style>\n",
              "<table border=\"1\" class=\"dataframe\">\n",
              "  <thead>\n",
              "    <tr style=\"text-align: right;\">\n",
              "      <th></th>\n",
              "      <th>count</th>\n",
              "    </tr>\n",
              "    <tr>\n",
              "      <th>n_non_stop_words_rounded</th>\n",
              "      <th></th>\n",
              "    </tr>\n",
              "  </thead>\n",
              "  <tbody>\n",
              "    <tr>\n",
              "      <th>1.0</th>\n",
              "      <td>19420</td>\n",
              "    </tr>\n",
              "    <tr>\n",
              "      <th>NaN</th>\n",
              "      <td>2183</td>\n",
              "    </tr>\n",
              "    <tr>\n",
              "      <th>0.0</th>\n",
              "      <td>597</td>\n",
              "    </tr>\n",
              "  </tbody>\n",
              "</table>\n",
              "</div><br><label><b>dtype:</b> int64</label>"
            ]
          },
          "metadata": {},
          "execution_count": 9
        }
      ]
    },
    {
      "cell_type": "code",
      "source": [
        "# 많은 값들이 같은 값을 가지므로 삭제한다\n",
        "df.drop(columns=['kw_min_min'], axis=1, inplace=True)\n",
        "df.drop(columns=['kw_max_max'], axis=1, inplace=True)\n",
        "df.drop(columns=['n_non_stop_words'], axis=1, inplace=True)"
      ],
      "metadata": {
        "id": "5B8JBR45iSoT"
      },
      "execution_count": 10,
      "outputs": []
    },
    {
      "cell_type": "code",
      "source": [
        "# 반올림 값을 확인하기 위해 만들었던 n_non_stop_words_rounded도 삭제\n",
        "df.drop(columns=['n_non_stop_words_rounded'], axis=1, inplace=True)"
      ],
      "metadata": {
        "id": "S_BYLyhriVDw"
      },
      "execution_count": 11,
      "outputs": []
    },
    {
      "cell_type": "code",
      "source": [
        "# 'id'는 학습에 사용할 값이 아니므로 삭제한다\n",
        "df.drop(columns=['id'], axis=1, inplace=True)"
      ],
      "metadata": {
        "id": "T_Jxvi4kibLM"
      },
      "execution_count": 12,
      "outputs": []
    },
    {
      "cell_type": "code",
      "source": [
        "# 요일별 shares의 평균, 최댓값, 최솟값\n",
        "weekday_stats = df.groupby('weekday')['shares'].agg(\n",
        "    avg_shares=lambda x: round(x.mean(), 2),\n",
        "    max_shares='max',\n",
        "    min_shares='min'\n",
        ").reset_index()\n",
        "\n",
        "weekday_order = ['Monday', 'Tuesday', 'Wednesday', 'Thursday', 'Friday', 'Saturday', 'Sunday']\n",
        "weekday_stats['weekday'] = pd.Categorical(weekday_stats['weekday'], categories=weekday_order, ordered=True)\n",
        "weekday_stats = weekday_stats.sort_values('weekday')\n",
        "print(weekday_stats)"
      ],
      "metadata": {
        "colab": {
          "base_uri": "https://localhost:8080/"
        },
        "collapsed": true,
        "id": "j49xDQGxidHT",
        "outputId": "92a8527d-2f86-475c-f26a-061102a5b8d3"
      },
      "execution_count": 13,
      "outputs": [
        {
          "output_type": "stream",
          "name": "stdout",
          "text": [
            "     weekday  avg_shares  max_shares  min_shares\n",
            "1     Monday     3574.82      652900          43\n",
            "5    Tuesday     3139.31      208300          42\n",
            "6  Wednesday     3432.23      843300          48\n",
            "4   Thursday     3225.35      298400          22\n",
            "0     Friday     3152.97      233400          28\n",
            "2   Saturday     4544.41      617900          49\n",
            "3     Sunday     3937.87       83300         171\n"
          ]
        }
      ]
    },
    {
      "cell_type": "code",
      "source": [
        "# 결측치 처리\n",
        "for col in df.columns:\n",
        "    if df[col].dtype == 'object': # 범주형 → 최빈값\n",
        "        df[col].fillna(df[col].mode()[0], inplace=True)\n",
        "    else: # 숫자형 → 중간값\n",
        "        df[col].fillna(df[col].median(), inplace=True)"
      ],
      "metadata": {
        "colab": {
          "base_uri": "https://localhost:8080/"
        },
        "id": "Q9U_rIkhiiKv",
        "outputId": "34a962d7-795b-4f55-c91b-34c63b3dc57e"
      },
      "execution_count": 14,
      "outputs": [
        {
          "output_type": "stream",
          "name": "stderr",
          "text": [
            "<ipython-input-14-6a0114ce1937>:6: FutureWarning: A value is trying to be set on a copy of a DataFrame or Series through chained assignment using an inplace method.\n",
            "The behavior will change in pandas 3.0. This inplace method will never work because the intermediate object on which we are setting values always behaves as a copy.\n",
            "\n",
            "For example, when doing 'df[col].method(value, inplace=True)', try using 'df.method({col: value}, inplace=True)' or df[col] = df[col].method(value) instead, to perform the operation inplace on the original object.\n",
            "\n",
            "\n",
            "  df[col].fillna(df[col].median(), inplace=True)\n",
            "<ipython-input-14-6a0114ce1937>:4: FutureWarning: A value is trying to be set on a copy of a DataFrame or Series through chained assignment using an inplace method.\n",
            "The behavior will change in pandas 3.0. This inplace method will never work because the intermediate object on which we are setting values always behaves as a copy.\n",
            "\n",
            "For example, when doing 'df[col].method(value, inplace=True)', try using 'df.method({col: value}, inplace=True)' or df[col] = df[col].method(value) instead, to perform the operation inplace on the original object.\n",
            "\n",
            "\n",
            "  df[col].fillna(df[col].mode()[0], inplace=True)\n"
          ]
        }
      ]
    },
    {
      "cell_type": "code",
      "source": [
        "# is_weekend 변수 추가\n",
        "df['is_weekend'] = df['weekday'].isin(['Saturday', 'Sunday']).astype(int)\n",
        "\n",
        "# 범주형 데이터 One-Hot Encoding\n",
        "df = pd.get_dummies(df, columns=['data_channel', 'weekday'], drop_first=True)"
      ],
      "metadata": {
        "id": "pJw2dyq9ifMQ"
      },
      "execution_count": 15,
      "outputs": []
    },
    {
      "cell_type": "code",
      "source": [
        "# 입력 변수(X), 라벨(y) 분리\n",
        "X = df.drop(columns=['shares', 'y'])\n",
        "y = np.log1p(df['shares'])  # log(1 + shares) -> shares=0 일 경우 에러 방지\n",
        "\n",
        "# 정규화\n",
        "# scaler = StandardScaler()\n",
        "# X_scaled = scaler.fit_transform(X)\n",
        "\n",
        "# train, val set을 나눈 뒤에 정규화 진행해보자."
      ],
      "metadata": {
        "id": "vgzV8lXkiqWq"
      },
      "execution_count": 16,
      "outputs": []
    },
    {
      "cell_type": "markdown",
      "source": [
        "# **Forward Selection**"
      ],
      "metadata": {
        "id": "m5jS7SuIjHJT"
      }
    },
    {
      "cell_type": "code",
      "source": [
        "from sklearn.model_selection import train_test_split\n",
        "from sklearn.linear_model import Ridge\n",
        "from sklearn.metrics import r2_score"
      ],
      "metadata": {
        "id": "Ll8OexTtjdMI"
      },
      "execution_count": 17,
      "outputs": []
    },
    {
      "cell_type": "markdown",
      "source": [
        "## 정규화"
      ],
      "metadata": {
        "id": "JC-g0XA5lz0t"
      }
    },
    {
      "cell_type": "code",
      "source": [
        "# PCA 중요도 순서대로 feature가 담긴 list 저장\n",
        "# (\"preprocessing_v0_modified.ipynb\" 마지막 셀의 출력 결과 복사, 붙여넣기)\n",
        "important_features_ranked_index = [\n",
        " 'data_channel_Lifestyle',\n",
        " 'kw_avg_max',\n",
        " 'global_rate_positive_words',\n",
        " 'kw_min_avg',\n",
        " 'data_channel_World',\n",
        " 'min_positive_polarity',\n",
        " 'LDA_00',\n",
        " 'min_negative_polarity',\n",
        " 'num_hrefs',\n",
        " 'LDA_02',\n",
        " 'global_rate_negative_words',\n",
        " 'self_reference_min_shares',\n",
        " 'num_keywords',\n",
        " 'data_channel_Tech',\n",
        " 'LDA_01',\n",
        " 'kw_max_avg',\n",
        " 'self_reference_max_shares',\n",
        " 'LDA_04',\n",
        " 'LDA_03',\n",
        " 'num_self_hrefs',\n",
        " 'kw_max_min',\n",
        " 'num_videos',\n",
        " 'abs_title_sentiment_polarity',\n",
        " 'rate_positive_words',\n",
        " 'num_imgs',\n",
        " 'global_sentiment_polarity',\n",
        " 'kw_min_max',\n",
        " 'self_reference_avg_sharess',\n",
        " 'data_channel_Entertainment',\n",
        " 'max_negative_polarity',\n",
        " 'average_token_length',\n",
        " 'title_subjectivity',\n",
        " 'data_channel_Social Media',\n",
        " 'abs_title_subjectivity',\n",
        " 'kw_avg_min',\n",
        " 'n_non_stop_unique_tokens',\n",
        " 'kw_avg_avg',\n",
        " 'avg_negative_polarity',\n",
        " 'rate_negative_words',\n",
        " 'max_positive_polarity',\n",
        " 'n_tokens_title',\n",
        " 'n_unique_tokens',\n",
        " 'avg_positive_polarity',\n",
        " 'n_tokens_content',\n",
        " 'title_sentiment_polarity',\n",
        " 'weekday_Saturday',\n",
        " 'weekday_Sunday',\n",
        " 'is_weekend',\n",
        " 'global_subjectivity',\n",
        " 'weekday_Thursday',\n",
        " 'weekday_Monday',\n",
        " 'weekday_Tuesday',\n",
        " 'weekday_Wednesday']"
      ],
      "metadata": {
        "id": "QYr9qgw8kB3T"
      },
      "execution_count": 18,
      "outputs": []
    },
    {
      "cell_type": "code",
      "source": [
        "# train, val set 나누기\n",
        "X_train, X_val, y_train, y_val = train_test_split(X, y, train_size=0.8, random_state=42)"
      ],
      "metadata": {
        "id": "3S6-xKY2i7JR"
      },
      "execution_count": 19,
      "outputs": []
    },
    {
      "cell_type": "code",
      "source": [
        "# 정규화\n",
        "scaler = StandardScaler()\n",
        "\n",
        "# 학습 데이터에 scaler를 fit, transform\n",
        "X_train_scaled_array = scaler.fit_transform(X_train)\n",
        "# list를 이용해 feature을 선택할 수 있게끔 하기 위해서 pandas DataFrame으로 수정\n",
        "X_train_scaled = pd.DataFrame(X_train_scaled_array, columns=important_features_ranked_index, index=X_train.index)\n",
        "\n",
        "# 학습 데이터에 맞게 fit된 scaler로 검증 데이터를 transform\n",
        "X_val_scaled_array = scaler.transform(X_val)\n",
        "# list를 이용해 feature을 선택할 수 있게끔 하기 위해서 pandas DataFrame으로 수정\n",
        "X_val_scaled = pd.DataFrame(X_val_scaled_array, columns=important_features_ranked_index, index=X_val.index)"
      ],
      "metadata": {
        "id": "KhZv5-Q4jrxA"
      },
      "execution_count": 20,
      "outputs": []
    },
    {
      "cell_type": "markdown",
      "source": [
        "## 함수 정의"
      ],
      "metadata": {
        "id": "cck_qdasl56O"
      }
    },
    {
      "cell_type": "markdown",
      "source": [
        "#### **fixed_optional_split**: 고정 리스트와 선택 리스트 만들기"
      ],
      "metadata": {
        "id": "sHp9DawfmPZd"
      }
    },
    {
      "cell_type": "markdown",
      "source": [
        "PCA 중요도 순위에서 몇 순위까지 고정하고 싶은지 바꾸고 싶을 때 사용한다. <br>\n",
        "forward 함수를 호출하기 전에 사용해서, <br>\n",
        "이 함수의 리턴값을 저장해서(fixed_features, optional_features) forward에 인수로 넣어주면 된다."
      ],
      "metadata": {
        "id": "-Sf9j1zZqvTl"
      }
    },
    {
      "cell_type": "code",
      "source": [
        "# 고정 리스트와 선택 리스트 만드는 함수 정의\n",
        "def fixed_optional_split(fixed_num):\n",
        "    # 고정된 리스트: 고정 개수만큼, PCA 중요도 순서대로 저장\n",
        "    fixed = important_features_ranked_index[:fixed_num]\n",
        "\n",
        "    # 선택을 위한 리스트: 나머지를 저장\n",
        "    optional = important_features_ranked_index[fixed_num:]\n",
        "\n",
        "    return fixed, optional"
      ],
      "metadata": {
        "id": "4m_-qMPulZdV"
      },
      "execution_count": 21,
      "outputs": []
    },
    {
      "cell_type": "code",
      "source": [
        "fixed_features = []\n",
        "optional_features = []"
      ],
      "metadata": {
        "id": "enG51tRipiJi"
      },
      "execution_count": 22,
      "outputs": []
    },
    {
      "cell_type": "code",
      "source": [
        "# 다음과 같이 사용\n",
        "fixed_features, optional_features = fixed_optional_split(20)"
      ],
      "metadata": {
        "id": "1ae6ZzQVp4iW"
      },
      "execution_count": 23,
      "outputs": []
    },
    {
      "cell_type": "code",
      "source": [
        "# 잘 들어갔는지 확인해보는 코드\n",
        "fixed_features == important_features_ranked_index[:20]"
      ],
      "metadata": {
        "colab": {
          "base_uri": "https://localhost:8080/"
        },
        "id": "REEx7p2gqC2P",
        "outputId": "5ce34406-ed4d-4caa-b607-e1dff98a5f52"
      },
      "execution_count": 24,
      "outputs": [
        {
          "output_type": "execute_result",
          "data": {
            "text/plain": [
              "True"
            ]
          },
          "metadata": {},
          "execution_count": 24
        }
      ]
    },
    {
      "cell_type": "markdown",
      "source": [
        "#### **adjusted_r2**: Adjusted R^2를 계산하기"
      ],
      "metadata": {
        "id": "VkQt5c4VrAIp"
      }
    },
    {
      "cell_type": "markdown",
      "source": [
        "RidgePerf(성능 지표를 리턴하는 함수)의 내부에서 사용할 함수. <br>\n",
        "- R2: R2 값 <br>\n",
        "- N: number of examples (of validation set) (즉, 행의 수) <br>\n",
        "- P: number of input variables(features) (of validation set) (즉, 열의 수)"
      ],
      "metadata": {
        "id": "jvi8UNursUdd"
      }
    },
    {
      "cell_type": "code",
      "source": [
        "# R2값을 이용해 Adjusted R2를 계산하는 함수 adjusted_r2 정의\n",
        "def adjusted_r2(R2, N, P):\n",
        "    return 1 - (((1 - R2) * (N - 1)) / (N - P - 1))"
      ],
      "metadata": {
        "id": "pAjWx68lsNND"
      },
      "execution_count": 25,
      "outputs": []
    },
    {
      "cell_type": "markdown",
      "source": [
        "#### **RidgePerf**: Ridge regression 모델을 학습시키고 성능 지표(Adjusted R2)를 리턴 받기"
      ],
      "metadata": {
        "id": "07ADQMvKtClR"
      }
    },
    {
      "cell_type": "markdown",
      "source": [
        "train과 validation set을 인수로 주면, Adjusted R2 값을 리턴하는 함수. <br>\n",
        "- sklearn.linear_model 에서 import한 Ridge를 사용. <br>\n",
        "- alpha는 1을 사용. (결정 과정은 아래 'Ridge 파라미터(alpha) 값 테스트'부분 참고)\n",
        "- 나머지 인수들은 기본값.\n",
        "- sklearn.metrics에서 import한 r2_score과, 위에서 정의한 adjusted_r2 함수를 사용."
      ],
      "metadata": {
        "id": "7Tp8GMs2ASKF"
      }
    },
    {
      "cell_type": "code",
      "source": [
        "# Ridge 모델을 학습시키고 Adjusted R2 성능 지표를 리턴하는 함수 RidgePerf 정의\n",
        "def RidgePerf(X_tr, X_vl, y_tr, y_vl, alpha=1):\n",
        "    model = Ridge(alpha = alpha)\n",
        "    model.fit(X_tr, y_tr)\n",
        "    y_predict = model.predict(X_vl)\n",
        "    r2 = r2_score(y_vl, y_predict)\n",
        "    r2_adj = adjusted_r2(r2, X_vl.shape[0], X_vl.shape[1])\n",
        "    # 성능 지표로 Adjusted R2 사용\n",
        "    metric = r2_adj\n",
        "    return metric"
      ],
      "metadata": {
        "id": "Mrf3NSe_tQcS"
      },
      "execution_count": 26,
      "outputs": []
    },
    {
      "cell_type": "markdown",
      "source": [
        "#### **forward**: forward selection을 수행하기"
      ],
      "metadata": {
        "id": "m29vyHeKtfwj"
      }
    },
    {
      "cell_type": "code",
      "source": [
        "no_improvement_count = 0\n",
        "# 인수로 train set과 validation set, fixed_list(고정하고 싶은 feature 이름들), optional_list(하나씩 선택하고 싶은 feature 이름들)를 받는다.\n",
        "# 이때 X_trn과 X_vld는 열 이름을 가진 판다스 데이터프레임이어야 한다. (feature를 일부만 선택하는 데에 열 이름을 담은 리스트를 사용하기 때문)\n",
        "def forward(X_trn, X_vld, y_trn, y_vld, fixed_list, optional_list, alpha=1):\n",
        "    print(f\"고정 개수: {len(fixed_list)}\")\n",
        "    print(f\"fixed_list: {fixed_list}\")\n",
        "\n",
        "    # fixed_list로만 학습한 성능 저장\n",
        "    fixed_perf = RidgePerf(X_trn[fixed_list], X_vld[fixed_list], y_trn, y_vld, alpha=alpha)\n",
        "    print(f\"fixed_perf: {fixed_perf}\")\n",
        "\n",
        "    # 반복 및 성능 비교 시 사용할 변수 초기화\n",
        "    test_list = fixed_list.copy()               # 성능을 테스트할 subset을 담을 test_list\n",
        "    results = {}                                # 각 subset들의 성능을 담을 딕셔너리 results\n",
        "    final_fixed_list = fixed_list.copy()        # 다음 forward 함수에 넘겨줄 고정 feature들이 담긴 리스트.\n",
        "    final_optional_list = optional_list.copy()  # 다음 forward 함수에 넘겨줄 후보군 feature들이 담긴 리스트.\n",
        "\n",
        "    global no_improvement_count    # 성능 개선되지 않은 횟수 저장\n",
        "\n",
        "    # optional_list의 feature 이름을 하나씩 골라 추가하며 각각의 성능을 results에 저장\n",
        "    for i in range(len(optional_list)):\n",
        "\n",
        "        # test_list에 optional_list의 i번째 feature 이름을 추가\n",
        "        test_list.append(optional_list[i])\n",
        "\n",
        "        # 성능을 results 딕셔너리에 추가.\n",
        "        # 이때 key는 optional_list의 i번째 feature 이름이고, value는 test(fixed + 선택된 feature)_list를 이용한 성능이다.\n",
        "        test_list_perf = RidgePerf(X_trn[test_list],\n",
        "                                   X_vld[test_list],\n",
        "                                   y_trn,\n",
        "                                   y_vld,\n",
        "                                   alpha=alpha)\n",
        "        results[optional_list[i]] = test_list_perf\n",
        "        # print(f\"tested feature: {optional_list[i]} / test_list_perf: {test_list_perf}\")\n",
        "\n",
        "        # 다음 반복을 위해 test_list에 append했던 optional_list[i]를 제거 (즉, 마지막 값을 제거)\n",
        "        test_list.pop()\n",
        "\n",
        "    # 성능 비교\n",
        "    best_optional_feature = max(results, key=results.get)\n",
        "    best_optional_perf = results[best_optional_feature]\n",
        "    if fixed_perf <= best_optional_perf:\n",
        "        # fixed_list의 성능보다 낫거나 같은 성능을 내는 subset이 있을 때\n",
        "        # (주의: metric이 클수록 성능이 좋다는 가정 하에 작동)\n",
        "        # (성능이 그대로일 때에도 다음 forward selection을 진행함)\n",
        "        print(\"성능 개선.\", f\"best_optional_feature: {best_optional_feature}\", \"//\", f\"best_optional_perf: {best_optional_perf}\")\n",
        "\n",
        "        # 다음 forward 함수 호출에 넣어줄 리스트들을 업데이트.\n",
        "        final_fixed_list.append(best_optional_feature)\n",
        "        final_optional_list.remove(best_optional_feature)\n",
        "\n",
        "        no_improvement_count = 0\n",
        "\n",
        "        # forward(자기자신)를 호출. if문의 조건이 만족되지 않을 때까지 재귀적으로 호출된다.\n",
        "        return forward(X_trn, X_vld, y_trn, y_vld, final_fixed_list, final_optional_list)\n",
        "\n",
        "\n",
        "    else:\n",
        "        if no_improvement_count >= 3:\n",
        "\n",
        "            print(\"3회 이상 성능 개선 불가하여 멈춤.\")\n",
        "            print(f\"number of features: {len(final_fixed_list)}\")\n",
        "            print(f\"fixed_perf: {fixed_perf} / best_optional_perf: {best_optional_perf}\")\n",
        "            # feature를 추가했을 때 성능이 더 떨어졌다면 추가하지 않은 리스트를 리턴.\n",
        "            # 인수로 들어온 fixed_list를 그대로 호출하는 것과 같음.\n",
        "            return final_fixed_list, fixed_perf\n",
        "        else:\n",
        "            print(\"성능 개선 불가 1회 추가\")\n",
        "            no_improvement_count += 1\n",
        "            return forward(X_trn, X_vld, y_trn, y_vld, final_fixed_list, final_optional_list)\n"
      ],
      "metadata": {
        "id": "oTSAxtGHtdJK"
      },
      "execution_count": 41,
      "outputs": []
    },
    {
      "cell_type": "markdown",
      "source": [
        "## Ridge 파라미터(alpha) 값 테스트"
      ],
      "metadata": {
        "id": "4nvDfHjMwbhj"
      }
    },
    {
      "cell_type": "code",
      "source": [
        "# PCA 중요도 순위 중 제일 높은 n개를 사용하자"
      ],
      "metadata": {
        "id": "_JHtpUOVvK0P"
      },
      "execution_count": 28,
      "outputs": []
    },
    {
      "cell_type": "code",
      "source": [
        "# 중요도(importance_score)가 0.1보다 큰 6개를 사용해보자\n",
        "n = 6\n",
        "fixed_features, _ = fixed_optional_split(n)\n",
        "for i in range(11):\n",
        "    r2_adj = RidgePerf(X_train_scaled[fixed_features],\n",
        "                       X_val_scaled[fixed_features],\n",
        "                       y_train,\n",
        "                       y_val,\n",
        "                       alpha = i/10)\n",
        "    print(\"alpha=\", i/10, \" /// adjusted_r2 =\", r2_adj)\n",
        "\n",
        "# 실행 결과, alpha가 증가함에 따라 adjusted r2 값이 커지는 경향이 보인다."
      ],
      "metadata": {
        "colab": {
          "base_uri": "https://localhost:8080/"
        },
        "id": "ex4B-aOq4QGM",
        "outputId": "3d2aa51a-c14c-452f-83c3-6d7e9fd3cf7e"
      },
      "execution_count": 29,
      "outputs": [
        {
          "output_type": "stream",
          "name": "stdout",
          "text": [
            "alpha= 0.0  /// adjusted_r2 = 0.010787345303284845\n",
            "alpha= 0.1  /// adjusted_r2 = 0.010787371694380488\n",
            "alpha= 0.2  /// adjusted_r2 = 0.010787398080735588\n",
            "alpha= 0.3  /// adjusted_r2 = 0.010787424462351147\n",
            "alpha= 0.4  /// adjusted_r2 = 0.010787450839227608\n",
            "alpha= 0.5  /// adjusted_r2 = 0.010787477211366192\n",
            "alpha= 0.6  /// adjusted_r2 = 0.010787503578767121\n",
            "alpha= 0.7  /// adjusted_r2 = 0.010787529941432061\n",
            "alpha= 0.8  /// adjusted_r2 = 0.010787556299360901\n",
            "alpha= 0.9  /// adjusted_r2 = 0.010787582652554861\n",
            "alpha= 1.0  /// adjusted_r2 = 0.01078760900101483\n"
          ]
        }
      ]
    },
    {
      "cell_type": "code",
      "source": [
        "# 중요도 시각화에서 큰 감소가 보이는 숫자는 13, 21, 31로 보이므로 이를 활용해보자"
      ],
      "metadata": {
        "id": "GU4eY_ZW4PAt"
      },
      "execution_count": 30,
      "outputs": []
    },
    {
      "cell_type": "code",
      "source": [
        "n = 13\n",
        "fixed_features, _ = fixed_optional_split(n)\n",
        "for i in range(11):\n",
        "    r2_adj = RidgePerf(X_train_scaled[fixed_features],\n",
        "                       X_val_scaled[fixed_features],\n",
        "                       y_train,\n",
        "                       y_val,\n",
        "                       alpha = i/10)\n",
        "    print(\"alpha=\", i/10, \" /// adjusted_r2 =\", r2_adj)\n",
        "\n",
        "# 실행 결과, alpha가 증가함에 따라 adjusted r2 값이 커지는 경향이 보인다."
      ],
      "metadata": {
        "id": "ql0uzrLUwa1_",
        "colab": {
          "base_uri": "https://localhost:8080/"
        },
        "outputId": "85bf7ccb-5949-4981-fe48-0d0f8a6bce0c"
      },
      "execution_count": 31,
      "outputs": [
        {
          "output_type": "stream",
          "name": "stdout",
          "text": [
            "alpha= 0.0  /// adjusted_r2 = 0.019946312595527593\n",
            "alpha= 0.1  /// adjusted_r2 = 0.019946313577122732\n",
            "alpha= 0.2  /// adjusted_r2 = 0.019946314554691202\n",
            "alpha= 0.3  /// adjusted_r2 = 0.019946315528234226\n",
            "alpha= 0.4  /// adjusted_r2 = 0.019946316497751804\n",
            "alpha= 0.5  /// adjusted_r2 = 0.019946317463244823\n",
            "alpha= 0.6  /// adjusted_r2 = 0.019946318424713838\n",
            "alpha= 0.7  /// adjusted_r2 = 0.019946319382159405\n",
            "alpha= 0.8  /// adjusted_r2 = 0.01994632033558208\n",
            "alpha= 0.9  /// adjusted_r2 = 0.019946321284982638\n",
            "alpha= 1.0  /// adjusted_r2 = 0.01994632223036108\n"
          ]
        }
      ]
    },
    {
      "cell_type": "code",
      "source": [
        "n = 21\n",
        "fixed_features, _ = fixed_optional_split(n)\n",
        "for i in range(11):\n",
        "    r2_adj = RidgePerf(X_train_scaled[fixed_features],\n",
        "                       X_val_scaled[fixed_features],\n",
        "                       y_train,\n",
        "                       y_val,\n",
        "                       alpha = i/10)\n",
        "    print(\"alpha=\", i/10, \" /// adjusted_r2 =\", r2_adj)\n",
        "\n",
        "# 실행 결과, alpha가 증가함에 따라 adjusted r2 값이 커지는 경향이 보인다."
      ],
      "metadata": {
        "colab": {
          "base_uri": "https://localhost:8080/"
        },
        "id": "v0QBkXnO3B_V",
        "outputId": "438c1797-a6a0-4e39-e640-6b6e5106481b"
      },
      "execution_count": 32,
      "outputs": [
        {
          "output_type": "stream",
          "name": "stdout",
          "text": [
            "alpha= 0.0  /// adjusted_r2 = 0.06628259226249122\n",
            "alpha= 0.1  /// adjusted_r2 = 0.06628260843151501\n",
            "alpha= 0.2  /// adjusted_r2 = 0.06628262456553069\n",
            "alpha= 0.3  /// adjusted_r2 = 0.06628264066454503\n",
            "alpha= 0.4  /// adjusted_r2 = 0.06628265672856493\n",
            "alpha= 0.5  /// adjusted_r2 = 0.06628267275759792\n",
            "alpha= 0.6  /// adjusted_r2 = 0.06628268875165089\n",
            "alpha= 0.7  /// adjusted_r2 = 0.06628270471073039\n",
            "alpha= 0.8  /// adjusted_r2 = 0.06628272063484397\n",
            "alpha= 0.9  /// adjusted_r2 = 0.06628273652399852\n",
            "alpha= 1.0  /// adjusted_r2 = 0.0662827523782008\n"
          ]
        }
      ]
    },
    {
      "cell_type": "code",
      "source": [
        "n = 31\n",
        "fixed_features, _ = fixed_optional_split(n)\n",
        "for i in range(11):\n",
        "    r2_adj = RidgePerf(X_train_scaled[fixed_features],\n",
        "                       X_val_scaled[fixed_features],\n",
        "                       y_train,\n",
        "                       y_val,\n",
        "                       alpha = i/10)\n",
        "    print(\"alpha=\", i/10, \" /// adjusted_r2 =\", r2_adj)\n",
        "\n",
        "# 실행 결과, alpha가 증가함에 따라 adjusted r2 값이 커지는 경향이 보인다."
      ],
      "metadata": {
        "colab": {
          "base_uri": "https://localhost:8080/"
        },
        "id": "OAzkQ8KU3G_i",
        "outputId": "57bf9516-e580-4a31-f46f-d5c631146f52"
      },
      "execution_count": 33,
      "outputs": [
        {
          "output_type": "stream",
          "name": "stdout",
          "text": [
            "alpha= 0.0  /// adjusted_r2 = 0.08209498637713775\n",
            "alpha= 0.1  /// adjusted_r2 = 0.08209502354131215\n",
            "alpha= 0.2  /// adjusted_r2 = 0.08209506067391292\n",
            "alpha= 0.3  /// adjusted_r2 = 0.08209509777494661\n",
            "alpha= 0.4  /// adjusted_r2 = 0.08209513484441999\n",
            "alpha= 0.5  /// adjusted_r2 = 0.08209517188233939\n",
            "alpha= 0.6  /// adjusted_r2 = 0.08209520888871147\n",
            "alpha= 0.7  /// adjusted_r2 = 0.08209524586354267\n",
            "alpha= 0.8  /// adjusted_r2 = 0.08209528280683964\n",
            "alpha= 0.9  /// adjusted_r2 = 0.08209531971860873\n",
            "alpha= 1.0  /// adjusted_r2 = 0.0820953565988567\n"
          ]
        }
      ]
    },
    {
      "cell_type": "markdown",
      "source": [
        "-> 위의 실행 결과에 따라 Ridge regression에서 alpha를 기본값(1)으로 두고 Forward Selection을 진행한다."
      ],
      "metadata": {
        "id": "WPF-SM_H3u_q"
      }
    },
    {
      "cell_type": "markdown",
      "source": [
        "## Forward Selection 진행하기"
      ],
      "metadata": {
        "id": "FV-TM-2auDr0"
      }
    },
    {
      "cell_type": "code",
      "source": [
        "# 고정 리스트, 선택 리스트 만들기\n",
        "# PCA 중요도 순위 중 높은 순위 N개를 고정하고 forward selection을 진행하는 코드.\n",
        "N = 31\n",
        "fixed_features, optional_features = fixed_optional_split(N)\n",
        "\n",
        "# forward selection 진행하기\n",
        "# 맨 마지막 return 값은 선택된 subset과 그 성능이다.\n",
        "forward(X_train_scaled,\n",
        "        X_val_scaled,\n",
        "        y_train,\n",
        "        y_val,\n",
        "        fixed_features,\n",
        "        optional_features)"
      ],
      "metadata": {
        "colab": {
          "base_uri": "https://localhost:8080/"
        },
        "id": "uy_QX_TGuDSe",
        "outputId": "e6e0639e-f153-4b37-b0c6-71c03dc9977f",
        "collapsed": true
      },
      "execution_count": 39,
      "outputs": [
        {
          "output_type": "stream",
          "name": "stdout",
          "text": [
            "고정 개수: 31\n",
            "fixed_list: ['data_channel_Lifestyle', 'kw_avg_max', 'global_rate_positive_words', 'kw_min_avg', 'data_channel_World', 'min_positive_polarity', 'LDA_00', 'min_negative_polarity', 'num_hrefs', 'LDA_02', 'global_rate_negative_words', 'self_reference_min_shares', 'num_keywords', 'data_channel_Tech', 'LDA_01', 'kw_max_avg', 'self_reference_max_shares', 'LDA_04', 'LDA_03', 'num_self_hrefs', 'kw_max_min', 'num_videos', 'abs_title_sentiment_polarity', 'rate_positive_words', 'num_imgs', 'global_sentiment_polarity', 'kw_min_max', 'self_reference_avg_sharess', 'data_channel_Entertainment', 'max_negative_polarity', 'average_token_length']\n",
            "fixed_perf: 0.0820953565988567\n",
            "tested feature: title_subjectivity / test_list_perf: 0.0816280319965963\n",
            "tested feature: data_channel_Social Media / test_list_perf: 0.08196647824865444\n",
            "tested feature: abs_title_subjectivity / test_list_perf: 0.08188628328406788\n",
            "tested feature: kw_avg_min / test_list_perf: 0.08165223521372988\n",
            "tested feature: n_non_stop_unique_tokens / test_list_perf: 0.08198162648861052\n",
            "tested feature: kw_avg_avg / test_list_perf: 0.08158808472722645\n",
            "tested feature: avg_negative_polarity / test_list_perf: 0.08224816102242871\n",
            "tested feature: rate_negative_words / test_list_perf: 0.08232238764221378\n",
            "tested feature: max_positive_polarity / test_list_perf: 0.08188678272047722\n",
            "tested feature: n_tokens_title / test_list_perf: 0.08229932605503776\n",
            "tested feature: n_unique_tokens / test_list_perf: 0.0946355491274814\n",
            "tested feature: avg_positive_polarity / test_list_perf: 0.08314034301816187\n",
            "tested feature: n_tokens_content / test_list_perf: 0.08218035945996405\n",
            "tested feature: title_sentiment_polarity / test_list_perf: 0.08789413607803276\n",
            "tested feature: weekday_Saturday / test_list_perf: 0.08377783871900502\n",
            "tested feature: weekday_Sunday / test_list_perf: 0.08283241736747615\n",
            "tested feature: is_weekend / test_list_perf: 0.08205238525704506\n",
            "tested feature: global_subjectivity / test_list_perf: 0.08825322297650462\n",
            "tested feature: weekday_Thursday / test_list_perf: 0.08736817587925094\n",
            "tested feature: weekday_Monday / test_list_perf: 0.08201007043977959\n",
            "tested feature: weekday_Tuesday / test_list_perf: 0.08237306977274728\n",
            "tested feature: weekday_Wednesday / test_list_perf: 0.08271680905415824\n",
            "성능 개선. best_optional_feature: n_unique_tokens // best_optional_perf: 0.0946355491274814\n",
            "고정 개수: 32\n",
            "fixed_list: ['data_channel_Lifestyle', 'kw_avg_max', 'global_rate_positive_words', 'kw_min_avg', 'data_channel_World', 'min_positive_polarity', 'LDA_00', 'min_negative_polarity', 'num_hrefs', 'LDA_02', 'global_rate_negative_words', 'self_reference_min_shares', 'num_keywords', 'data_channel_Tech', 'LDA_01', 'kw_max_avg', 'self_reference_max_shares', 'LDA_04', 'LDA_03', 'num_self_hrefs', 'kw_max_min', 'num_videos', 'abs_title_sentiment_polarity', 'rate_positive_words', 'num_imgs', 'global_sentiment_polarity', 'kw_min_max', 'self_reference_avg_sharess', 'data_channel_Entertainment', 'max_negative_polarity', 'average_token_length', 'n_unique_tokens']\n",
            "fixed_perf: 0.0946355491274814\n",
            "tested feature: title_subjectivity / test_list_perf: 0.09417800311622715\n",
            "tested feature: data_channel_Social Media / test_list_perf: 0.0946128738258949\n",
            "tested feature: abs_title_subjectivity / test_list_perf: 0.09441772389259817\n",
            "tested feature: kw_avg_min / test_list_perf: 0.09417614221733095\n",
            "tested feature: n_non_stop_unique_tokens / test_list_perf: 0.09448331560384926\n",
            "tested feature: kw_avg_avg / test_list_perf: 0.09414866203877714\n",
            "tested feature: avg_negative_polarity / test_list_perf: 0.09472749559852722\n",
            "tested feature: rate_negative_words / test_list_perf: 0.09478060965261459\n",
            "tested feature: max_positive_polarity / test_list_perf: 0.09450020813658566\n",
            "tested feature: n_tokens_title / test_list_perf: 0.09473930152444165\n",
            "tested feature: avg_positive_polarity / test_list_perf: 0.0957435762861154\n",
            "tested feature: n_tokens_content / test_list_perf: 0.09481484394435846\n",
            "tested feature: title_sentiment_polarity / test_list_perf: 0.10016926606766774\n",
            "tested feature: weekday_Saturday / test_list_perf: 0.09636289572176071\n",
            "tested feature: weekday_Sunday / test_list_perf: 0.09545702367106534\n",
            "tested feature: is_weekend / test_list_perf: 0.09414620435608068\n",
            "tested feature: global_subjectivity / test_list_perf: 0.09445178585807712\n",
            "tested feature: weekday_Thursday / test_list_perf: 0.09445182394665652\n",
            "tested feature: weekday_Monday / test_list_perf: 0.09430935859998346\n",
            "tested feature: weekday_Tuesday / test_list_perf: 0.09429000621548989\n",
            "tested feature: weekday_Wednesday / test_list_perf: 0.09443283823679927\n",
            "성능 개선. best_optional_feature: title_sentiment_polarity // best_optional_perf: 0.10016926606766774\n",
            "고정 개수: 33\n",
            "fixed_list: ['data_channel_Lifestyle', 'kw_avg_max', 'global_rate_positive_words', 'kw_min_avg', 'data_channel_World', 'min_positive_polarity', 'LDA_00', 'min_negative_polarity', 'num_hrefs', 'LDA_02', 'global_rate_negative_words', 'self_reference_min_shares', 'num_keywords', 'data_channel_Tech', 'LDA_01', 'kw_max_avg', 'self_reference_max_shares', 'LDA_04', 'LDA_03', 'num_self_hrefs', 'kw_max_min', 'num_videos', 'abs_title_sentiment_polarity', 'rate_positive_words', 'num_imgs', 'global_sentiment_polarity', 'kw_min_max', 'self_reference_avg_sharess', 'data_channel_Entertainment', 'max_negative_polarity', 'average_token_length', 'n_unique_tokens', 'title_sentiment_polarity']\n",
            "fixed_perf: 0.10016926606766774\n",
            "tested feature: title_subjectivity / test_list_perf: 0.09974748635165254\n",
            "tested feature: data_channel_Social Media / test_list_perf: 0.10008212455287291\n",
            "tested feature: abs_title_subjectivity / test_list_perf: 0.09995363740821994\n",
            "tested feature: kw_avg_min / test_list_perf: 0.09970476685884022\n",
            "tested feature: n_non_stop_unique_tokens / test_list_perf: 0.10000679826519032\n",
            "tested feature: kw_avg_avg / test_list_perf: 0.09969435744750088\n",
            "tested feature: avg_negative_polarity / test_list_perf: 0.10026387737414388\n",
            "tested feature: rate_negative_words / test_list_perf: 0.10019297955044693\n",
            "tested feature: max_positive_polarity / test_list_perf: 0.10004529901897596\n",
            "tested feature: n_tokens_title / test_list_perf: 0.10028067556101672\n",
            "tested feature: avg_positive_polarity / test_list_perf: 0.10080162968103723\n",
            "tested feature: n_tokens_content / test_list_perf: 0.10087084489963816\n",
            "tested feature: weekday_Saturday / test_list_perf: 0.10255335064091187\n",
            "tested feature: weekday_Sunday / test_list_perf: 0.10032971920117417\n",
            "tested feature: is_weekend / test_list_perf: 0.09968864683674317\n",
            "tested feature: global_subjectivity / test_list_perf: 0.0999688162169825\n",
            "tested feature: weekday_Thursday / test_list_perf: 0.09996886998238808\n",
            "tested feature: weekday_Monday / test_list_perf: 0.09982685375501055\n",
            "tested feature: weekday_Tuesday / test_list_perf: 0.09989797118719346\n",
            "tested feature: weekday_Wednesday / test_list_perf: 0.09996539038893659\n",
            "성능 개선. best_optional_feature: weekday_Saturday // best_optional_perf: 0.10255335064091187\n",
            "고정 개수: 34\n",
            "fixed_list: ['data_channel_Lifestyle', 'kw_avg_max', 'global_rate_positive_words', 'kw_min_avg', 'data_channel_World', 'min_positive_polarity', 'LDA_00', 'min_negative_polarity', 'num_hrefs', 'LDA_02', 'global_rate_negative_words', 'self_reference_min_shares', 'num_keywords', 'data_channel_Tech', 'LDA_01', 'kw_max_avg', 'self_reference_max_shares', 'LDA_04', 'LDA_03', 'num_self_hrefs', 'kw_max_min', 'num_videos', 'abs_title_sentiment_polarity', 'rate_positive_words', 'num_imgs', 'global_sentiment_polarity', 'kw_min_max', 'self_reference_avg_sharess', 'data_channel_Entertainment', 'max_negative_polarity', 'average_token_length', 'n_unique_tokens', 'title_sentiment_polarity', 'weekday_Saturday']\n",
            "fixed_perf: 0.10255335064091187\n",
            "tested feature: title_subjectivity / test_list_perf: 0.10214841940033548\n",
            "tested feature: data_channel_Social Media / test_list_perf: 0.10249907456608331\n",
            "tested feature: abs_title_subjectivity / test_list_perf: 0.10232434234796028\n",
            "tested feature: kw_avg_min / test_list_perf: 0.10211380109882806\n",
            "tested feature: n_non_stop_unique_tokens / test_list_perf: 0.10243490409308653\n",
            "tested feature: kw_avg_avg / test_list_perf: 0.10207596349363868\n",
            "tested feature: avg_negative_polarity / test_list_perf: 0.10267379664758369\n",
            "tested feature: rate_negative_words / test_list_perf: 0.10256024796221341\n",
            "tested feature: max_positive_polarity / test_list_perf: 0.10244161708770572\n",
            "tested feature: n_tokens_title / test_list_perf: 0.10270033647468957\n",
            "tested feature: avg_positive_polarity / test_list_perf: 0.10286056272897781\n",
            "tested feature: n_tokens_content / test_list_perf: 0.10452421009158797\n",
            "tested feature: weekday_Sunday / test_list_perf: 0.10230017173193173\n",
            "tested feature: is_weekend / test_list_perf: 0.10207213213855659\n",
            "tested feature: global_subjectivity / test_list_perf: 0.10233933744223644\n",
            "tested feature: weekday_Thursday / test_list_perf: 0.1023394100125925\n",
            "tested feature: weekday_Monday / test_list_perf: 0.10221620257681885\n",
            "tested feature: weekday_Tuesday / test_list_perf: 0.10228504147842465\n",
            "tested feature: weekday_Wednesday / test_list_perf: 0.10235239604780055\n",
            "성능 개선. best_optional_feature: n_tokens_content // best_optional_perf: 0.10452421009158797\n",
            "고정 개수: 35\n",
            "fixed_list: ['data_channel_Lifestyle', 'kw_avg_max', 'global_rate_positive_words', 'kw_min_avg', 'data_channel_World', 'min_positive_polarity', 'LDA_00', 'min_negative_polarity', 'num_hrefs', 'LDA_02', 'global_rate_negative_words', 'self_reference_min_shares', 'num_keywords', 'data_channel_Tech', 'LDA_01', 'kw_max_avg', 'self_reference_max_shares', 'LDA_04', 'LDA_03', 'num_self_hrefs', 'kw_max_min', 'num_videos', 'abs_title_sentiment_polarity', 'rate_positive_words', 'num_imgs', 'global_sentiment_polarity', 'kw_min_max', 'self_reference_avg_sharess', 'data_channel_Entertainment', 'max_negative_polarity', 'average_token_length', 'n_unique_tokens', 'title_sentiment_polarity', 'weekday_Saturday', 'n_tokens_content']\n",
            "fixed_perf: 0.10452421009158797\n",
            "tested feature: title_subjectivity / test_list_perf: 0.10405779613599553\n",
            "tested feature: data_channel_Social Media / test_list_perf: 0.10452017428642368\n",
            "tested feature: abs_title_subjectivity / test_list_perf: 0.10427885364082934\n",
            "tested feature: kw_avg_min / test_list_perf: 0.10407331950475152\n",
            "tested feature: n_non_stop_unique_tokens / test_list_perf: 0.10441985737437631\n",
            "tested feature: kw_avg_avg / test_list_perf: 0.1040409437556129\n",
            "tested feature: avg_negative_polarity / test_list_perf: 0.1046408370199452\n",
            "tested feature: rate_negative_words / test_list_perf: 0.10444208751667328\n",
            "tested feature: max_positive_polarity / test_list_perf: 0.10437743534085597\n",
            "tested feature: n_tokens_title / test_list_perf: 0.10464516399847346\n",
            "tested feature: avg_positive_polarity / test_list_perf: 0.1039738194563079\n",
            "tested feature: weekday_Sunday / test_list_perf: 0.10457751618669853\n",
            "tested feature: is_weekend / test_list_perf: 0.10402168989312899\n",
            "tested feature: global_subjectivity / test_list_perf: 0.10430334962388699\n",
            "tested feature: weekday_Thursday / test_list_perf: 0.10430342872526277\n",
            "tested feature: weekday_Monday / test_list_perf: 0.10420712480679184\n",
            "tested feature: weekday_Tuesday / test_list_perf: 0.10423754128182228\n",
            "tested feature: weekday_Wednesday / test_list_perf: 0.1043241446951898\n",
            "성능 개선. best_optional_feature: n_tokens_title // best_optional_perf: 0.10464516399847346\n",
            "고정 개수: 36\n",
            "fixed_list: ['data_channel_Lifestyle', 'kw_avg_max', 'global_rate_positive_words', 'kw_min_avg', 'data_channel_World', 'min_positive_polarity', 'LDA_00', 'min_negative_polarity', 'num_hrefs', 'LDA_02', 'global_rate_negative_words', 'self_reference_min_shares', 'num_keywords', 'data_channel_Tech', 'LDA_01', 'kw_max_avg', 'self_reference_max_shares', 'LDA_04', 'LDA_03', 'num_self_hrefs', 'kw_max_min', 'num_videos', 'abs_title_sentiment_polarity', 'rate_positive_words', 'num_imgs', 'global_sentiment_polarity', 'kw_min_max', 'self_reference_avg_sharess', 'data_channel_Entertainment', 'max_negative_polarity', 'average_token_length', 'n_unique_tokens', 'title_sentiment_polarity', 'weekday_Saturday', 'n_tokens_content', 'n_tokens_title']\n",
            "fixed_perf: 0.10464516399847346\n",
            "tested feature: title_subjectivity / test_list_perf: 0.10418108032948359\n",
            "tested feature: data_channel_Social Media / test_list_perf: 0.10465617281773876\n",
            "tested feature: abs_title_subjectivity / test_list_perf: 0.10440257684746634\n",
            "tested feature: kw_avg_min / test_list_perf: 0.10416567817600786\n",
            "tested feature: n_non_stop_unique_tokens / test_list_perf: 0.10452515937745432\n",
            "tested feature: kw_avg_avg / test_list_perf: 0.10415524158314293\n",
            "tested feature: avg_negative_polarity / test_list_perf: 0.10424138102422997\n",
            "tested feature: rate_negative_words / test_list_perf: 0.10422677797781588\n",
            "tested feature: max_positive_polarity / test_list_perf: 0.10477958236099227\n",
            "tested feature: avg_positive_polarity / test_list_perf: 0.10408797166629857\n",
            "tested feature: weekday_Sunday / test_list_perf: 0.10468361166288997\n",
            "tested feature: is_weekend / test_list_perf: 0.10414000948437374\n",
            "tested feature: global_subjectivity / test_list_perf: 0.10442729117120642\n",
            "tested feature: weekday_Thursday / test_list_perf: 0.10442736646373685\n",
            "tested feature: weekday_Monday / test_list_perf: 0.1043299432960344\n",
            "tested feature: weekday_Tuesday / test_list_perf: 0.10435958471386964\n",
            "tested feature: weekday_Wednesday / test_list_perf: 0.1044443312341704\n",
            "성능 개선. best_optional_feature: max_positive_polarity // best_optional_perf: 0.10477958236099227\n",
            "고정 개수: 37\n",
            "fixed_list: ['data_channel_Lifestyle', 'kw_avg_max', 'global_rate_positive_words', 'kw_min_avg', 'data_channel_World', 'min_positive_polarity', 'LDA_00', 'min_negative_polarity', 'num_hrefs', 'LDA_02', 'global_rate_negative_words', 'self_reference_min_shares', 'num_keywords', 'data_channel_Tech', 'LDA_01', 'kw_max_avg', 'self_reference_max_shares', 'LDA_04', 'LDA_03', 'num_self_hrefs', 'kw_max_min', 'num_videos', 'abs_title_sentiment_polarity', 'rate_positive_words', 'num_imgs', 'global_sentiment_polarity', 'kw_min_max', 'self_reference_avg_sharess', 'data_channel_Entertainment', 'max_negative_polarity', 'average_token_length', 'n_unique_tokens', 'title_sentiment_polarity', 'weekday_Saturday', 'n_tokens_content', 'n_tokens_title', 'max_positive_polarity']\n",
            "fixed_perf: 0.10477958236099227\n",
            "tested feature: title_subjectivity / test_list_perf: 0.10431604269480388\n",
            "tested feature: data_channel_Social Media / test_list_perf: 0.10478384419154185\n",
            "tested feature: abs_title_subjectivity / test_list_perf: 0.10453907122229433\n",
            "tested feature: kw_avg_min / test_list_perf: 0.10430321322634128\n",
            "tested feature: n_non_stop_unique_tokens / test_list_perf: 0.1046427987144446\n",
            "tested feature: kw_avg_avg / test_list_perf: 0.10428391086291411\n",
            "tested feature: avg_negative_polarity / test_list_perf: 0.10444419453233234\n",
            "tested feature: rate_negative_words / test_list_perf: 0.10440337080570194\n",
            "tested feature: avg_positive_polarity / test_list_perf: 0.10424425455992958\n",
            "tested feature: weekday_Sunday / test_list_perf: 0.10481977094985406\n",
            "tested feature: is_weekend / test_list_perf: 0.10427309932087736\n",
            "tested feature: global_subjectivity / test_list_perf: 0.10455771126465685\n",
            "tested feature: weekday_Thursday / test_list_perf: 0.10455779394235587\n",
            "tested feature: weekday_Monday / test_list_perf: 0.10446996803864128\n",
            "tested feature: weekday_Tuesday / test_list_perf: 0.10450809889981238\n",
            "tested feature: weekday_Wednesday / test_list_perf: 0.10457875653067372\n",
            "성능 개선. best_optional_feature: weekday_Sunday // best_optional_perf: 0.10481977094985406\n",
            "고정 개수: 38\n",
            "fixed_list: ['data_channel_Lifestyle', 'kw_avg_max', 'global_rate_positive_words', 'kw_min_avg', 'data_channel_World', 'min_positive_polarity', 'LDA_00', 'min_negative_polarity', 'num_hrefs', 'LDA_02', 'global_rate_negative_words', 'self_reference_min_shares', 'num_keywords', 'data_channel_Tech', 'LDA_01', 'kw_max_avg', 'self_reference_max_shares', 'LDA_04', 'LDA_03', 'num_self_hrefs', 'kw_max_min', 'num_videos', 'abs_title_sentiment_polarity', 'rate_positive_words', 'num_imgs', 'global_sentiment_polarity', 'kw_min_max', 'self_reference_avg_sharess', 'data_channel_Entertainment', 'max_negative_polarity', 'average_token_length', 'n_unique_tokens', 'title_sentiment_polarity', 'weekday_Saturday', 'n_tokens_content', 'n_tokens_title', 'max_positive_polarity', 'weekday_Sunday']\n",
            "fixed_perf: 0.10481977094985406\n",
            "tested feature: title_subjectivity / test_list_perf: 0.10436454277720553\n",
            "tested feature: data_channel_Social Media / test_list_perf: 0.10482444877176966\n",
            "tested feature: abs_title_subjectivity / test_list_perf: 0.10457547547964507\n",
            "tested feature: kw_avg_min / test_list_perf: 0.10435111627624849\n",
            "tested feature: n_non_stop_unique_tokens / test_list_perf: 0.10469852502848875\n",
            "tested feature: kw_avg_avg / test_list_perf: 0.10432282835077189\n",
            "tested feature: avg_negative_polarity / test_list_perf: 0.10448487895717096\n",
            "tested feature: rate_negative_words / test_list_perf: 0.1044233756024745\n",
            "tested feature: avg_positive_polarity / test_list_perf: 0.10420742408740202\n",
            "tested feature: is_weekend / test_list_perf: 0.10432696601660463\n",
            "tested feature: global_subjectivity / test_list_perf: 0.10460687545923475\n",
            "tested feature: weekday_Thursday / test_list_perf: 0.10460694021183448\n",
            "tested feature: weekday_Monday / test_list_perf: 0.10451104012934331\n",
            "tested feature: weekday_Tuesday / test_list_perf: 0.10456706121934911\n",
            "tested feature: weekday_Wednesday / test_list_perf: 0.10461677069890629\n",
            "성능 개선. best_optional_feature: data_channel_Social Media // best_optional_perf: 0.10482444877176966\n",
            "고정 개수: 39\n",
            "fixed_list: ['data_channel_Lifestyle', 'kw_avg_max', 'global_rate_positive_words', 'kw_min_avg', 'data_channel_World', 'min_positive_polarity', 'LDA_00', 'min_negative_polarity', 'num_hrefs', 'LDA_02', 'global_rate_negative_words', 'self_reference_min_shares', 'num_keywords', 'data_channel_Tech', 'LDA_01', 'kw_max_avg', 'self_reference_max_shares', 'LDA_04', 'LDA_03', 'num_self_hrefs', 'kw_max_min', 'num_videos', 'abs_title_sentiment_polarity', 'rate_positive_words', 'num_imgs', 'global_sentiment_polarity', 'kw_min_max', 'self_reference_avg_sharess', 'data_channel_Entertainment', 'max_negative_polarity', 'average_token_length', 'n_unique_tokens', 'title_sentiment_polarity', 'weekday_Saturday', 'n_tokens_content', 'n_tokens_title', 'max_positive_polarity', 'weekday_Sunday', 'data_channel_Social Media']\n",
            "fixed_perf: 0.10482444877176966\n",
            "tested feature: title_subjectivity / test_list_perf: 0.10451101419458475\n",
            "tested feature: abs_title_subjectivity / test_list_perf: 0.10458441804702445\n",
            "tested feature: kw_avg_min / test_list_perf: 0.10432840120451248\n",
            "tested feature: n_non_stop_unique_tokens / test_list_perf: 0.1046856825100565\n",
            "tested feature: kw_avg_avg / test_list_perf: 0.10429936280717056\n",
            "tested feature: avg_negative_polarity / test_list_perf: 0.10450243025049555\n",
            "tested feature: rate_negative_words / test_list_perf: 0.10444099767269521\n",
            "tested feature: avg_positive_polarity / test_list_perf: 0.10420423396093725\n",
            "tested feature: is_weekend / test_list_perf: 0.1043271902183085\n",
            "tested feature: global_subjectivity / test_list_perf: 0.10461297752425713\n",
            "tested feature: weekday_Thursday / test_list_perf: 0.10461303772985064\n",
            "tested feature: weekday_Monday / test_list_perf: 0.10451268804801006\n",
            "tested feature: weekday_Tuesday / test_list_perf: 0.1045649632463106\n",
            "tested feature: weekday_Wednesday / test_list_perf: 0.10462232748412914\n",
            "성능 개선 불가 1회 추가\n",
            "고정 개수: 39\n",
            "fixed_list: ['data_channel_Lifestyle', 'kw_avg_max', 'global_rate_positive_words', 'kw_min_avg', 'data_channel_World', 'min_positive_polarity', 'LDA_00', 'min_negative_polarity', 'num_hrefs', 'LDA_02', 'global_rate_negative_words', 'self_reference_min_shares', 'num_keywords', 'data_channel_Tech', 'LDA_01', 'kw_max_avg', 'self_reference_max_shares', 'LDA_04', 'LDA_03', 'num_self_hrefs', 'kw_max_min', 'num_videos', 'abs_title_sentiment_polarity', 'rate_positive_words', 'num_imgs', 'global_sentiment_polarity', 'kw_min_max', 'self_reference_avg_sharess', 'data_channel_Entertainment', 'max_negative_polarity', 'average_token_length', 'n_unique_tokens', 'title_sentiment_polarity', 'weekday_Saturday', 'n_tokens_content', 'n_tokens_title', 'max_positive_polarity', 'weekday_Sunday', 'data_channel_Social Media']\n",
            "fixed_perf: 0.10482444877176966\n",
            "tested feature: title_subjectivity / test_list_perf: 0.10451101419458475\n",
            "tested feature: abs_title_subjectivity / test_list_perf: 0.10458441804702445\n",
            "tested feature: kw_avg_min / test_list_perf: 0.10432840120451248\n",
            "tested feature: n_non_stop_unique_tokens / test_list_perf: 0.1046856825100565\n",
            "tested feature: kw_avg_avg / test_list_perf: 0.10429936280717056\n",
            "tested feature: avg_negative_polarity / test_list_perf: 0.10450243025049555\n",
            "tested feature: rate_negative_words / test_list_perf: 0.10444099767269521\n",
            "tested feature: avg_positive_polarity / test_list_perf: 0.10420423396093725\n",
            "tested feature: is_weekend / test_list_perf: 0.1043271902183085\n",
            "tested feature: global_subjectivity / test_list_perf: 0.10461297752425713\n",
            "tested feature: weekday_Thursday / test_list_perf: 0.10461303772985064\n",
            "tested feature: weekday_Monday / test_list_perf: 0.10451268804801006\n",
            "tested feature: weekday_Tuesday / test_list_perf: 0.1045649632463106\n",
            "tested feature: weekday_Wednesday / test_list_perf: 0.10462232748412914\n",
            "성능 개선 불가 1회 추가\n",
            "고정 개수: 39\n",
            "fixed_list: ['data_channel_Lifestyle', 'kw_avg_max', 'global_rate_positive_words', 'kw_min_avg', 'data_channel_World', 'min_positive_polarity', 'LDA_00', 'min_negative_polarity', 'num_hrefs', 'LDA_02', 'global_rate_negative_words', 'self_reference_min_shares', 'num_keywords', 'data_channel_Tech', 'LDA_01', 'kw_max_avg', 'self_reference_max_shares', 'LDA_04', 'LDA_03', 'num_self_hrefs', 'kw_max_min', 'num_videos', 'abs_title_sentiment_polarity', 'rate_positive_words', 'num_imgs', 'global_sentiment_polarity', 'kw_min_max', 'self_reference_avg_sharess', 'data_channel_Entertainment', 'max_negative_polarity', 'average_token_length', 'n_unique_tokens', 'title_sentiment_polarity', 'weekday_Saturday', 'n_tokens_content', 'n_tokens_title', 'max_positive_polarity', 'weekday_Sunday', 'data_channel_Social Media']\n",
            "fixed_perf: 0.10482444877176966\n",
            "tested feature: title_subjectivity / test_list_perf: 0.10451101419458475\n",
            "tested feature: abs_title_subjectivity / test_list_perf: 0.10458441804702445\n",
            "tested feature: kw_avg_min / test_list_perf: 0.10432840120451248\n",
            "tested feature: n_non_stop_unique_tokens / test_list_perf: 0.1046856825100565\n",
            "tested feature: kw_avg_avg / test_list_perf: 0.10429936280717056\n",
            "tested feature: avg_negative_polarity / test_list_perf: 0.10450243025049555\n",
            "tested feature: rate_negative_words / test_list_perf: 0.10444099767269521\n",
            "tested feature: avg_positive_polarity / test_list_perf: 0.10420423396093725\n",
            "tested feature: is_weekend / test_list_perf: 0.1043271902183085\n",
            "tested feature: global_subjectivity / test_list_perf: 0.10461297752425713\n",
            "tested feature: weekday_Thursday / test_list_perf: 0.10461303772985064\n",
            "tested feature: weekday_Monday / test_list_perf: 0.10451268804801006\n",
            "tested feature: weekday_Tuesday / test_list_perf: 0.1045649632463106\n",
            "tested feature: weekday_Wednesday / test_list_perf: 0.10462232748412914\n",
            "성능 개선 불가 1회 추가\n",
            "고정 개수: 39\n",
            "fixed_list: ['data_channel_Lifestyle', 'kw_avg_max', 'global_rate_positive_words', 'kw_min_avg', 'data_channel_World', 'min_positive_polarity', 'LDA_00', 'min_negative_polarity', 'num_hrefs', 'LDA_02', 'global_rate_negative_words', 'self_reference_min_shares', 'num_keywords', 'data_channel_Tech', 'LDA_01', 'kw_max_avg', 'self_reference_max_shares', 'LDA_04', 'LDA_03', 'num_self_hrefs', 'kw_max_min', 'num_videos', 'abs_title_sentiment_polarity', 'rate_positive_words', 'num_imgs', 'global_sentiment_polarity', 'kw_min_max', 'self_reference_avg_sharess', 'data_channel_Entertainment', 'max_negative_polarity', 'average_token_length', 'n_unique_tokens', 'title_sentiment_polarity', 'weekday_Saturday', 'n_tokens_content', 'n_tokens_title', 'max_positive_polarity', 'weekday_Sunday', 'data_channel_Social Media']\n",
            "fixed_perf: 0.10482444877176966\n",
            "tested feature: title_subjectivity / test_list_perf: 0.10451101419458475\n",
            "tested feature: abs_title_subjectivity / test_list_perf: 0.10458441804702445\n",
            "tested feature: kw_avg_min / test_list_perf: 0.10432840120451248\n",
            "tested feature: n_non_stop_unique_tokens / test_list_perf: 0.1046856825100565\n",
            "tested feature: kw_avg_avg / test_list_perf: 0.10429936280717056\n",
            "tested feature: avg_negative_polarity / test_list_perf: 0.10450243025049555\n",
            "tested feature: rate_negative_words / test_list_perf: 0.10444099767269521\n",
            "tested feature: avg_positive_polarity / test_list_perf: 0.10420423396093725\n",
            "tested feature: is_weekend / test_list_perf: 0.1043271902183085\n",
            "tested feature: global_subjectivity / test_list_perf: 0.10461297752425713\n",
            "tested feature: weekday_Thursday / test_list_perf: 0.10461303772985064\n",
            "tested feature: weekday_Monday / test_list_perf: 0.10451268804801006\n",
            "tested feature: weekday_Tuesday / test_list_perf: 0.1045649632463106\n",
            "tested feature: weekday_Wednesday / test_list_perf: 0.10462232748412914\n",
            "3회 이상 성능 개선 불가하여 멈춤.\n",
            "number of features: 39\n",
            "fixed_perf: 0.10482444877176966 / best_optional_perf: 0.1046856825100565\n"
          ]
        },
        {
          "output_type": "execute_result",
          "data": {
            "text/plain": [
              "(['data_channel_Lifestyle',\n",
              "  'kw_avg_max',\n",
              "  'global_rate_positive_words',\n",
              "  'kw_min_avg',\n",
              "  'data_channel_World',\n",
              "  'min_positive_polarity',\n",
              "  'LDA_00',\n",
              "  'min_negative_polarity',\n",
              "  'num_hrefs',\n",
              "  'LDA_02',\n",
              "  'global_rate_negative_words',\n",
              "  'self_reference_min_shares',\n",
              "  'num_keywords',\n",
              "  'data_channel_Tech',\n",
              "  'LDA_01',\n",
              "  'kw_max_avg',\n",
              "  'self_reference_max_shares',\n",
              "  'LDA_04',\n",
              "  'LDA_03',\n",
              "  'num_self_hrefs',\n",
              "  'kw_max_min',\n",
              "  'num_videos',\n",
              "  'abs_title_sentiment_polarity',\n",
              "  'rate_positive_words',\n",
              "  'num_imgs',\n",
              "  'global_sentiment_polarity',\n",
              "  'kw_min_max',\n",
              "  'self_reference_avg_sharess',\n",
              "  'data_channel_Entertainment',\n",
              "  'max_negative_polarity',\n",
              "  'average_token_length',\n",
              "  'n_unique_tokens',\n",
              "  'title_sentiment_polarity',\n",
              "  'weekday_Saturday',\n",
              "  'n_tokens_content',\n",
              "  'n_tokens_title',\n",
              "  'max_positive_polarity',\n",
              "  'weekday_Sunday',\n",
              "  'data_channel_Social Media'],\n",
              " 0.10482444877176966)"
            ]
          },
          "metadata": {},
          "execution_count": 39
        }
      ]
    },
    {
      "cell_type": "markdown",
      "source": [
        "#### N을 여러 개로 바꾸어 forward selection 진행하여, 가장 높은 성능의 subset을 골라보자."
      ],
      "metadata": {
        "id": "I20AgQRzHI9s"
      }
    },
    {
      "cell_type": "code",
      "source": [
        "# PCA 중요도가 가장 높은 1개, 중요도가 0.1보다 큰 6개, 중요도 시각화에서 큰 감소가 보이는 13, 21, 31개를 골라보았다.\n",
        "# ('preprocessing_v0_modified.ipynb' 파일 참고)\n",
        "Nlist = [1, 6, 13, 21, 31]\n",
        "\n",
        "results_dict = {}\n",
        "\n",
        "for j in Nlist:\n",
        "    N = j\n",
        "    fixed_features, optional_features = fixed_optional_split(N)\n",
        "\n",
        "    got = forward(X_train_scaled,\n",
        "                            X_val_scaled,\n",
        "                            y_train,\n",
        "                            y_val,\n",
        "                            fixed_features,\n",
        "                            optional_features)\n",
        "    results_dict[N] = got\n",
        "    print(f\"N: {N} / got[1]: {got[1]}\")\n",
        "\n",
        "best_perf_subset = max(results_dict, key=lambda k: results_dict[k][1])\n",
        "best_perf = results_dict[best_perf_subset]\n",
        "print()\n",
        "print(f\"best_perf_subset = {best_perf_subset}\")\n",
        "print(f\"best_perf[1] = {best_perf[1]}\")\n"
      ],
      "metadata": {
        "id": "H4w-72pCHg7P",
        "colab": {
          "base_uri": "https://localhost:8080/"
        },
        "outputId": "8cef7978-0873-4190-fa9b-d8032ac1c0cb"
      },
      "execution_count": 42,
      "outputs": [
        {
          "output_type": "stream",
          "name": "stdout",
          "text": [
            "고정 개수: 1\n",
            "fixed_list: ['data_channel_Lifestyle']\n",
            "fixed_perf: -0.00035176983956786145\n",
            "성능 개선. best_optional_feature: self_reference_max_shares // best_optional_perf: 0.04810575588951749\n",
            "고정 개수: 2\n",
            "fixed_list: ['data_channel_Lifestyle', 'self_reference_max_shares']\n",
            "fixed_perf: 0.04810575588951749\n",
            "성능 개선. best_optional_feature: n_unique_tokens // best_optional_perf: 0.062362540852870185\n",
            "고정 개수: 3\n",
            "fixed_list: ['data_channel_Lifestyle', 'self_reference_max_shares', 'n_unique_tokens']\n",
            "fixed_perf: 0.062362540852870185\n",
            "성능 개선. best_optional_feature: abs_title_sentiment_polarity // best_optional_perf: 0.07532958311182858\n",
            "고정 개수: 4\n",
            "fixed_list: ['data_channel_Lifestyle', 'self_reference_max_shares', 'n_unique_tokens', 'abs_title_sentiment_polarity']\n",
            "fixed_perf: 0.07532958311182858\n",
            "성능 개선. best_optional_feature: avg_positive_polarity // best_optional_perf: 0.08289515224458033\n",
            "고정 개수: 5\n",
            "fixed_list: ['data_channel_Lifestyle', 'self_reference_max_shares', 'n_unique_tokens', 'abs_title_sentiment_polarity', 'avg_positive_polarity']\n",
            "fixed_perf: 0.08289515224458033\n",
            "성능 개선. best_optional_feature: title_sentiment_polarity // best_optional_perf: 0.08814436729156949\n",
            "고정 개수: 6\n",
            "fixed_list: ['data_channel_Lifestyle', 'self_reference_max_shares', 'n_unique_tokens', 'abs_title_sentiment_polarity', 'avg_positive_polarity', 'title_sentiment_polarity']\n",
            "fixed_perf: 0.08814436729156949\n",
            "성능 개선. best_optional_feature: data_channel_World // best_optional_perf: 0.09263980032087415\n",
            "고정 개수: 7\n",
            "fixed_list: ['data_channel_Lifestyle', 'self_reference_max_shares', 'n_unique_tokens', 'abs_title_sentiment_polarity', 'avg_positive_polarity', 'title_sentiment_polarity', 'data_channel_World']\n",
            "fixed_perf: 0.09263980032087415\n",
            "성능 개선. best_optional_feature: LDA_04 // best_optional_perf: 0.09677983683317326\n",
            "고정 개수: 8\n",
            "fixed_list: ['data_channel_Lifestyle', 'self_reference_max_shares', 'n_unique_tokens', 'abs_title_sentiment_polarity', 'avg_positive_polarity', 'title_sentiment_polarity', 'data_channel_World', 'LDA_04']\n",
            "fixed_perf: 0.09677983683317326\n",
            "성능 개선. best_optional_feature: weekday_Saturday // best_optional_perf: 0.09949071713495128\n",
            "고정 개수: 9\n",
            "fixed_list: ['data_channel_Lifestyle', 'self_reference_max_shares', 'n_unique_tokens', 'abs_title_sentiment_polarity', 'avg_positive_polarity', 'title_sentiment_polarity', 'data_channel_World', 'LDA_04', 'weekday_Saturday']\n",
            "fixed_perf: 0.09949071713495128\n",
            "성능 개선. best_optional_feature: kw_max_avg // best_optional_perf: 0.10187768782101381\n",
            "고정 개수: 10\n",
            "fixed_list: ['data_channel_Lifestyle', 'self_reference_max_shares', 'n_unique_tokens', 'abs_title_sentiment_polarity', 'avg_positive_polarity', 'title_sentiment_polarity', 'data_channel_World', 'LDA_04', 'weekday_Saturday', 'kw_max_avg']\n",
            "fixed_perf: 0.10187768782101381\n",
            "성능 개선. best_optional_feature: LDA_02 // best_optional_perf: 0.10340263727864463\n",
            "고정 개수: 11\n",
            "fixed_list: ['data_channel_Lifestyle', 'self_reference_max_shares', 'n_unique_tokens', 'abs_title_sentiment_polarity', 'avg_positive_polarity', 'title_sentiment_polarity', 'data_channel_World', 'LDA_04', 'weekday_Saturday', 'kw_max_avg', 'LDA_02']\n",
            "fixed_perf: 0.10340263727864463\n",
            "성능 개선. best_optional_feature: global_sentiment_polarity // best_optional_perf: 0.1041438310497963\n",
            "고정 개수: 12\n",
            "fixed_list: ['data_channel_Lifestyle', 'self_reference_max_shares', 'n_unique_tokens', 'abs_title_sentiment_polarity', 'avg_positive_polarity', 'title_sentiment_polarity', 'data_channel_World', 'LDA_04', 'weekday_Saturday', 'kw_max_avg', 'LDA_02', 'global_sentiment_polarity']\n",
            "fixed_perf: 0.1041438310497963\n",
            "성능 개선. best_optional_feature: global_rate_positive_words // best_optional_perf: 0.10635555750540204\n",
            "고정 개수: 13\n",
            "fixed_list: ['data_channel_Lifestyle', 'self_reference_max_shares', 'n_unique_tokens', 'abs_title_sentiment_polarity', 'avg_positive_polarity', 'title_sentiment_polarity', 'data_channel_World', 'LDA_04', 'weekday_Saturday', 'kw_max_avg', 'LDA_02', 'global_sentiment_polarity', 'global_rate_positive_words']\n",
            "fixed_perf: 0.10635555750540204\n",
            "성능 개선. best_optional_feature: n_tokens_content // best_optional_perf: 0.1070021569403542\n",
            "고정 개수: 14\n",
            "fixed_list: ['data_channel_Lifestyle', 'self_reference_max_shares', 'n_unique_tokens', 'abs_title_sentiment_polarity', 'avg_positive_polarity', 'title_sentiment_polarity', 'data_channel_World', 'LDA_04', 'weekday_Saturday', 'kw_max_avg', 'LDA_02', 'global_sentiment_polarity', 'global_rate_positive_words', 'n_tokens_content']\n",
            "fixed_perf: 0.1070021569403542\n",
            "성능 개선. best_optional_feature: kw_max_min // best_optional_perf: 0.10828161925834989\n",
            "고정 개수: 15\n",
            "fixed_list: ['data_channel_Lifestyle', 'self_reference_max_shares', 'n_unique_tokens', 'abs_title_sentiment_polarity', 'avg_positive_polarity', 'title_sentiment_polarity', 'data_channel_World', 'LDA_04', 'weekday_Saturday', 'kw_max_avg', 'LDA_02', 'global_sentiment_polarity', 'global_rate_positive_words', 'n_tokens_content', 'kw_max_min']\n",
            "fixed_perf: 0.10828161925834989\n",
            "성능 개선. best_optional_feature: num_hrefs // best_optional_perf: 0.10858460021661476\n",
            "고정 개수: 16\n",
            "fixed_list: ['data_channel_Lifestyle', 'self_reference_max_shares', 'n_unique_tokens', 'abs_title_sentiment_polarity', 'avg_positive_polarity', 'title_sentiment_polarity', 'data_channel_World', 'LDA_04', 'weekday_Saturday', 'kw_max_avg', 'LDA_02', 'global_sentiment_polarity', 'global_rate_positive_words', 'n_tokens_content', 'kw_max_min', 'num_hrefs']\n",
            "fixed_perf: 0.10858460021661476\n",
            "성능 개선. best_optional_feature: num_videos // best_optional_perf: 0.10879698926027481\n",
            "고정 개수: 17\n",
            "fixed_list: ['data_channel_Lifestyle', 'self_reference_max_shares', 'n_unique_tokens', 'abs_title_sentiment_polarity', 'avg_positive_polarity', 'title_sentiment_polarity', 'data_channel_World', 'LDA_04', 'weekday_Saturday', 'kw_max_avg', 'LDA_02', 'global_sentiment_polarity', 'global_rate_positive_words', 'n_tokens_content', 'kw_max_min', 'num_hrefs', 'num_videos']\n",
            "fixed_perf: 0.10879698926027481\n",
            "성능 개선. best_optional_feature: n_tokens_title // best_optional_perf: 0.10896073097388248\n",
            "고정 개수: 18\n",
            "fixed_list: ['data_channel_Lifestyle', 'self_reference_max_shares', 'n_unique_tokens', 'abs_title_sentiment_polarity', 'avg_positive_polarity', 'title_sentiment_polarity', 'data_channel_World', 'LDA_04', 'weekday_Saturday', 'kw_max_avg', 'LDA_02', 'global_sentiment_polarity', 'global_rate_positive_words', 'n_tokens_content', 'kw_max_min', 'num_hrefs', 'num_videos', 'n_tokens_title']\n",
            "fixed_perf: 0.10896073097388248\n",
            "성능 개선. best_optional_feature: max_positive_polarity // best_optional_perf: 0.10907053115570398\n",
            "고정 개수: 19\n",
            "fixed_list: ['data_channel_Lifestyle', 'self_reference_max_shares', 'n_unique_tokens', 'abs_title_sentiment_polarity', 'avg_positive_polarity', 'title_sentiment_polarity', 'data_channel_World', 'LDA_04', 'weekday_Saturday', 'kw_max_avg', 'LDA_02', 'global_sentiment_polarity', 'global_rate_positive_words', 'n_tokens_content', 'kw_max_min', 'num_hrefs', 'num_videos', 'n_tokens_title', 'max_positive_polarity']\n",
            "fixed_perf: 0.10907053115570398\n",
            "성능 개선. best_optional_feature: data_channel_Social Media // best_optional_perf: 0.10914405692483409\n",
            "고정 개수: 20\n",
            "fixed_list: ['data_channel_Lifestyle', 'self_reference_max_shares', 'n_unique_tokens', 'abs_title_sentiment_polarity', 'avg_positive_polarity', 'title_sentiment_polarity', 'data_channel_World', 'LDA_04', 'weekday_Saturday', 'kw_max_avg', 'LDA_02', 'global_sentiment_polarity', 'global_rate_positive_words', 'n_tokens_content', 'kw_max_min', 'num_hrefs', 'num_videos', 'n_tokens_title', 'max_positive_polarity', 'data_channel_Social Media']\n",
            "fixed_perf: 0.10914405692483409\n",
            "성능 개선. best_optional_feature: weekday_Sunday // best_optional_perf: 0.10917480240207988\n",
            "고정 개수: 21\n",
            "fixed_list: ['data_channel_Lifestyle', 'self_reference_max_shares', 'n_unique_tokens', 'abs_title_sentiment_polarity', 'avg_positive_polarity', 'title_sentiment_polarity', 'data_channel_World', 'LDA_04', 'weekday_Saturday', 'kw_max_avg', 'LDA_02', 'global_sentiment_polarity', 'global_rate_positive_words', 'n_tokens_content', 'kw_max_min', 'num_hrefs', 'num_videos', 'n_tokens_title', 'max_positive_polarity', 'data_channel_Social Media', 'weekday_Sunday']\n",
            "fixed_perf: 0.10917480240207988\n",
            "성능 개선 불가 1회 추가\n",
            "고정 개수: 21\n",
            "fixed_list: ['data_channel_Lifestyle', 'self_reference_max_shares', 'n_unique_tokens', 'abs_title_sentiment_polarity', 'avg_positive_polarity', 'title_sentiment_polarity', 'data_channel_World', 'LDA_04', 'weekday_Saturday', 'kw_max_avg', 'LDA_02', 'global_sentiment_polarity', 'global_rate_positive_words', 'n_tokens_content', 'kw_max_min', 'num_hrefs', 'num_videos', 'n_tokens_title', 'max_positive_polarity', 'data_channel_Social Media', 'weekday_Sunday']\n",
            "fixed_perf: 0.10917480240207988\n",
            "성능 개선 불가 1회 추가\n",
            "고정 개수: 21\n",
            "fixed_list: ['data_channel_Lifestyle', 'self_reference_max_shares', 'n_unique_tokens', 'abs_title_sentiment_polarity', 'avg_positive_polarity', 'title_sentiment_polarity', 'data_channel_World', 'LDA_04', 'weekday_Saturday', 'kw_max_avg', 'LDA_02', 'global_sentiment_polarity', 'global_rate_positive_words', 'n_tokens_content', 'kw_max_min', 'num_hrefs', 'num_videos', 'n_tokens_title', 'max_positive_polarity', 'data_channel_Social Media', 'weekday_Sunday']\n",
            "fixed_perf: 0.10917480240207988\n",
            "성능 개선 불가 1회 추가\n",
            "고정 개수: 21\n",
            "fixed_list: ['data_channel_Lifestyle', 'self_reference_max_shares', 'n_unique_tokens', 'abs_title_sentiment_polarity', 'avg_positive_polarity', 'title_sentiment_polarity', 'data_channel_World', 'LDA_04', 'weekday_Saturday', 'kw_max_avg', 'LDA_02', 'global_sentiment_polarity', 'global_rate_positive_words', 'n_tokens_content', 'kw_max_min', 'num_hrefs', 'num_videos', 'n_tokens_title', 'max_positive_polarity', 'data_channel_Social Media', 'weekday_Sunday']\n",
            "fixed_perf: 0.10917480240207988\n",
            "3회 이상 성능 개선 불가하여 멈춤.\n",
            "number of features: 21\n",
            "fixed_perf: 0.10917480240207988 / best_optional_perf: 0.10908115903307614\n",
            "N: 1 / got[1]: 0.10917480240207988\n",
            "고정 개수: 6\n",
            "fixed_list: ['data_channel_Lifestyle', 'kw_avg_max', 'global_rate_positive_words', 'kw_min_avg', 'data_channel_World', 'min_positive_polarity']\n",
            "fixed_perf: 0.01078760900101483\n",
            "성능 개선. best_optional_feature: self_reference_max_shares // best_optional_perf: 0.05371683815855599\n",
            "고정 개수: 7\n",
            "fixed_list: ['data_channel_Lifestyle', 'kw_avg_max', 'global_rate_positive_words', 'kw_min_avg', 'data_channel_World', 'min_positive_polarity', 'self_reference_max_shares']\n",
            "fixed_perf: 0.05371683815855599\n",
            "성능 개선. best_optional_feature: abs_title_sentiment_polarity // best_optional_perf: 0.06711466355087126\n",
            "고정 개수: 8\n",
            "fixed_list: ['data_channel_Lifestyle', 'kw_avg_max', 'global_rate_positive_words', 'kw_min_avg', 'data_channel_World', 'min_positive_polarity', 'self_reference_max_shares', 'abs_title_sentiment_polarity']\n",
            "fixed_perf: 0.06711466355087126\n",
            "성능 개선. best_optional_feature: n_unique_tokens // best_optional_perf: 0.08009670265533209\n",
            "고정 개수: 9\n",
            "fixed_list: ['data_channel_Lifestyle', 'kw_avg_max', 'global_rate_positive_words', 'kw_min_avg', 'data_channel_World', 'min_positive_polarity', 'self_reference_max_shares', 'abs_title_sentiment_polarity', 'n_unique_tokens']\n",
            "fixed_perf: 0.08009670265533209\n",
            "성능 개선. best_optional_feature: avg_positive_polarity // best_optional_perf: 0.08807842923811093\n",
            "고정 개수: 10\n",
            "fixed_list: ['data_channel_Lifestyle', 'kw_avg_max', 'global_rate_positive_words', 'kw_min_avg', 'data_channel_World', 'min_positive_polarity', 'self_reference_max_shares', 'abs_title_sentiment_polarity', 'n_unique_tokens', 'avg_positive_polarity']\n",
            "fixed_perf: 0.08807842923811093\n",
            "성능 개선. best_optional_feature: title_sentiment_polarity // best_optional_perf: 0.09293237903118778\n",
            "고정 개수: 11\n",
            "fixed_list: ['data_channel_Lifestyle', 'kw_avg_max', 'global_rate_positive_words', 'kw_min_avg', 'data_channel_World', 'min_positive_polarity', 'self_reference_max_shares', 'abs_title_sentiment_polarity', 'n_unique_tokens', 'avg_positive_polarity', 'title_sentiment_polarity']\n",
            "fixed_perf: 0.09293237903118778\n",
            "성능 개선. best_optional_feature: LDA_04 // best_optional_perf: 0.09730953789583296\n",
            "고정 개수: 12\n",
            "fixed_list: ['data_channel_Lifestyle', 'kw_avg_max', 'global_rate_positive_words', 'kw_min_avg', 'data_channel_World', 'min_positive_polarity', 'self_reference_max_shares', 'abs_title_sentiment_polarity', 'n_unique_tokens', 'avg_positive_polarity', 'title_sentiment_polarity', 'LDA_04']\n",
            "fixed_perf: 0.09730953789583296\n",
            "성능 개선. best_optional_feature: weekday_Saturday // best_optional_perf: 0.10011639107551573\n",
            "고정 개수: 13\n",
            "fixed_list: ['data_channel_Lifestyle', 'kw_avg_max', 'global_rate_positive_words', 'kw_min_avg', 'data_channel_World', 'min_positive_polarity', 'self_reference_max_shares', 'abs_title_sentiment_polarity', 'n_unique_tokens', 'avg_positive_polarity', 'title_sentiment_polarity', 'LDA_04', 'weekday_Saturday']\n",
            "fixed_perf: 0.10011639107551573\n",
            "성능 개선. best_optional_feature: global_sentiment_polarity // best_optional_perf: 0.10253861042854429\n",
            "고정 개수: 14\n",
            "fixed_list: ['data_channel_Lifestyle', 'kw_avg_max', 'global_rate_positive_words', 'kw_min_avg', 'data_channel_World', 'min_positive_polarity', 'self_reference_max_shares', 'abs_title_sentiment_polarity', 'n_unique_tokens', 'avg_positive_polarity', 'title_sentiment_polarity', 'LDA_04', 'weekday_Saturday', 'global_sentiment_polarity']\n",
            "fixed_perf: 0.10253861042854429\n",
            "성능 개선. best_optional_feature: kw_max_avg // best_optional_perf: 0.10483786295700448\n",
            "고정 개수: 15\n",
            "fixed_list: ['data_channel_Lifestyle', 'kw_avg_max', 'global_rate_positive_words', 'kw_min_avg', 'data_channel_World', 'min_positive_polarity', 'self_reference_max_shares', 'abs_title_sentiment_polarity', 'n_unique_tokens', 'avg_positive_polarity', 'title_sentiment_polarity', 'LDA_04', 'weekday_Saturday', 'global_sentiment_polarity', 'kw_max_avg']\n",
            "fixed_perf: 0.10483786295700448\n",
            "성능 개선. best_optional_feature: LDA_02 // best_optional_perf: 0.10600304543348094\n",
            "고정 개수: 16\n",
            "fixed_list: ['data_channel_Lifestyle', 'kw_avg_max', 'global_rate_positive_words', 'kw_min_avg', 'data_channel_World', 'min_positive_polarity', 'self_reference_max_shares', 'abs_title_sentiment_polarity', 'n_unique_tokens', 'avg_positive_polarity', 'title_sentiment_polarity', 'LDA_04', 'weekday_Saturday', 'global_sentiment_polarity', 'kw_max_avg', 'LDA_02']\n",
            "fixed_perf: 0.10600304543348094\n",
            "성능 개선. best_optional_feature: n_tokens_content // best_optional_perf: 0.10665358501670075\n",
            "고정 개수: 17\n",
            "fixed_list: ['data_channel_Lifestyle', 'kw_avg_max', 'global_rate_positive_words', 'kw_min_avg', 'data_channel_World', 'min_positive_polarity', 'self_reference_max_shares', 'abs_title_sentiment_polarity', 'n_unique_tokens', 'avg_positive_polarity', 'title_sentiment_polarity', 'LDA_04', 'weekday_Saturday', 'global_sentiment_polarity', 'kw_max_avg', 'LDA_02', 'n_tokens_content']\n",
            "fixed_perf: 0.10665358501670075\n",
            "성능 개선. best_optional_feature: kw_max_min // best_optional_perf: 0.10801692552923858\n",
            "고정 개수: 18\n",
            "fixed_list: ['data_channel_Lifestyle', 'kw_avg_max', 'global_rate_positive_words', 'kw_min_avg', 'data_channel_World', 'min_positive_polarity', 'self_reference_max_shares', 'abs_title_sentiment_polarity', 'n_unique_tokens', 'avg_positive_polarity', 'title_sentiment_polarity', 'LDA_04', 'weekday_Saturday', 'global_sentiment_polarity', 'kw_max_avg', 'LDA_02', 'n_tokens_content', 'kw_max_min']\n",
            "fixed_perf: 0.10801692552923858\n",
            "성능 개선. best_optional_feature: num_hrefs // best_optional_perf: 0.1082787398168894\n",
            "고정 개수: 19\n",
            "fixed_list: ['data_channel_Lifestyle', 'kw_avg_max', 'global_rate_positive_words', 'kw_min_avg', 'data_channel_World', 'min_positive_polarity', 'self_reference_max_shares', 'abs_title_sentiment_polarity', 'n_unique_tokens', 'avg_positive_polarity', 'title_sentiment_polarity', 'LDA_04', 'weekday_Saturday', 'global_sentiment_polarity', 'kw_max_avg', 'LDA_02', 'n_tokens_content', 'kw_max_min', 'num_hrefs']\n",
            "fixed_perf: 0.1082787398168894\n",
            "성능 개선. best_optional_feature: num_videos // best_optional_perf: 0.10849833621377925\n",
            "고정 개수: 20\n",
            "fixed_list: ['data_channel_Lifestyle', 'kw_avg_max', 'global_rate_positive_words', 'kw_min_avg', 'data_channel_World', 'min_positive_polarity', 'self_reference_max_shares', 'abs_title_sentiment_polarity', 'n_unique_tokens', 'avg_positive_polarity', 'title_sentiment_polarity', 'LDA_04', 'weekday_Saturday', 'global_sentiment_polarity', 'kw_max_avg', 'LDA_02', 'n_tokens_content', 'kw_max_min', 'num_hrefs', 'num_videos']\n",
            "fixed_perf: 0.10849833621377925\n",
            "성능 개선. best_optional_feature: n_tokens_title // best_optional_perf: 0.10861044421128363\n",
            "고정 개수: 21\n",
            "fixed_list: ['data_channel_Lifestyle', 'kw_avg_max', 'global_rate_positive_words', 'kw_min_avg', 'data_channel_World', 'min_positive_polarity', 'self_reference_max_shares', 'abs_title_sentiment_polarity', 'n_unique_tokens', 'avg_positive_polarity', 'title_sentiment_polarity', 'LDA_04', 'weekday_Saturday', 'global_sentiment_polarity', 'kw_max_avg', 'LDA_02', 'n_tokens_content', 'kw_max_min', 'num_hrefs', 'num_videos', 'n_tokens_title']\n",
            "fixed_perf: 0.10861044421128363\n",
            "성능 개선. best_optional_feature: max_positive_polarity // best_optional_perf: 0.10874123553974102\n",
            "고정 개수: 22\n",
            "fixed_list: ['data_channel_Lifestyle', 'kw_avg_max', 'global_rate_positive_words', 'kw_min_avg', 'data_channel_World', 'min_positive_polarity', 'self_reference_max_shares', 'abs_title_sentiment_polarity', 'n_unique_tokens', 'avg_positive_polarity', 'title_sentiment_polarity', 'LDA_04', 'weekday_Saturday', 'global_sentiment_polarity', 'kw_max_avg', 'LDA_02', 'n_tokens_content', 'kw_max_min', 'num_hrefs', 'num_videos', 'n_tokens_title', 'max_positive_polarity']\n",
            "fixed_perf: 0.10874123553974102\n",
            "성능 개선. best_optional_feature: data_channel_Social Media // best_optional_perf: 0.10879575036585343\n",
            "고정 개수: 23\n",
            "fixed_list: ['data_channel_Lifestyle', 'kw_avg_max', 'global_rate_positive_words', 'kw_min_avg', 'data_channel_World', 'min_positive_polarity', 'self_reference_max_shares', 'abs_title_sentiment_polarity', 'n_unique_tokens', 'avg_positive_polarity', 'title_sentiment_polarity', 'LDA_04', 'weekday_Saturday', 'global_sentiment_polarity', 'kw_max_avg', 'LDA_02', 'n_tokens_content', 'kw_max_min', 'num_hrefs', 'num_videos', 'n_tokens_title', 'max_positive_polarity', 'data_channel_Social Media']\n",
            "fixed_perf: 0.10879575036585343\n",
            "성능 개선. best_optional_feature: weekday_Sunday // best_optional_perf: 0.10882450316457082\n",
            "고정 개수: 24\n",
            "fixed_list: ['data_channel_Lifestyle', 'kw_avg_max', 'global_rate_positive_words', 'kw_min_avg', 'data_channel_World', 'min_positive_polarity', 'self_reference_max_shares', 'abs_title_sentiment_polarity', 'n_unique_tokens', 'avg_positive_polarity', 'title_sentiment_polarity', 'LDA_04', 'weekday_Saturday', 'global_sentiment_polarity', 'kw_max_avg', 'LDA_02', 'n_tokens_content', 'kw_max_min', 'num_hrefs', 'num_videos', 'n_tokens_title', 'max_positive_polarity', 'data_channel_Social Media', 'weekday_Sunday']\n",
            "fixed_perf: 0.10882450316457082\n",
            "성능 개선 불가 1회 추가\n",
            "고정 개수: 24\n",
            "fixed_list: ['data_channel_Lifestyle', 'kw_avg_max', 'global_rate_positive_words', 'kw_min_avg', 'data_channel_World', 'min_positive_polarity', 'self_reference_max_shares', 'abs_title_sentiment_polarity', 'n_unique_tokens', 'avg_positive_polarity', 'title_sentiment_polarity', 'LDA_04', 'weekday_Saturday', 'global_sentiment_polarity', 'kw_max_avg', 'LDA_02', 'n_tokens_content', 'kw_max_min', 'num_hrefs', 'num_videos', 'n_tokens_title', 'max_positive_polarity', 'data_channel_Social Media', 'weekday_Sunday']\n",
            "fixed_perf: 0.10882450316457082\n",
            "성능 개선 불가 1회 추가\n",
            "고정 개수: 24\n",
            "fixed_list: ['data_channel_Lifestyle', 'kw_avg_max', 'global_rate_positive_words', 'kw_min_avg', 'data_channel_World', 'min_positive_polarity', 'self_reference_max_shares', 'abs_title_sentiment_polarity', 'n_unique_tokens', 'avg_positive_polarity', 'title_sentiment_polarity', 'LDA_04', 'weekday_Saturday', 'global_sentiment_polarity', 'kw_max_avg', 'LDA_02', 'n_tokens_content', 'kw_max_min', 'num_hrefs', 'num_videos', 'n_tokens_title', 'max_positive_polarity', 'data_channel_Social Media', 'weekday_Sunday']\n",
            "fixed_perf: 0.10882450316457082\n",
            "성능 개선 불가 1회 추가\n",
            "고정 개수: 24\n",
            "fixed_list: ['data_channel_Lifestyle', 'kw_avg_max', 'global_rate_positive_words', 'kw_min_avg', 'data_channel_World', 'min_positive_polarity', 'self_reference_max_shares', 'abs_title_sentiment_polarity', 'n_unique_tokens', 'avg_positive_polarity', 'title_sentiment_polarity', 'LDA_04', 'weekday_Saturday', 'global_sentiment_polarity', 'kw_max_avg', 'LDA_02', 'n_tokens_content', 'kw_max_min', 'num_hrefs', 'num_videos', 'n_tokens_title', 'max_positive_polarity', 'data_channel_Social Media', 'weekday_Sunday']\n",
            "fixed_perf: 0.10882450316457082\n",
            "3회 이상 성능 개선 불가하여 멈춤.\n",
            "number of features: 24\n",
            "fixed_perf: 0.10882450316457082 / best_optional_perf: 0.10874472873099339\n",
            "N: 6 / got[1]: 0.10882450316457082\n",
            "고정 개수: 13\n",
            "fixed_list: ['data_channel_Lifestyle', 'kw_avg_max', 'global_rate_positive_words', 'kw_min_avg', 'data_channel_World', 'min_positive_polarity', 'LDA_00', 'min_negative_polarity', 'num_hrefs', 'LDA_02', 'global_rate_negative_words', 'self_reference_min_shares', 'num_keywords']\n",
            "fixed_perf: 0.01994632223036108\n",
            "성능 개선. best_optional_feature: self_reference_max_shares // best_optional_perf: 0.05532240475074324\n",
            "고정 개수: 14\n",
            "fixed_list: ['data_channel_Lifestyle', 'kw_avg_max', 'global_rate_positive_words', 'kw_min_avg', 'data_channel_World', 'min_positive_polarity', 'LDA_00', 'min_negative_polarity', 'num_hrefs', 'LDA_02', 'global_rate_negative_words', 'self_reference_min_shares', 'num_keywords', 'self_reference_max_shares']\n",
            "fixed_perf: 0.05532240475074324\n",
            "성능 개선. best_optional_feature: abs_title_sentiment_polarity // best_optional_perf: 0.06731096487027721\n",
            "고정 개수: 15\n",
            "fixed_list: ['data_channel_Lifestyle', 'kw_avg_max', 'global_rate_positive_words', 'kw_min_avg', 'data_channel_World', 'min_positive_polarity', 'LDA_00', 'min_negative_polarity', 'num_hrefs', 'LDA_02', 'global_rate_negative_words', 'self_reference_min_shares', 'num_keywords', 'self_reference_max_shares', 'abs_title_sentiment_polarity']\n",
            "fixed_perf: 0.06731096487027721\n",
            "성능 개선. best_optional_feature: n_unique_tokens // best_optional_perf: 0.07960252273076285\n",
            "고정 개수: 16\n",
            "fixed_list: ['data_channel_Lifestyle', 'kw_avg_max', 'global_rate_positive_words', 'kw_min_avg', 'data_channel_World', 'min_positive_polarity', 'LDA_00', 'min_negative_polarity', 'num_hrefs', 'LDA_02', 'global_rate_negative_words', 'self_reference_min_shares', 'num_keywords', 'self_reference_max_shares', 'abs_title_sentiment_polarity', 'n_unique_tokens']\n",
            "fixed_perf: 0.07960252273076285\n",
            "성능 개선. best_optional_feature: avg_positive_polarity // best_optional_perf: 0.0880143019663483\n",
            "고정 개수: 17\n",
            "fixed_list: ['data_channel_Lifestyle', 'kw_avg_max', 'global_rate_positive_words', 'kw_min_avg', 'data_channel_World', 'min_positive_polarity', 'LDA_00', 'min_negative_polarity', 'num_hrefs', 'LDA_02', 'global_rate_negative_words', 'self_reference_min_shares', 'num_keywords', 'self_reference_max_shares', 'abs_title_sentiment_polarity', 'n_unique_tokens', 'avg_positive_polarity']\n",
            "fixed_perf: 0.0880143019663483\n",
            "성능 개선. best_optional_feature: title_sentiment_polarity // best_optional_perf: 0.09344031563720778\n",
            "고정 개수: 18\n",
            "fixed_list: ['data_channel_Lifestyle', 'kw_avg_max', 'global_rate_positive_words', 'kw_min_avg', 'data_channel_World', 'min_positive_polarity', 'LDA_00', 'min_negative_polarity', 'num_hrefs', 'LDA_02', 'global_rate_negative_words', 'self_reference_min_shares', 'num_keywords', 'self_reference_max_shares', 'abs_title_sentiment_polarity', 'n_unique_tokens', 'avg_positive_polarity', 'title_sentiment_polarity']\n",
            "fixed_perf: 0.09344031563720778\n",
            "성능 개선. best_optional_feature: LDA_04 // best_optional_perf: 0.09768272993224603\n",
            "고정 개수: 19\n",
            "fixed_list: ['data_channel_Lifestyle', 'kw_avg_max', 'global_rate_positive_words', 'kw_min_avg', 'data_channel_World', 'min_positive_polarity', 'LDA_00', 'min_negative_polarity', 'num_hrefs', 'LDA_02', 'global_rate_negative_words', 'self_reference_min_shares', 'num_keywords', 'self_reference_max_shares', 'abs_title_sentiment_polarity', 'n_unique_tokens', 'avg_positive_polarity', 'title_sentiment_polarity', 'LDA_04']\n",
            "fixed_perf: 0.09768272993224603\n",
            "성능 개선. best_optional_feature: weekday_Saturday // best_optional_perf: 0.10036235321942799\n",
            "고정 개수: 20\n",
            "fixed_list: ['data_channel_Lifestyle', 'kw_avg_max', 'global_rate_positive_words', 'kw_min_avg', 'data_channel_World', 'min_positive_polarity', 'LDA_00', 'min_negative_polarity', 'num_hrefs', 'LDA_02', 'global_rate_negative_words', 'self_reference_min_shares', 'num_keywords', 'self_reference_max_shares', 'abs_title_sentiment_polarity', 'n_unique_tokens', 'avg_positive_polarity', 'title_sentiment_polarity', 'LDA_04', 'weekday_Saturday']\n",
            "fixed_perf: 0.10036235321942799\n",
            "성능 개선. best_optional_feature: global_sentiment_polarity // best_optional_perf: 0.10298093643531547\n",
            "고정 개수: 21\n",
            "fixed_list: ['data_channel_Lifestyle', 'kw_avg_max', 'global_rate_positive_words', 'kw_min_avg', 'data_channel_World', 'min_positive_polarity', 'LDA_00', 'min_negative_polarity', 'num_hrefs', 'LDA_02', 'global_rate_negative_words', 'self_reference_min_shares', 'num_keywords', 'self_reference_max_shares', 'abs_title_sentiment_polarity', 'n_unique_tokens', 'avg_positive_polarity', 'title_sentiment_polarity', 'LDA_04', 'weekday_Saturday', 'global_sentiment_polarity']\n",
            "fixed_perf: 0.10298093643531547\n",
            "성능 개선. best_optional_feature: kw_max_avg // best_optional_perf: 0.10512091969299375\n",
            "고정 개수: 22\n",
            "fixed_list: ['data_channel_Lifestyle', 'kw_avg_max', 'global_rate_positive_words', 'kw_min_avg', 'data_channel_World', 'min_positive_polarity', 'LDA_00', 'min_negative_polarity', 'num_hrefs', 'LDA_02', 'global_rate_negative_words', 'self_reference_min_shares', 'num_keywords', 'self_reference_max_shares', 'abs_title_sentiment_polarity', 'n_unique_tokens', 'avg_positive_polarity', 'title_sentiment_polarity', 'LDA_04', 'weekday_Saturday', 'global_sentiment_polarity', 'kw_max_avg']\n",
            "fixed_perf: 0.10512091969299375\n",
            "성능 개선. best_optional_feature: kw_max_min // best_optional_perf: 0.1056843056001523\n",
            "고정 개수: 23\n",
            "fixed_list: ['data_channel_Lifestyle', 'kw_avg_max', 'global_rate_positive_words', 'kw_min_avg', 'data_channel_World', 'min_positive_polarity', 'LDA_00', 'min_negative_polarity', 'num_hrefs', 'LDA_02', 'global_rate_negative_words', 'self_reference_min_shares', 'num_keywords', 'self_reference_max_shares', 'abs_title_sentiment_polarity', 'n_unique_tokens', 'avg_positive_polarity', 'title_sentiment_polarity', 'LDA_04', 'weekday_Saturday', 'global_sentiment_polarity', 'kw_max_avg', 'kw_max_min']\n",
            "fixed_perf: 0.1056843056001523\n",
            "성능 개선. best_optional_feature: n_tokens_content // best_optional_perf: 0.10710468493478165\n",
            "고정 개수: 24\n",
            "fixed_list: ['data_channel_Lifestyle', 'kw_avg_max', 'global_rate_positive_words', 'kw_min_avg', 'data_channel_World', 'min_positive_polarity', 'LDA_00', 'min_negative_polarity', 'num_hrefs', 'LDA_02', 'global_rate_negative_words', 'self_reference_min_shares', 'num_keywords', 'self_reference_max_shares', 'abs_title_sentiment_polarity', 'n_unique_tokens', 'avg_positive_polarity', 'title_sentiment_polarity', 'LDA_04', 'weekday_Saturday', 'global_sentiment_polarity', 'kw_max_avg', 'kw_max_min', 'n_tokens_content']\n",
            "fixed_perf: 0.10710468493478165\n",
            "성능 개선. best_optional_feature: num_videos // best_optional_perf: 0.10720639065028237\n",
            "고정 개수: 25\n",
            "fixed_list: ['data_channel_Lifestyle', 'kw_avg_max', 'global_rate_positive_words', 'kw_min_avg', 'data_channel_World', 'min_positive_polarity', 'LDA_00', 'min_negative_polarity', 'num_hrefs', 'LDA_02', 'global_rate_negative_words', 'self_reference_min_shares', 'num_keywords', 'self_reference_max_shares', 'abs_title_sentiment_polarity', 'n_unique_tokens', 'avg_positive_polarity', 'title_sentiment_polarity', 'LDA_04', 'weekday_Saturday', 'global_sentiment_polarity', 'kw_max_avg', 'kw_max_min', 'n_tokens_content', 'num_videos']\n",
            "fixed_perf: 0.10720639065028237\n",
            "성능 개선. best_optional_feature: n_tokens_title // best_optional_perf: 0.10730719788316634\n",
            "고정 개수: 26\n",
            "fixed_list: ['data_channel_Lifestyle', 'kw_avg_max', 'global_rate_positive_words', 'kw_min_avg', 'data_channel_World', 'min_positive_polarity', 'LDA_00', 'min_negative_polarity', 'num_hrefs', 'LDA_02', 'global_rate_negative_words', 'self_reference_min_shares', 'num_keywords', 'self_reference_max_shares', 'abs_title_sentiment_polarity', 'n_unique_tokens', 'avg_positive_polarity', 'title_sentiment_polarity', 'LDA_04', 'weekday_Saturday', 'global_sentiment_polarity', 'kw_max_avg', 'kw_max_min', 'n_tokens_content', 'num_videos', 'n_tokens_title']\n",
            "fixed_perf: 0.10730719788316634\n",
            "성능 개선. best_optional_feature: max_positive_polarity // best_optional_perf: 0.10743821204398629\n",
            "고정 개수: 27\n",
            "fixed_list: ['data_channel_Lifestyle', 'kw_avg_max', 'global_rate_positive_words', 'kw_min_avg', 'data_channel_World', 'min_positive_polarity', 'LDA_00', 'min_negative_polarity', 'num_hrefs', 'LDA_02', 'global_rate_negative_words', 'self_reference_min_shares', 'num_keywords', 'self_reference_max_shares', 'abs_title_sentiment_polarity', 'n_unique_tokens', 'avg_positive_polarity', 'title_sentiment_polarity', 'LDA_04', 'weekday_Saturday', 'global_sentiment_polarity', 'kw_max_avg', 'kw_max_min', 'n_tokens_content', 'num_videos', 'n_tokens_title', 'max_positive_polarity']\n",
            "fixed_perf: 0.10743821204398629\n",
            "성능 개선. best_optional_feature: data_channel_Social Media // best_optional_perf: 0.10747401211094287\n",
            "고정 개수: 28\n",
            "fixed_list: ['data_channel_Lifestyle', 'kw_avg_max', 'global_rate_positive_words', 'kw_min_avg', 'data_channel_World', 'min_positive_polarity', 'LDA_00', 'min_negative_polarity', 'num_hrefs', 'LDA_02', 'global_rate_negative_words', 'self_reference_min_shares', 'num_keywords', 'self_reference_max_shares', 'abs_title_sentiment_polarity', 'n_unique_tokens', 'avg_positive_polarity', 'title_sentiment_polarity', 'LDA_04', 'weekday_Saturday', 'global_sentiment_polarity', 'kw_max_avg', 'kw_max_min', 'n_tokens_content', 'num_videos', 'n_tokens_title', 'max_positive_polarity', 'data_channel_Social Media']\n",
            "fixed_perf: 0.10747401211094287\n",
            "성능 개선. best_optional_feature: LDA_03 // best_optional_perf: 0.10748917731037799\n",
            "고정 개수: 29\n",
            "fixed_list: ['data_channel_Lifestyle', 'kw_avg_max', 'global_rate_positive_words', 'kw_min_avg', 'data_channel_World', 'min_positive_polarity', 'LDA_00', 'min_negative_polarity', 'num_hrefs', 'LDA_02', 'global_rate_negative_words', 'self_reference_min_shares', 'num_keywords', 'self_reference_max_shares', 'abs_title_sentiment_polarity', 'n_unique_tokens', 'avg_positive_polarity', 'title_sentiment_polarity', 'LDA_04', 'weekday_Saturday', 'global_sentiment_polarity', 'kw_max_avg', 'kw_max_min', 'n_tokens_content', 'num_videos', 'n_tokens_title', 'max_positive_polarity', 'data_channel_Social Media', 'LDA_03']\n",
            "fixed_perf: 0.10748917731037799\n",
            "성능 개선 불가 1회 추가\n",
            "고정 개수: 29\n",
            "fixed_list: ['data_channel_Lifestyle', 'kw_avg_max', 'global_rate_positive_words', 'kw_min_avg', 'data_channel_World', 'min_positive_polarity', 'LDA_00', 'min_negative_polarity', 'num_hrefs', 'LDA_02', 'global_rate_negative_words', 'self_reference_min_shares', 'num_keywords', 'self_reference_max_shares', 'abs_title_sentiment_polarity', 'n_unique_tokens', 'avg_positive_polarity', 'title_sentiment_polarity', 'LDA_04', 'weekday_Saturday', 'global_sentiment_polarity', 'kw_max_avg', 'kw_max_min', 'n_tokens_content', 'num_videos', 'n_tokens_title', 'max_positive_polarity', 'data_channel_Social Media', 'LDA_03']\n",
            "fixed_perf: 0.10748917731037799\n",
            "성능 개선 불가 1회 추가\n",
            "고정 개수: 29\n",
            "fixed_list: ['data_channel_Lifestyle', 'kw_avg_max', 'global_rate_positive_words', 'kw_min_avg', 'data_channel_World', 'min_positive_polarity', 'LDA_00', 'min_negative_polarity', 'num_hrefs', 'LDA_02', 'global_rate_negative_words', 'self_reference_min_shares', 'num_keywords', 'self_reference_max_shares', 'abs_title_sentiment_polarity', 'n_unique_tokens', 'avg_positive_polarity', 'title_sentiment_polarity', 'LDA_04', 'weekday_Saturday', 'global_sentiment_polarity', 'kw_max_avg', 'kw_max_min', 'n_tokens_content', 'num_videos', 'n_tokens_title', 'max_positive_polarity', 'data_channel_Social Media', 'LDA_03']\n",
            "fixed_perf: 0.10748917731037799\n",
            "성능 개선 불가 1회 추가\n",
            "고정 개수: 29\n",
            "fixed_list: ['data_channel_Lifestyle', 'kw_avg_max', 'global_rate_positive_words', 'kw_min_avg', 'data_channel_World', 'min_positive_polarity', 'LDA_00', 'min_negative_polarity', 'num_hrefs', 'LDA_02', 'global_rate_negative_words', 'self_reference_min_shares', 'num_keywords', 'self_reference_max_shares', 'abs_title_sentiment_polarity', 'n_unique_tokens', 'avg_positive_polarity', 'title_sentiment_polarity', 'LDA_04', 'weekday_Saturday', 'global_sentiment_polarity', 'kw_max_avg', 'kw_max_min', 'n_tokens_content', 'num_videos', 'n_tokens_title', 'max_positive_polarity', 'data_channel_Social Media', 'LDA_03']\n",
            "fixed_perf: 0.10748917731037799\n",
            "3회 이상 성능 개선 불가하여 멈춤.\n",
            "number of features: 29\n",
            "fixed_perf: 0.10748917731037799 / best_optional_perf: 0.10748818680224326\n",
            "N: 13 / got[1]: 0.10748917731037799\n",
            "고정 개수: 21\n",
            "fixed_list: ['data_channel_Lifestyle', 'kw_avg_max', 'global_rate_positive_words', 'kw_min_avg', 'data_channel_World', 'min_positive_polarity', 'LDA_00', 'min_negative_polarity', 'num_hrefs', 'LDA_02', 'global_rate_negative_words', 'self_reference_min_shares', 'num_keywords', 'data_channel_Tech', 'LDA_01', 'kw_max_avg', 'self_reference_max_shares', 'LDA_04', 'LDA_03', 'num_self_hrefs', 'kw_max_min']\n",
            "fixed_perf: 0.0662827523782008\n",
            "성능 개선. best_optional_feature: n_unique_tokens // best_optional_perf: 0.07852612635198875\n",
            "고정 개수: 22\n",
            "fixed_list: ['data_channel_Lifestyle', 'kw_avg_max', 'global_rate_positive_words', 'kw_min_avg', 'data_channel_World', 'min_positive_polarity', 'LDA_00', 'min_negative_polarity', 'num_hrefs', 'LDA_02', 'global_rate_negative_words', 'self_reference_min_shares', 'num_keywords', 'data_channel_Tech', 'LDA_01', 'kw_max_avg', 'self_reference_max_shares', 'LDA_04', 'LDA_03', 'num_self_hrefs', 'kw_max_min', 'n_unique_tokens']\n",
            "fixed_perf: 0.07852612635198875\n",
            "성능 개선. best_optional_feature: weekday_Saturday // best_optional_perf: 0.08736341206047626\n",
            "고정 개수: 23\n",
            "fixed_list: ['data_channel_Lifestyle', 'kw_avg_max', 'global_rate_positive_words', 'kw_min_avg', 'data_channel_World', 'min_positive_polarity', 'LDA_00', 'min_negative_polarity', 'num_hrefs', 'LDA_02', 'global_rate_negative_words', 'self_reference_min_shares', 'num_keywords', 'data_channel_Tech', 'LDA_01', 'kw_max_avg', 'self_reference_max_shares', 'LDA_04', 'LDA_03', 'num_self_hrefs', 'kw_max_min', 'n_unique_tokens', 'weekday_Saturday']\n",
            "fixed_perf: 0.08736341206047626\n",
            "성능 개선. best_optional_feature: title_sentiment_polarity // best_optional_perf: 0.09415153904825646\n",
            "고정 개수: 24\n",
            "fixed_list: ['data_channel_Lifestyle', 'kw_avg_max', 'global_rate_positive_words', 'kw_min_avg', 'data_channel_World', 'min_positive_polarity', 'LDA_00', 'min_negative_polarity', 'num_hrefs', 'LDA_02', 'global_rate_negative_words', 'self_reference_min_shares', 'num_keywords', 'data_channel_Tech', 'LDA_01', 'kw_max_avg', 'self_reference_max_shares', 'LDA_04', 'LDA_03', 'num_self_hrefs', 'kw_max_min', 'n_unique_tokens', 'weekday_Saturday', 'title_sentiment_polarity']\n",
            "fixed_perf: 0.09415153904825646\n",
            "성능 개선. best_optional_feature: n_tokens_content // best_optional_perf: 0.09995153600634377\n",
            "고정 개수: 25\n",
            "fixed_list: ['data_channel_Lifestyle', 'kw_avg_max', 'global_rate_positive_words', 'kw_min_avg', 'data_channel_World', 'min_positive_polarity', 'LDA_00', 'min_negative_polarity', 'num_hrefs', 'LDA_02', 'global_rate_negative_words', 'self_reference_min_shares', 'num_keywords', 'data_channel_Tech', 'LDA_01', 'kw_max_avg', 'self_reference_max_shares', 'LDA_04', 'LDA_03', 'num_self_hrefs', 'kw_max_min', 'n_unique_tokens', 'weekday_Saturday', 'title_sentiment_polarity', 'n_tokens_content']\n",
            "fixed_perf: 0.09995153600634377\n",
            "성능 개선. best_optional_feature: global_sentiment_polarity // best_optional_perf: 0.10300879311994715\n",
            "고정 개수: 26\n",
            "fixed_list: ['data_channel_Lifestyle', 'kw_avg_max', 'global_rate_positive_words', 'kw_min_avg', 'data_channel_World', 'min_positive_polarity', 'LDA_00', 'min_negative_polarity', 'num_hrefs', 'LDA_02', 'global_rate_negative_words', 'self_reference_min_shares', 'num_keywords', 'data_channel_Tech', 'LDA_01', 'kw_max_avg', 'self_reference_max_shares', 'LDA_04', 'LDA_03', 'num_self_hrefs', 'kw_max_min', 'n_unique_tokens', 'weekday_Saturday', 'title_sentiment_polarity', 'n_tokens_content', 'global_sentiment_polarity']\n",
            "fixed_perf: 0.10300879311994715\n",
            "성능 개선. best_optional_feature: abs_title_sentiment_polarity // best_optional_perf: 0.10493916218617882\n",
            "고정 개수: 27\n",
            "fixed_list: ['data_channel_Lifestyle', 'kw_avg_max', 'global_rate_positive_words', 'kw_min_avg', 'data_channel_World', 'min_positive_polarity', 'LDA_00', 'min_negative_polarity', 'num_hrefs', 'LDA_02', 'global_rate_negative_words', 'self_reference_min_shares', 'num_keywords', 'data_channel_Tech', 'LDA_01', 'kw_max_avg', 'self_reference_max_shares', 'LDA_04', 'LDA_03', 'num_self_hrefs', 'kw_max_min', 'n_unique_tokens', 'weekday_Saturday', 'title_sentiment_polarity', 'n_tokens_content', 'global_sentiment_polarity', 'abs_title_sentiment_polarity']\n",
            "fixed_perf: 0.10493916218617882\n",
            "성능 개선. best_optional_feature: weekday_Sunday // best_optional_perf: 0.10546316820826629\n",
            "고정 개수: 28\n",
            "fixed_list: ['data_channel_Lifestyle', 'kw_avg_max', 'global_rate_positive_words', 'kw_min_avg', 'data_channel_World', 'min_positive_polarity', 'LDA_00', 'min_negative_polarity', 'num_hrefs', 'LDA_02', 'global_rate_negative_words', 'self_reference_min_shares', 'num_keywords', 'data_channel_Tech', 'LDA_01', 'kw_max_avg', 'self_reference_max_shares', 'LDA_04', 'LDA_03', 'num_self_hrefs', 'kw_max_min', 'n_unique_tokens', 'weekday_Saturday', 'title_sentiment_polarity', 'n_tokens_content', 'global_sentiment_polarity', 'abs_title_sentiment_polarity', 'weekday_Sunday']\n",
            "fixed_perf: 0.10546316820826629\n",
            "성능 개선. best_optional_feature: num_imgs // best_optional_perf: 0.10558122072212428\n",
            "고정 개수: 29\n",
            "fixed_list: ['data_channel_Lifestyle', 'kw_avg_max', 'global_rate_positive_words', 'kw_min_avg', 'data_channel_World', 'min_positive_polarity', 'LDA_00', 'min_negative_polarity', 'num_hrefs', 'LDA_02', 'global_rate_negative_words', 'self_reference_min_shares', 'num_keywords', 'data_channel_Tech', 'LDA_01', 'kw_max_avg', 'self_reference_max_shares', 'LDA_04', 'LDA_03', 'num_self_hrefs', 'kw_max_min', 'n_unique_tokens', 'weekday_Saturday', 'title_sentiment_polarity', 'n_tokens_content', 'global_sentiment_polarity', 'abs_title_sentiment_polarity', 'weekday_Sunday', 'num_imgs']\n",
            "fixed_perf: 0.10558122072212428\n",
            "성능 개선. best_optional_feature: rate_positive_words // best_optional_perf: 0.10568790394739613\n",
            "고정 개수: 30\n",
            "fixed_list: ['data_channel_Lifestyle', 'kw_avg_max', 'global_rate_positive_words', 'kw_min_avg', 'data_channel_World', 'min_positive_polarity', 'LDA_00', 'min_negative_polarity', 'num_hrefs', 'LDA_02', 'global_rate_negative_words', 'self_reference_min_shares', 'num_keywords', 'data_channel_Tech', 'LDA_01', 'kw_max_avg', 'self_reference_max_shares', 'LDA_04', 'LDA_03', 'num_self_hrefs', 'kw_max_min', 'n_unique_tokens', 'weekday_Saturday', 'title_sentiment_polarity', 'n_tokens_content', 'global_sentiment_polarity', 'abs_title_sentiment_polarity', 'weekday_Sunday', 'num_imgs', 'rate_positive_words']\n",
            "fixed_perf: 0.10568790394739613\n",
            "성능 개선. best_optional_feature: data_channel_Social Media // best_optional_perf: 0.10579650103361371\n",
            "고정 개수: 31\n",
            "fixed_list: ['data_channel_Lifestyle', 'kw_avg_max', 'global_rate_positive_words', 'kw_min_avg', 'data_channel_World', 'min_positive_polarity', 'LDA_00', 'min_negative_polarity', 'num_hrefs', 'LDA_02', 'global_rate_negative_words', 'self_reference_min_shares', 'num_keywords', 'data_channel_Tech', 'LDA_01', 'kw_max_avg', 'self_reference_max_shares', 'LDA_04', 'LDA_03', 'num_self_hrefs', 'kw_max_min', 'n_unique_tokens', 'weekday_Saturday', 'title_sentiment_polarity', 'n_tokens_content', 'global_sentiment_polarity', 'abs_title_sentiment_polarity', 'weekday_Sunday', 'num_imgs', 'rate_positive_words', 'data_channel_Social Media']\n",
            "fixed_perf: 0.10579650103361371\n",
            "성능 개선. best_optional_feature: n_tokens_title // best_optional_perf: 0.10589000174711993\n",
            "고정 개수: 32\n",
            "fixed_list: ['data_channel_Lifestyle', 'kw_avg_max', 'global_rate_positive_words', 'kw_min_avg', 'data_channel_World', 'min_positive_polarity', 'LDA_00', 'min_negative_polarity', 'num_hrefs', 'LDA_02', 'global_rate_negative_words', 'self_reference_min_shares', 'num_keywords', 'data_channel_Tech', 'LDA_01', 'kw_max_avg', 'self_reference_max_shares', 'LDA_04', 'LDA_03', 'num_self_hrefs', 'kw_max_min', 'n_unique_tokens', 'weekday_Saturday', 'title_sentiment_polarity', 'n_tokens_content', 'global_sentiment_polarity', 'abs_title_sentiment_polarity', 'weekday_Sunday', 'num_imgs', 'rate_positive_words', 'data_channel_Social Media', 'n_tokens_title']\n",
            "fixed_perf: 0.10589000174711993\n",
            "성능 개선. best_optional_feature: max_positive_polarity // best_optional_perf: 0.10601916933916955\n",
            "고정 개수: 33\n",
            "fixed_list: ['data_channel_Lifestyle', 'kw_avg_max', 'global_rate_positive_words', 'kw_min_avg', 'data_channel_World', 'min_positive_polarity', 'LDA_00', 'min_negative_polarity', 'num_hrefs', 'LDA_02', 'global_rate_negative_words', 'self_reference_min_shares', 'num_keywords', 'data_channel_Tech', 'LDA_01', 'kw_max_avg', 'self_reference_max_shares', 'LDA_04', 'LDA_03', 'num_self_hrefs', 'kw_max_min', 'n_unique_tokens', 'weekday_Saturday', 'title_sentiment_polarity', 'n_tokens_content', 'global_sentiment_polarity', 'abs_title_sentiment_polarity', 'weekday_Sunday', 'num_imgs', 'rate_positive_words', 'data_channel_Social Media', 'n_tokens_title', 'max_positive_polarity']\n",
            "fixed_perf: 0.10601916933916955\n",
            "성능 개선 불가 1회 추가\n",
            "고정 개수: 33\n",
            "fixed_list: ['data_channel_Lifestyle', 'kw_avg_max', 'global_rate_positive_words', 'kw_min_avg', 'data_channel_World', 'min_positive_polarity', 'LDA_00', 'min_negative_polarity', 'num_hrefs', 'LDA_02', 'global_rate_negative_words', 'self_reference_min_shares', 'num_keywords', 'data_channel_Tech', 'LDA_01', 'kw_max_avg', 'self_reference_max_shares', 'LDA_04', 'LDA_03', 'num_self_hrefs', 'kw_max_min', 'n_unique_tokens', 'weekday_Saturday', 'title_sentiment_polarity', 'n_tokens_content', 'global_sentiment_polarity', 'abs_title_sentiment_polarity', 'weekday_Sunday', 'num_imgs', 'rate_positive_words', 'data_channel_Social Media', 'n_tokens_title', 'max_positive_polarity']\n",
            "fixed_perf: 0.10601916933916955\n",
            "성능 개선 불가 1회 추가\n",
            "고정 개수: 33\n",
            "fixed_list: ['data_channel_Lifestyle', 'kw_avg_max', 'global_rate_positive_words', 'kw_min_avg', 'data_channel_World', 'min_positive_polarity', 'LDA_00', 'min_negative_polarity', 'num_hrefs', 'LDA_02', 'global_rate_negative_words', 'self_reference_min_shares', 'num_keywords', 'data_channel_Tech', 'LDA_01', 'kw_max_avg', 'self_reference_max_shares', 'LDA_04', 'LDA_03', 'num_self_hrefs', 'kw_max_min', 'n_unique_tokens', 'weekday_Saturday', 'title_sentiment_polarity', 'n_tokens_content', 'global_sentiment_polarity', 'abs_title_sentiment_polarity', 'weekday_Sunday', 'num_imgs', 'rate_positive_words', 'data_channel_Social Media', 'n_tokens_title', 'max_positive_polarity']\n",
            "fixed_perf: 0.10601916933916955\n",
            "성능 개선 불가 1회 추가\n",
            "고정 개수: 33\n",
            "fixed_list: ['data_channel_Lifestyle', 'kw_avg_max', 'global_rate_positive_words', 'kw_min_avg', 'data_channel_World', 'min_positive_polarity', 'LDA_00', 'min_negative_polarity', 'num_hrefs', 'LDA_02', 'global_rate_negative_words', 'self_reference_min_shares', 'num_keywords', 'data_channel_Tech', 'LDA_01', 'kw_max_avg', 'self_reference_max_shares', 'LDA_04', 'LDA_03', 'num_self_hrefs', 'kw_max_min', 'n_unique_tokens', 'weekday_Saturday', 'title_sentiment_polarity', 'n_tokens_content', 'global_sentiment_polarity', 'abs_title_sentiment_polarity', 'weekday_Sunday', 'num_imgs', 'rate_positive_words', 'data_channel_Social Media', 'n_tokens_title', 'max_positive_polarity']\n",
            "fixed_perf: 0.10601916933916955\n",
            "3회 이상 성능 개선 불가하여 멈춤.\n",
            "number of features: 33\n",
            "fixed_perf: 0.10601916933916955 / best_optional_perf: 0.10582869151073071\n",
            "N: 21 / got[1]: 0.10601916933916955\n",
            "고정 개수: 31\n",
            "fixed_list: ['data_channel_Lifestyle', 'kw_avg_max', 'global_rate_positive_words', 'kw_min_avg', 'data_channel_World', 'min_positive_polarity', 'LDA_00', 'min_negative_polarity', 'num_hrefs', 'LDA_02', 'global_rate_negative_words', 'self_reference_min_shares', 'num_keywords', 'data_channel_Tech', 'LDA_01', 'kw_max_avg', 'self_reference_max_shares', 'LDA_04', 'LDA_03', 'num_self_hrefs', 'kw_max_min', 'num_videos', 'abs_title_sentiment_polarity', 'rate_positive_words', 'num_imgs', 'global_sentiment_polarity', 'kw_min_max', 'self_reference_avg_sharess', 'data_channel_Entertainment', 'max_negative_polarity', 'average_token_length']\n",
            "fixed_perf: 0.0820953565988567\n",
            "성능 개선. best_optional_feature: n_unique_tokens // best_optional_perf: 0.0946355491274814\n",
            "고정 개수: 32\n",
            "fixed_list: ['data_channel_Lifestyle', 'kw_avg_max', 'global_rate_positive_words', 'kw_min_avg', 'data_channel_World', 'min_positive_polarity', 'LDA_00', 'min_negative_polarity', 'num_hrefs', 'LDA_02', 'global_rate_negative_words', 'self_reference_min_shares', 'num_keywords', 'data_channel_Tech', 'LDA_01', 'kw_max_avg', 'self_reference_max_shares', 'LDA_04', 'LDA_03', 'num_self_hrefs', 'kw_max_min', 'num_videos', 'abs_title_sentiment_polarity', 'rate_positive_words', 'num_imgs', 'global_sentiment_polarity', 'kw_min_max', 'self_reference_avg_sharess', 'data_channel_Entertainment', 'max_negative_polarity', 'average_token_length', 'n_unique_tokens']\n",
            "fixed_perf: 0.0946355491274814\n",
            "성능 개선. best_optional_feature: title_sentiment_polarity // best_optional_perf: 0.10016926606766774\n",
            "고정 개수: 33\n",
            "fixed_list: ['data_channel_Lifestyle', 'kw_avg_max', 'global_rate_positive_words', 'kw_min_avg', 'data_channel_World', 'min_positive_polarity', 'LDA_00', 'min_negative_polarity', 'num_hrefs', 'LDA_02', 'global_rate_negative_words', 'self_reference_min_shares', 'num_keywords', 'data_channel_Tech', 'LDA_01', 'kw_max_avg', 'self_reference_max_shares', 'LDA_04', 'LDA_03', 'num_self_hrefs', 'kw_max_min', 'num_videos', 'abs_title_sentiment_polarity', 'rate_positive_words', 'num_imgs', 'global_sentiment_polarity', 'kw_min_max', 'self_reference_avg_sharess', 'data_channel_Entertainment', 'max_negative_polarity', 'average_token_length', 'n_unique_tokens', 'title_sentiment_polarity']\n",
            "fixed_perf: 0.10016926606766774\n",
            "성능 개선. best_optional_feature: weekday_Saturday // best_optional_perf: 0.10255335064091187\n",
            "고정 개수: 34\n",
            "fixed_list: ['data_channel_Lifestyle', 'kw_avg_max', 'global_rate_positive_words', 'kw_min_avg', 'data_channel_World', 'min_positive_polarity', 'LDA_00', 'min_negative_polarity', 'num_hrefs', 'LDA_02', 'global_rate_negative_words', 'self_reference_min_shares', 'num_keywords', 'data_channel_Tech', 'LDA_01', 'kw_max_avg', 'self_reference_max_shares', 'LDA_04', 'LDA_03', 'num_self_hrefs', 'kw_max_min', 'num_videos', 'abs_title_sentiment_polarity', 'rate_positive_words', 'num_imgs', 'global_sentiment_polarity', 'kw_min_max', 'self_reference_avg_sharess', 'data_channel_Entertainment', 'max_negative_polarity', 'average_token_length', 'n_unique_tokens', 'title_sentiment_polarity', 'weekday_Saturday']\n",
            "fixed_perf: 0.10255335064091187\n",
            "성능 개선. best_optional_feature: n_tokens_content // best_optional_perf: 0.10452421009158797\n",
            "고정 개수: 35\n",
            "fixed_list: ['data_channel_Lifestyle', 'kw_avg_max', 'global_rate_positive_words', 'kw_min_avg', 'data_channel_World', 'min_positive_polarity', 'LDA_00', 'min_negative_polarity', 'num_hrefs', 'LDA_02', 'global_rate_negative_words', 'self_reference_min_shares', 'num_keywords', 'data_channel_Tech', 'LDA_01', 'kw_max_avg', 'self_reference_max_shares', 'LDA_04', 'LDA_03', 'num_self_hrefs', 'kw_max_min', 'num_videos', 'abs_title_sentiment_polarity', 'rate_positive_words', 'num_imgs', 'global_sentiment_polarity', 'kw_min_max', 'self_reference_avg_sharess', 'data_channel_Entertainment', 'max_negative_polarity', 'average_token_length', 'n_unique_tokens', 'title_sentiment_polarity', 'weekday_Saturday', 'n_tokens_content']\n",
            "fixed_perf: 0.10452421009158797\n",
            "성능 개선. best_optional_feature: n_tokens_title // best_optional_perf: 0.10464516399847346\n",
            "고정 개수: 36\n",
            "fixed_list: ['data_channel_Lifestyle', 'kw_avg_max', 'global_rate_positive_words', 'kw_min_avg', 'data_channel_World', 'min_positive_polarity', 'LDA_00', 'min_negative_polarity', 'num_hrefs', 'LDA_02', 'global_rate_negative_words', 'self_reference_min_shares', 'num_keywords', 'data_channel_Tech', 'LDA_01', 'kw_max_avg', 'self_reference_max_shares', 'LDA_04', 'LDA_03', 'num_self_hrefs', 'kw_max_min', 'num_videos', 'abs_title_sentiment_polarity', 'rate_positive_words', 'num_imgs', 'global_sentiment_polarity', 'kw_min_max', 'self_reference_avg_sharess', 'data_channel_Entertainment', 'max_negative_polarity', 'average_token_length', 'n_unique_tokens', 'title_sentiment_polarity', 'weekday_Saturday', 'n_tokens_content', 'n_tokens_title']\n",
            "fixed_perf: 0.10464516399847346\n",
            "성능 개선. best_optional_feature: max_positive_polarity // best_optional_perf: 0.10477958236099227\n",
            "고정 개수: 37\n",
            "fixed_list: ['data_channel_Lifestyle', 'kw_avg_max', 'global_rate_positive_words', 'kw_min_avg', 'data_channel_World', 'min_positive_polarity', 'LDA_00', 'min_negative_polarity', 'num_hrefs', 'LDA_02', 'global_rate_negative_words', 'self_reference_min_shares', 'num_keywords', 'data_channel_Tech', 'LDA_01', 'kw_max_avg', 'self_reference_max_shares', 'LDA_04', 'LDA_03', 'num_self_hrefs', 'kw_max_min', 'num_videos', 'abs_title_sentiment_polarity', 'rate_positive_words', 'num_imgs', 'global_sentiment_polarity', 'kw_min_max', 'self_reference_avg_sharess', 'data_channel_Entertainment', 'max_negative_polarity', 'average_token_length', 'n_unique_tokens', 'title_sentiment_polarity', 'weekday_Saturday', 'n_tokens_content', 'n_tokens_title', 'max_positive_polarity']\n",
            "fixed_perf: 0.10477958236099227\n",
            "성능 개선. best_optional_feature: weekday_Sunday // best_optional_perf: 0.10481977094985406\n",
            "고정 개수: 38\n",
            "fixed_list: ['data_channel_Lifestyle', 'kw_avg_max', 'global_rate_positive_words', 'kw_min_avg', 'data_channel_World', 'min_positive_polarity', 'LDA_00', 'min_negative_polarity', 'num_hrefs', 'LDA_02', 'global_rate_negative_words', 'self_reference_min_shares', 'num_keywords', 'data_channel_Tech', 'LDA_01', 'kw_max_avg', 'self_reference_max_shares', 'LDA_04', 'LDA_03', 'num_self_hrefs', 'kw_max_min', 'num_videos', 'abs_title_sentiment_polarity', 'rate_positive_words', 'num_imgs', 'global_sentiment_polarity', 'kw_min_max', 'self_reference_avg_sharess', 'data_channel_Entertainment', 'max_negative_polarity', 'average_token_length', 'n_unique_tokens', 'title_sentiment_polarity', 'weekday_Saturday', 'n_tokens_content', 'n_tokens_title', 'max_positive_polarity', 'weekday_Sunday']\n",
            "fixed_perf: 0.10481977094985406\n",
            "성능 개선. best_optional_feature: data_channel_Social Media // best_optional_perf: 0.10482444877176966\n",
            "고정 개수: 39\n",
            "fixed_list: ['data_channel_Lifestyle', 'kw_avg_max', 'global_rate_positive_words', 'kw_min_avg', 'data_channel_World', 'min_positive_polarity', 'LDA_00', 'min_negative_polarity', 'num_hrefs', 'LDA_02', 'global_rate_negative_words', 'self_reference_min_shares', 'num_keywords', 'data_channel_Tech', 'LDA_01', 'kw_max_avg', 'self_reference_max_shares', 'LDA_04', 'LDA_03', 'num_self_hrefs', 'kw_max_min', 'num_videos', 'abs_title_sentiment_polarity', 'rate_positive_words', 'num_imgs', 'global_sentiment_polarity', 'kw_min_max', 'self_reference_avg_sharess', 'data_channel_Entertainment', 'max_negative_polarity', 'average_token_length', 'n_unique_tokens', 'title_sentiment_polarity', 'weekday_Saturday', 'n_tokens_content', 'n_tokens_title', 'max_positive_polarity', 'weekday_Sunday', 'data_channel_Social Media']\n",
            "fixed_perf: 0.10482444877176966\n",
            "성능 개선 불가 1회 추가\n",
            "고정 개수: 39\n",
            "fixed_list: ['data_channel_Lifestyle', 'kw_avg_max', 'global_rate_positive_words', 'kw_min_avg', 'data_channel_World', 'min_positive_polarity', 'LDA_00', 'min_negative_polarity', 'num_hrefs', 'LDA_02', 'global_rate_negative_words', 'self_reference_min_shares', 'num_keywords', 'data_channel_Tech', 'LDA_01', 'kw_max_avg', 'self_reference_max_shares', 'LDA_04', 'LDA_03', 'num_self_hrefs', 'kw_max_min', 'num_videos', 'abs_title_sentiment_polarity', 'rate_positive_words', 'num_imgs', 'global_sentiment_polarity', 'kw_min_max', 'self_reference_avg_sharess', 'data_channel_Entertainment', 'max_negative_polarity', 'average_token_length', 'n_unique_tokens', 'title_sentiment_polarity', 'weekday_Saturday', 'n_tokens_content', 'n_tokens_title', 'max_positive_polarity', 'weekday_Sunday', 'data_channel_Social Media']\n",
            "fixed_perf: 0.10482444877176966\n",
            "성능 개선 불가 1회 추가\n",
            "고정 개수: 39\n",
            "fixed_list: ['data_channel_Lifestyle', 'kw_avg_max', 'global_rate_positive_words', 'kw_min_avg', 'data_channel_World', 'min_positive_polarity', 'LDA_00', 'min_negative_polarity', 'num_hrefs', 'LDA_02', 'global_rate_negative_words', 'self_reference_min_shares', 'num_keywords', 'data_channel_Tech', 'LDA_01', 'kw_max_avg', 'self_reference_max_shares', 'LDA_04', 'LDA_03', 'num_self_hrefs', 'kw_max_min', 'num_videos', 'abs_title_sentiment_polarity', 'rate_positive_words', 'num_imgs', 'global_sentiment_polarity', 'kw_min_max', 'self_reference_avg_sharess', 'data_channel_Entertainment', 'max_negative_polarity', 'average_token_length', 'n_unique_tokens', 'title_sentiment_polarity', 'weekday_Saturday', 'n_tokens_content', 'n_tokens_title', 'max_positive_polarity', 'weekday_Sunday', 'data_channel_Social Media']\n",
            "fixed_perf: 0.10482444877176966\n",
            "성능 개선 불가 1회 추가\n",
            "고정 개수: 39\n",
            "fixed_list: ['data_channel_Lifestyle', 'kw_avg_max', 'global_rate_positive_words', 'kw_min_avg', 'data_channel_World', 'min_positive_polarity', 'LDA_00', 'min_negative_polarity', 'num_hrefs', 'LDA_02', 'global_rate_negative_words', 'self_reference_min_shares', 'num_keywords', 'data_channel_Tech', 'LDA_01', 'kw_max_avg', 'self_reference_max_shares', 'LDA_04', 'LDA_03', 'num_self_hrefs', 'kw_max_min', 'num_videos', 'abs_title_sentiment_polarity', 'rate_positive_words', 'num_imgs', 'global_sentiment_polarity', 'kw_min_max', 'self_reference_avg_sharess', 'data_channel_Entertainment', 'max_negative_polarity', 'average_token_length', 'n_unique_tokens', 'title_sentiment_polarity', 'weekday_Saturday', 'n_tokens_content', 'n_tokens_title', 'max_positive_polarity', 'weekday_Sunday', 'data_channel_Social Media']\n",
            "fixed_perf: 0.10482444877176966\n",
            "3회 이상 성능 개선 불가하여 멈춤.\n",
            "number of features: 39\n",
            "fixed_perf: 0.10482444877176966 / best_optional_perf: 0.1046856825100565\n",
            "N: 31 / got[1]: 0.10482444877176966\n",
            "\n",
            "best_perf_subset = 1\n",
            "best_perf[1] = 0.10917480240207988\n"
          ]
        }
      ]
    },
    {
      "cell_type": "code",
      "source": [
        "# 각 N에 대한 forward selection 결과를 판다스 데이터프레임으로 만들어서 출력\n",
        "perf_list = [(k, v[1]) for k, v in results_dict.items()]\n",
        "df_perf = pd.DataFrame(perf_list, columns=['N', 'performance'])\n",
        "print(df_perf)"
      ],
      "metadata": {
        "colab": {
          "base_uri": "https://localhost:8080/"
        },
        "id": "7TMQPwbnNIFe",
        "outputId": "56ef57e6-8bf9-4490-efd2-04311afdd991"
      },
      "execution_count": 43,
      "outputs": [
        {
          "output_type": "stream",
          "name": "stdout",
          "text": [
            "    N  performance\n",
            "0   1     0.109175\n",
            "1   6     0.108825\n",
            "2  13     0.107489\n",
            "3  21     0.106019\n",
            "4  31     0.104824\n"
          ]
        }
      ]
    },
    {
      "cell_type": "code",
      "source": [
        "# 가장 좋은 성능의 subset(list) 출력\n",
        "results_dict[best_perf_subset][0]"
      ],
      "metadata": {
        "colab": {
          "base_uri": "https://localhost:8080/"
        },
        "id": "3DPy0EytQ4zH",
        "outputId": "eed02078-395c-4faa-8525-5feac86e7bd5"
      },
      "execution_count": 44,
      "outputs": [
        {
          "output_type": "execute_result",
          "data": {
            "text/plain": [
              "['data_channel_Lifestyle',\n",
              " 'self_reference_max_shares',\n",
              " 'n_unique_tokens',\n",
              " 'abs_title_sentiment_polarity',\n",
              " 'avg_positive_polarity',\n",
              " 'title_sentiment_polarity',\n",
              " 'data_channel_World',\n",
              " 'LDA_04',\n",
              " 'weekday_Saturday',\n",
              " 'kw_max_avg',\n",
              " 'LDA_02',\n",
              " 'global_sentiment_polarity',\n",
              " 'global_rate_positive_words',\n",
              " 'n_tokens_content',\n",
              " 'kw_max_min',\n",
              " 'num_hrefs',\n",
              " 'num_videos',\n",
              " 'n_tokens_title',\n",
              " 'max_positive_polarity',\n",
              " 'data_channel_Social Media',\n",
              " 'weekday_Sunday']"
            ]
          },
          "metadata": {},
          "execution_count": 44
        }
      ]
    }
  ]
}